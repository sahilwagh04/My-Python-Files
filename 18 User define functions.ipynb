{
 "cells": [
  {
   "cell_type": "markdown",
   "id": "a5c0fd03",
   "metadata": {},
   "source": [
    "## Build in funtions"
   ]
  },
  {
   "cell_type": "code",
   "execution_count": 1,
   "id": "d0b762a5",
   "metadata": {},
   "outputs": [
    {
     "data": {
      "text/plain": [
       "123"
      ]
     },
     "execution_count": 1,
     "metadata": {},
     "output_type": "execute_result"
    }
   ],
   "source": [
    "#absolute value\n",
    "a=-123\n",
    "abs(a)"
   ]
  },
  {
   "cell_type": "code",
   "execution_count": 1,
   "id": "f62bd45f",
   "metadata": {},
   "outputs": [],
   "source": [
    "def absolute(n):\n",
    "    a=str(n)\n",
    "    if \"-\" in a:\n",
    "        print(a[1:])\n",
    "    else:\n",
    "        print(n)"
   ]
  },
  {
   "cell_type": "code",
   "execution_count": 4,
   "id": "414c59d0",
   "metadata": {},
   "outputs": [
    {
     "name": "stdout",
     "output_type": "stream",
     "text": [
      "9\n"
     ]
    }
   ],
   "source": [
    "absolute(-9)"
   ]
  },
  {
   "cell_type": "code",
   "execution_count": 5,
   "id": "6dd24f54",
   "metadata": {},
   "outputs": [
    {
     "data": {
      "text/plain": [
       "243"
      ]
     },
     "execution_count": 5,
     "metadata": {},
     "output_type": "execute_result"
    }
   ],
   "source": [
    "#Power\n",
    "pow(3,5)"
   ]
  },
  {
   "cell_type": "code",
   "execution_count": 6,
   "id": "cacce4da",
   "metadata": {},
   "outputs": [],
   "source": [
    "import math"
   ]
  },
  {
   "cell_type": "code",
   "execution_count": 7,
   "id": "0d8d9752",
   "metadata": {},
   "outputs": [
    {
     "name": "stdout",
     "output_type": "stream",
     "text": [
      "['__doc__', '__loader__', '__name__', '__package__', '__spec__', 'acos', 'acosh', 'asin', 'asinh', 'atan', 'atan2', 'atanh', 'cbrt', 'ceil', 'comb', 'copysign', 'cos', 'cosh', 'degrees', 'dist', 'e', 'erf', 'erfc', 'exp', 'exp2', 'expm1', 'fabs', 'factorial', 'floor', 'fmod', 'frexp', 'fsum', 'gamma', 'gcd', 'hypot', 'inf', 'isclose', 'isfinite', 'isinf', 'isnan', 'isqrt', 'lcm', 'ldexp', 'lgamma', 'log', 'log10', 'log1p', 'log2', 'modf', 'nan', 'nextafter', 'perm', 'pi', 'pow', 'prod', 'radians', 'remainder', 'sin', 'sinh', 'sqrt', 'tan', 'tanh', 'tau', 'trunc', 'ulp']\n"
     ]
    }
   ],
   "source": [
    "print(dir(math))"
   ]
  },
  {
   "cell_type": "code",
   "execution_count": 2,
   "id": "f9e63452",
   "metadata": {},
   "outputs": [
    {
     "name": "stdout",
     "output_type": "stream",
     "text": [
      "1235\n"
     ]
    },
    {
     "data": {
      "text/plain": [
       "1235"
      ]
     },
     "execution_count": 2,
     "metadata": {},
     "output_type": "execute_result"
    }
   ],
   "source": [
    "#Round function\n",
    "\n",
    "a=1234.87\n",
    "print(round(a))\n",
    "#or\n",
    "round(a)"
   ]
  },
  {
   "cell_type": "code",
   "execution_count": 4,
   "id": "0db0ab16",
   "metadata": {},
   "outputs": [
    {
     "data": {
      "text/plain": [
       "1536244389552"
      ]
     },
     "execution_count": 4,
     "metadata": {},
     "output_type": "execute_result"
    }
   ],
   "source": [
    "id(a)"
   ]
  },
  {
   "cell_type": "code",
   "execution_count": 13,
   "id": "0b00cf5b",
   "metadata": {},
   "outputs": [
    {
     "data": {
      "text/plain": [
       "(2, 0)"
      ]
     },
     "execution_count": 13,
     "metadata": {},
     "output_type": "execute_result"
    }
   ],
   "source": [
    "a=12\n",
    "b=6\n",
    "divmod(a,b)"
   ]
  },
  {
   "cell_type": "code",
   "execution_count": 19,
   "id": "6067ba19",
   "metadata": {},
   "outputs": [
    {
     "data": {
      "text/plain": [
       "99"
      ]
     },
     "execution_count": 19,
     "metadata": {},
     "output_type": "execute_result"
    }
   ],
   "source": [
    "ord(\"c\")"
   ]
  },
  {
   "cell_type": "code",
   "execution_count": 16,
   "id": "fd047f7a",
   "metadata": {},
   "outputs": [
    {
     "name": "stdout",
     "output_type": "stream",
     "text": [
      "Help on built-in function print in module builtins:\n",
      "\n",
      "print(*args, sep=' ', end='\\n', file=None, flush=False)\n",
      "    Prints the values to a stream, or to sys.stdout by default.\n",
      "    \n",
      "    sep\n",
      "      string inserted between values, default a space.\n",
      "    end\n",
      "      string appended after the last value, default a newline.\n",
      "    file\n",
      "      a file-like object (stream); defaults to the current sys.stdout.\n",
      "    flush\n",
      "      whether to forcibly flush the stream.\n",
      "\n"
     ]
    }
   ],
   "source": [
    "help(print)"
   ]
  },
  {
   "cell_type": "code",
   "execution_count": 17,
   "id": "85d3c554",
   "metadata": {},
   "outputs": [
    {
     "name": "stdout",
     "output_type": "stream",
     "text": [
      "Help on class type in module builtins:\n",
      "\n",
      "class type(object)\n",
      " |  type(object) -> the object's type\n",
      " |  type(name, bases, dict, **kwds) -> a new type\n",
      " |  \n",
      " |  Methods defined here:\n",
      " |  \n",
      " |  __call__(self, /, *args, **kwargs)\n",
      " |      Call self as a function.\n",
      " |  \n",
      " |  __delattr__(self, name, /)\n",
      " |      Implement delattr(self, name).\n",
      " |  \n",
      " |  __dir__(self, /)\n",
      " |      Specialized __dir__ implementation for types.\n",
      " |  \n",
      " |  __getattribute__(self, name, /)\n",
      " |      Return getattr(self, name).\n",
      " |  \n",
      " |  __init__(self, /, *args, **kwargs)\n",
      " |      Initialize self.  See help(type(self)) for accurate signature.\n",
      " |  \n",
      " |  __instancecheck__(self, instance, /)\n",
      " |      Check if an object is an instance.\n",
      " |  \n",
      " |  __or__(self, value, /)\n",
      " |      Return self|value.\n",
      " |  \n",
      " |  __repr__(self, /)\n",
      " |      Return repr(self).\n",
      " |  \n",
      " |  __ror__(self, value, /)\n",
      " |      Return value|self.\n",
      " |  \n",
      " |  __setattr__(self, name, value, /)\n",
      " |      Implement setattr(self, name, value).\n",
      " |  \n",
      " |  __sizeof__(self, /)\n",
      " |      Return memory consumption of the type object.\n",
      " |  \n",
      " |  __subclasscheck__(self, subclass, /)\n",
      " |      Check if a class is a subclass.\n",
      " |  \n",
      " |  __subclasses__(self, /)\n",
      " |      Return a list of immediate subclasses.\n",
      " |  \n",
      " |  mro(self, /)\n",
      " |      Return a type's method resolution order.\n",
      " |  \n",
      " |  ----------------------------------------------------------------------\n",
      " |  Class methods defined here:\n",
      " |  \n",
      " |  __prepare__(...)\n",
      " |      __prepare__() -> dict\n",
      " |      used to create the namespace for the class statement\n",
      " |  \n",
      " |  ----------------------------------------------------------------------\n",
      " |  Static methods defined here:\n",
      " |  \n",
      " |  __new__(*args, **kwargs)\n",
      " |      Create and return a new object.  See help(type) for accurate signature.\n",
      " |  \n",
      " |  ----------------------------------------------------------------------\n",
      " |  Data descriptors defined here:\n",
      " |  \n",
      " |  __abstractmethods__\n",
      " |  \n",
      " |  __annotations__\n",
      " |  \n",
      " |  __dict__\n",
      " |  \n",
      " |  __text_signature__\n",
      " |  \n",
      " |  ----------------------------------------------------------------------\n",
      " |  Data and other attributes defined here:\n",
      " |  \n",
      " |  __base__ = <class 'object'>\n",
      " |      The base class of the class hierarchy.\n",
      " |      \n",
      " |      When called, it accepts no arguments and returns a new featureless\n",
      " |      instance that has no instance attributes and cannot be given any.\n",
      " |  \n",
      " |  \n",
      " |  __bases__ = (<class 'object'>,)\n",
      " |  \n",
      " |  __basicsize__ = 904\n",
      " |  \n",
      " |  __dictoffset__ = 264\n",
      " |  \n",
      " |  __flags__ = 2148031744\n",
      " |  \n",
      " |  __itemsize__ = 40\n",
      " |  \n",
      " |  __mro__ = (<class 'type'>, <class 'object'>)\n",
      " |  \n",
      " |  __weakrefoffset__ = 368\n",
      "\n"
     ]
    }
   ],
   "source": [
    "help(type)"
   ]
  },
  {
   "cell_type": "code",
   "execution_count": 18,
   "id": "30e1935c",
   "metadata": {},
   "outputs": [
    {
     "name": "stdout",
     "output_type": "stream",
     "text": [
      "Help on built-in module math:\n",
      "\n",
      "NAME\n",
      "    math\n",
      "\n",
      "DESCRIPTION\n",
      "    This module provides access to the mathematical functions\n",
      "    defined by the C standard.\n",
      "\n",
      "FUNCTIONS\n",
      "    acos(x, /)\n",
      "        Return the arc cosine (measured in radians) of x.\n",
      "        \n",
      "        The result is between 0 and pi.\n",
      "    \n",
      "    acosh(x, /)\n",
      "        Return the inverse hyperbolic cosine of x.\n",
      "    \n",
      "    asin(x, /)\n",
      "        Return the arc sine (measured in radians) of x.\n",
      "        \n",
      "        The result is between -pi/2 and pi/2.\n",
      "    \n",
      "    asinh(x, /)\n",
      "        Return the inverse hyperbolic sine of x.\n",
      "    \n",
      "    atan(x, /)\n",
      "        Return the arc tangent (measured in radians) of x.\n",
      "        \n",
      "        The result is between -pi/2 and pi/2.\n",
      "    \n",
      "    atan2(y, x, /)\n",
      "        Return the arc tangent (measured in radians) of y/x.\n",
      "        \n",
      "        Unlike atan(y/x), the signs of both x and y are considered.\n",
      "    \n",
      "    atanh(x, /)\n",
      "        Return the inverse hyperbolic tangent of x.\n",
      "    \n",
      "    cbrt(x, /)\n",
      "        Return the cube root of x.\n",
      "    \n",
      "    ceil(x, /)\n",
      "        Return the ceiling of x as an Integral.\n",
      "        \n",
      "        This is the smallest integer >= x.\n",
      "    \n",
      "    comb(n, k, /)\n",
      "        Number of ways to choose k items from n items without repetition and without order.\n",
      "        \n",
      "        Evaluates to n! / (k! * (n - k)!) when k <= n and evaluates\n",
      "        to zero when k > n.\n",
      "        \n",
      "        Also called the binomial coefficient because it is equivalent\n",
      "        to the coefficient of k-th term in polynomial expansion of the\n",
      "        expression (1 + x)**n.\n",
      "        \n",
      "        Raises TypeError if either of the arguments are not integers.\n",
      "        Raises ValueError if either of the arguments are negative.\n",
      "    \n",
      "    copysign(x, y, /)\n",
      "        Return a float with the magnitude (absolute value) of x but the sign of y.\n",
      "        \n",
      "        On platforms that support signed zeros, copysign(1.0, -0.0)\n",
      "        returns -1.0.\n",
      "    \n",
      "    cos(x, /)\n",
      "        Return the cosine of x (measured in radians).\n",
      "    \n",
      "    cosh(x, /)\n",
      "        Return the hyperbolic cosine of x.\n",
      "    \n",
      "    degrees(x, /)\n",
      "        Convert angle x from radians to degrees.\n",
      "    \n",
      "    dist(p, q, /)\n",
      "        Return the Euclidean distance between two points p and q.\n",
      "        \n",
      "        The points should be specified as sequences (or iterables) of\n",
      "        coordinates.  Both inputs must have the same dimension.\n",
      "        \n",
      "        Roughly equivalent to:\n",
      "            sqrt(sum((px - qx) ** 2.0 for px, qx in zip(p, q)))\n",
      "    \n",
      "    erf(x, /)\n",
      "        Error function at x.\n",
      "    \n",
      "    erfc(x, /)\n",
      "        Complementary error function at x.\n",
      "    \n",
      "    exp(x, /)\n",
      "        Return e raised to the power of x.\n",
      "    \n",
      "    exp2(x, /)\n",
      "        Return 2 raised to the power of x.\n",
      "    \n",
      "    expm1(x, /)\n",
      "        Return exp(x)-1.\n",
      "        \n",
      "        This function avoids the loss of precision involved in the direct evaluation of exp(x)-1 for small x.\n",
      "    \n",
      "    fabs(x, /)\n",
      "        Return the absolute value of the float x.\n",
      "    \n",
      "    factorial(n, /)\n",
      "        Find n!.\n",
      "        \n",
      "        Raise a ValueError if x is negative or non-integral.\n",
      "    \n",
      "    floor(x, /)\n",
      "        Return the floor of x as an Integral.\n",
      "        \n",
      "        This is the largest integer <= x.\n",
      "    \n",
      "    fmod(x, y, /)\n",
      "        Return fmod(x, y), according to platform C.\n",
      "        \n",
      "        x % y may differ.\n",
      "    \n",
      "    frexp(x, /)\n",
      "        Return the mantissa and exponent of x, as pair (m, e).\n",
      "        \n",
      "        m is a float and e is an int, such that x = m * 2.**e.\n",
      "        If x is 0, m and e are both 0.  Else 0.5 <= abs(m) < 1.0.\n",
      "    \n",
      "    fsum(seq, /)\n",
      "        Return an accurate floating point sum of values in the iterable seq.\n",
      "        \n",
      "        Assumes IEEE-754 floating point arithmetic.\n",
      "    \n",
      "    gamma(x, /)\n",
      "        Gamma function at x.\n",
      "    \n",
      "    gcd(*integers)\n",
      "        Greatest Common Divisor.\n",
      "    \n",
      "    hypot(...)\n",
      "        hypot(*coordinates) -> value\n",
      "        \n",
      "        Multidimensional Euclidean distance from the origin to a point.\n",
      "        \n",
      "        Roughly equivalent to:\n",
      "            sqrt(sum(x**2 for x in coordinates))\n",
      "        \n",
      "        For a two dimensional point (x, y), gives the hypotenuse\n",
      "        using the Pythagorean theorem:  sqrt(x*x + y*y).\n",
      "        \n",
      "        For example, the hypotenuse of a 3/4/5 right triangle is:\n",
      "        \n",
      "            >>> hypot(3.0, 4.0)\n",
      "            5.0\n",
      "    \n",
      "    isclose(a, b, *, rel_tol=1e-09, abs_tol=0.0)\n",
      "        Determine whether two floating point numbers are close in value.\n",
      "        \n",
      "          rel_tol\n",
      "            maximum difference for being considered \"close\", relative to the\n",
      "            magnitude of the input values\n",
      "          abs_tol\n",
      "            maximum difference for being considered \"close\", regardless of the\n",
      "            magnitude of the input values\n",
      "        \n",
      "        Return True if a is close in value to b, and False otherwise.\n",
      "        \n",
      "        For the values to be considered close, the difference between them\n",
      "        must be smaller than at least one of the tolerances.\n",
      "        \n",
      "        -inf, inf and NaN behave similarly to the IEEE 754 Standard.  That\n",
      "        is, NaN is not close to anything, even itself.  inf and -inf are\n",
      "        only close to themselves.\n",
      "    \n",
      "    isfinite(x, /)\n",
      "        Return True if x is neither an infinity nor a NaN, and False otherwise.\n",
      "    \n",
      "    isinf(x, /)\n",
      "        Return True if x is a positive or negative infinity, and False otherwise.\n",
      "    \n",
      "    isnan(x, /)\n",
      "        Return True if x is a NaN (not a number), and False otherwise.\n",
      "    \n",
      "    isqrt(n, /)\n",
      "        Return the integer part of the square root of the input.\n",
      "    \n",
      "    lcm(*integers)\n",
      "        Least Common Multiple.\n",
      "    \n",
      "    ldexp(x, i, /)\n",
      "        Return x * (2**i).\n",
      "        \n",
      "        This is essentially the inverse of frexp().\n",
      "    \n",
      "    lgamma(x, /)\n",
      "        Natural logarithm of absolute value of Gamma function at x.\n",
      "    \n",
      "    log(...)\n",
      "        log(x, [base=math.e])\n",
      "        Return the logarithm of x to the given base.\n",
      "        \n",
      "        If the base not specified, returns the natural logarithm (base e) of x.\n",
      "    \n",
      "    log10(x, /)\n",
      "        Return the base 10 logarithm of x.\n",
      "    \n",
      "    log1p(x, /)\n",
      "        Return the natural logarithm of 1+x (base e).\n",
      "        \n",
      "        The result is computed in a way which is accurate for x near zero.\n",
      "    \n",
      "    log2(x, /)\n",
      "        Return the base 2 logarithm of x.\n",
      "    \n",
      "    modf(x, /)\n",
      "        Return the fractional and integer parts of x.\n",
      "        \n",
      "        Both results carry the sign of x and are floats.\n",
      "    \n",
      "    nextafter(x, y, /)\n",
      "        Return the next floating-point value after x towards y.\n",
      "    \n",
      "    perm(n, k=None, /)\n",
      "        Number of ways to choose k items from n items without repetition and with order.\n",
      "        \n",
      "        Evaluates to n! / (n - k)! when k <= n and evaluates\n",
      "        to zero when k > n.\n",
      "        \n",
      "        If k is not specified or is None, then k defaults to n\n",
      "        and the function returns n!.\n",
      "        \n",
      "        Raises TypeError if either of the arguments are not integers.\n",
      "        Raises ValueError if either of the arguments are negative.\n",
      "    \n",
      "    pow(x, y, /)\n",
      "        Return x**y (x to the power of y).\n",
      "    \n",
      "    prod(iterable, /, *, start=1)\n",
      "        Calculate the product of all the elements in the input iterable.\n",
      "        \n",
      "        The default start value for the product is 1.\n",
      "        \n",
      "        When the iterable is empty, return the start value.  This function is\n",
      "        intended specifically for use with numeric values and may reject\n",
      "        non-numeric types.\n",
      "    \n",
      "    radians(x, /)\n",
      "        Convert angle x from degrees to radians.\n",
      "    \n",
      "    remainder(x, y, /)\n",
      "        Difference between x and the closest integer multiple of y.\n",
      "        \n",
      "        Return x - n*y where n*y is the closest integer multiple of y.\n",
      "        In the case where x is exactly halfway between two multiples of\n",
      "        y, the nearest even value of n is used. The result is always exact.\n",
      "    \n",
      "    sin(x, /)\n",
      "        Return the sine of x (measured in radians).\n",
      "    \n",
      "    sinh(x, /)\n",
      "        Return the hyperbolic sine of x.\n",
      "    \n",
      "    sqrt(x, /)\n",
      "        Return the square root of x.\n",
      "    \n",
      "    tan(x, /)\n",
      "        Return the tangent of x (measured in radians).\n",
      "    \n",
      "    tanh(x, /)\n",
      "        Return the hyperbolic tangent of x.\n",
      "    \n",
      "    trunc(x, /)\n",
      "        Truncates the Real x to the nearest Integral toward 0.\n",
      "        \n",
      "        Uses the __trunc__ magic method.\n",
      "    \n",
      "    ulp(x, /)\n",
      "        Return the value of the least significant bit of the float x.\n",
      "\n",
      "DATA\n",
      "    e = 2.718281828459045\n",
      "    inf = inf\n",
      "    nan = nan\n",
      "    pi = 3.141592653589793\n",
      "    tau = 6.283185307179586\n",
      "\n",
      "FILE\n",
      "    (built-in)\n",
      "\n",
      "\n"
     ]
    }
   ],
   "source": [
    "help(math)"
   ]
  },
  {
   "cell_type": "code",
   "execution_count": 9,
   "id": "889f2005",
   "metadata": {},
   "outputs": [],
   "source": [
    "def sum1():\n",
    "    a=23\n",
    "    b=45\n",
    "    c=a+b\n",
    "    return(c)"
   ]
  },
  {
   "cell_type": "code",
   "execution_count": 10,
   "id": "27663703",
   "metadata": {},
   "outputs": [
    {
     "data": {
      "text/plain": [
       "68"
      ]
     },
     "execution_count": 10,
     "metadata": {},
     "output_type": "execute_result"
    }
   ],
   "source": [
    "sum1()"
   ]
  },
  {
   "cell_type": "code",
   "execution_count": 24,
   "id": "d677fc37",
   "metadata": {},
   "outputs": [],
   "source": [
    "def mult():\n",
    "    a=45\n",
    "    b=23\n",
    "    c=a*b\n",
    "    print(c)"
   ]
  },
  {
   "cell_type": "code",
   "execution_count": 25,
   "id": "b4938406",
   "metadata": {},
   "outputs": [
    {
     "name": "stdout",
     "output_type": "stream",
     "text": [
      "1035\n"
     ]
    }
   ],
   "source": [
    "mult()"
   ]
  },
  {
   "cell_type": "markdown",
   "id": "e31e133b",
   "metadata": {},
   "source": [
    "## Function without return and without parameter"
   ]
  },
  {
   "cell_type": "code",
   "execution_count": 7,
   "id": "8fd879e8",
   "metadata": {},
   "outputs": [],
   "source": [
    "def mult():\n",
    "    x=45\n",
    "    y=23\n",
    "    z=x*y\n",
    "    print(z)"
   ]
  },
  {
   "cell_type": "code",
   "execution_count": 8,
   "id": "72e57d20",
   "metadata": {},
   "outputs": [
    {
     "name": "stdout",
     "output_type": "stream",
     "text": [
      "1035\n"
     ]
    }
   ],
   "source": [
    "mult()"
   ]
  },
  {
   "cell_type": "markdown",
   "id": "49f8f62c",
   "metadata": {},
   "source": [
    "## Functions without return and with parameter"
   ]
  },
  {
   "cell_type": "code",
   "execution_count": 11,
   "id": "5544e7ee",
   "metadata": {},
   "outputs": [],
   "source": [
    "def mult(a,b):\n",
    "    c=a*b\n",
    "    print(c)"
   ]
  },
  {
   "cell_type": "code",
   "execution_count": 12,
   "id": "0469e9df",
   "metadata": {},
   "outputs": [
    {
     "name": "stdout",
     "output_type": "stream",
     "text": [
      "40\n"
     ]
    }
   ],
   "source": [
    "mult(5,8)"
   ]
  },
  {
   "cell_type": "markdown",
   "id": "56f4fd7f",
   "metadata": {},
   "source": [
    "## Function with return and without parameter"
   ]
  },
  {
   "cell_type": "code",
   "execution_count": 13,
   "id": "12970fd8",
   "metadata": {},
   "outputs": [],
   "source": [
    "def mult():\n",
    "    a=5\n",
    "    b=9\n",
    "    c=a*b\n",
    "    return f\"Multiplication is {c}\""
   ]
  },
  {
   "cell_type": "code",
   "execution_count": 14,
   "id": "cbecd77c",
   "metadata": {},
   "outputs": [
    {
     "data": {
      "text/plain": [
       "'Multiplication is 45'"
      ]
     },
     "execution_count": 14,
     "metadata": {},
     "output_type": "execute_result"
    }
   ],
   "source": [
    "mult()"
   ]
  },
  {
   "cell_type": "markdown",
   "id": "0f56adcb",
   "metadata": {},
   "source": [
    "## Function with return and with parameter"
   ]
  },
  {
   "cell_type": "code",
   "execution_count": 15,
   "id": "9ff91c3b",
   "metadata": {},
   "outputs": [],
   "source": [
    "def mult(x,y):\n",
    "    z=x*y\n",
    "    return f\"Multiplication is {z}\"\n"
   ]
  },
  {
   "cell_type": "code",
   "execution_count": 16,
   "id": "119f0010",
   "metadata": {},
   "outputs": [
    {
     "data": {
      "text/plain": [
       "'Multiplication is 20'"
      ]
     },
     "execution_count": 16,
     "metadata": {},
     "output_type": "execute_result"
    }
   ],
   "source": [
    "mult(5,4)"
   ]
  },
  {
   "cell_type": "markdown",
   "id": "a593149f",
   "metadata": {},
   "source": [
    "## Function of Square and Cube"
   ]
  },
  {
   "cell_type": "code",
   "execution_count": 23,
   "id": "1d3ed8c4",
   "metadata": {},
   "outputs": [],
   "source": [
    "def square(n):\n",
    "    a=n**2\n",
    "    print(a)"
   ]
  },
  {
   "cell_type": "code",
   "execution_count": 24,
   "id": "7eeb23b9",
   "metadata": {},
   "outputs": [
    {
     "name": "stdout",
     "output_type": "stream",
     "text": [
      "25\n"
     ]
    }
   ],
   "source": [
    "square(5)"
   ]
  },
  {
   "cell_type": "code",
   "execution_count": 26,
   "id": "394d8f9b",
   "metadata": {},
   "outputs": [],
   "source": [
    "def cube(n):\n",
    "    b=n**3\n",
    "    print(b)"
   ]
  },
  {
   "cell_type": "code",
   "execution_count": 29,
   "id": "bde1c34d",
   "metadata": {},
   "outputs": [
    {
     "name": "stdout",
     "output_type": "stream",
     "text": [
      "64\n"
     ]
    }
   ],
   "source": [
    "cube(4)"
   ]
  },
  {
   "cell_type": "markdown",
   "id": "1f6c23a0",
   "metadata": {},
   "source": [
    "## Function for round"
   ]
  },
  {
   "cell_type": "code",
   "execution_count": 7,
   "id": "7029d4f5",
   "metadata": {},
   "outputs": [
    {
     "name": "stdout",
     "output_type": "stream",
     "text": [
      "MAximum value is:  0\n"
     ]
    }
   ],
   "source": [
    "\n",
    "maximum=0\n",
    "def max_1(list):\n",
    "    maximum = list[0]\n",
    "    for num in maximum:\n",
    "        if num > list[0]:\n",
    "            list = num\n",
    "print(\"MAximum value is: \",maximum)"
   ]
  },
  {
   "cell_type": "code",
   "execution_count": 77,
   "id": "e2782961",
   "metadata": {},
   "outputs": [
    {
     "ename": "TypeError",
     "evalue": "max_1() missing 1 required positional argument: 'list'",
     "output_type": "error",
     "traceback": [
      "\u001b[1;31m---------------------------------------------------------------------------\u001b[0m",
      "\u001b[1;31mTypeError\u001b[0m                                 Traceback (most recent call last)",
      "Cell \u001b[1;32mIn[77], line 1\u001b[0m\n\u001b[1;32m----> 1\u001b[0m max_1()\n",
      "\u001b[1;31mTypeError\u001b[0m: max_1() missing 1 required positional argument: 'list'"
     ]
    }
   ],
   "source": [
    "max_1()"
   ]
  },
  {
   "cell_type": "code",
   "execution_count": 9,
   "id": "60836e7f",
   "metadata": {},
   "outputs": [],
   "source": [
    "def max_1():\n",
    "    list1=[7,54,78,43,23,22,12,1000]\n",
    "    maximum = list1[0]\n",
    "    for num in list1:\n",
    "        if num > maximum:\n",
    "            maximum = num\n",
    "    print(\"MAximum value is: \",maximum)"
   ]
  },
  {
   "cell_type": "code",
   "execution_count": 10,
   "id": "3927fa14",
   "metadata": {},
   "outputs": [
    {
     "name": "stdout",
     "output_type": "stream",
     "text": [
      "MAximum value is:  1000\n"
     ]
    }
   ],
   "source": [
    "max_1()"
   ]
  },
  {
   "cell_type": "code",
   "execution_count": 5,
   "id": "3c1dde80",
   "metadata": {},
   "outputs": [],
   "source": [
    "#max_value = numbers[0]\n",
    "#min_value = numbers[0]\n",
    "def max_2():\n",
    "    numbers = [25, 18, 32, 47, 12, 9,100]\n",
    "    max_value = numbers[0]\n",
    "    min_value = numbers[0]\n",
    "    for num in numbers:\n",
    "        if num > max_value:\n",
    "            max_value = num\n",
    "        if num < min_value:\n",
    "            min_value = num\n",
    "    print(\"Maximum value:\", max_value)\n",
    "    print(\"Minimum value:\", min_value)"
   ]
  },
  {
   "cell_type": "code",
   "execution_count": 6,
   "id": "5ddfc1dd",
   "metadata": {},
   "outputs": [
    {
     "name": "stdout",
     "output_type": "stream",
     "text": [
      "Maximum value: 100\n",
      "Minimum value: 9\n"
     ]
    }
   ],
   "source": [
    "max_2()"
   ]
  },
  {
   "cell_type": "code",
   "execution_count": 1,
   "id": "51e5fef0",
   "metadata": {},
   "outputs": [],
   "source": [
    "# round up function\n",
    "\n",
    "def costum_round(number):\n",
    "    decimal_part=number-int(number)\n",
    "    if decimal_part > 0.5:\n",
    "        return int(number) + 1\n",
    "    else:\n",
    "        return int(number)"
   ]
  },
  {
   "cell_type": "code",
   "execution_count": 3,
   "id": "fe91b304",
   "metadata": {},
   "outputs": [
    {
     "data": {
      "text/plain": [
       "24"
      ]
     },
     "execution_count": 3,
     "metadata": {},
     "output_type": "execute_result"
    }
   ],
   "source": [
    "costum_round(23.9)"
   ]
  },
  {
   "cell_type": "code",
   "execution_count": 28,
   "id": "7ccae784",
   "metadata": {},
   "outputs": [],
   "source": [
    "def factorial(num):\n",
    "    x=1\n",
    "    for i in range(1,num+1):\n",
    "        x=x*i\n",
    "    print(x)"
   ]
  },
  {
   "cell_type": "code",
   "execution_count": 29,
   "id": "71349fdc",
   "metadata": {},
   "outputs": [
    {
     "name": "stdout",
     "output_type": "stream",
     "text": [
      "120\n"
     ]
    }
   ],
   "source": [
    "factorial(5)"
   ]
  },
  {
   "cell_type": "markdown",
   "id": "df823196",
   "metadata": {},
   "source": [
    "## Local and Global Scope"
   ]
  },
  {
   "cell_type": "code",
   "execution_count": 32,
   "id": "71e6b316",
   "metadata": {},
   "outputs": [],
   "source": [
    "#Local Scope\n",
    "def m1():\n",
    "    x=300  #local scope\n",
    "    print(x)"
   ]
  },
  {
   "cell_type": "code",
   "execution_count": 33,
   "id": "1ccdafaf",
   "metadata": {},
   "outputs": [
    {
     "name": "stdout",
     "output_type": "stream",
     "text": [
      "300\n"
     ]
    }
   ],
   "source": [
    "m1()"
   ]
  },
  {
   "cell_type": "code",
   "execution_count": 34,
   "id": "25293bad",
   "metadata": {},
   "outputs": [
    {
     "ename": "NameError",
     "evalue": "name 'x' is not defined",
     "output_type": "error",
     "traceback": [
      "\u001b[1;31m---------------------------------------------------------------------------\u001b[0m",
      "\u001b[1;31mNameError\u001b[0m                                 Traceback (most recent call last)",
      "Cell \u001b[1;32mIn[34], line 1\u001b[0m\n\u001b[1;32m----> 1\u001b[0m x\n",
      "\u001b[1;31mNameError\u001b[0m: name 'x' is not defined"
     ]
    }
   ],
   "source": [
    "x"
   ]
  },
  {
   "cell_type": "code",
   "execution_count": 35,
   "id": "fe4786d4",
   "metadata": {},
   "outputs": [],
   "source": [
    "#Global Scope\n",
    "c=200\n",
    "def m2():\n",
    "    print(c)"
   ]
  },
  {
   "cell_type": "code",
   "execution_count": 36,
   "id": "3ef8869d",
   "metadata": {},
   "outputs": [
    {
     "name": "stdout",
     "output_type": "stream",
     "text": [
      "200\n"
     ]
    }
   ],
   "source": [
    "m2()"
   ]
  },
  {
   "cell_type": "code",
   "execution_count": 57,
   "id": "716b9c0c",
   "metadata": {},
   "outputs": [],
   "source": [
    "#local scope\n",
    "def arithmetic():\n",
    "    o=34\n",
    "    p=56\n",
    "    z=o+p\n",
    "    print(z)\n",
    "    def sub():\n",
    "        a=o-p\n",
    "        print(a)\n",
    "    sub()"
   ]
  },
  {
   "cell_type": "code",
   "execution_count": 58,
   "id": "09967b4c",
   "metadata": {},
   "outputs": [
    {
     "name": "stdout",
     "output_type": "stream",
     "text": [
      "90\n",
      "-22\n"
     ]
    }
   ],
   "source": [
    "arithmetic()\n"
   ]
  },
  {
   "cell_type": "code",
   "execution_count": 62,
   "id": "8e53d1f8",
   "metadata": {},
   "outputs": [],
   "source": [
    "# Global scope\n",
    "def arithmetic():\n",
    "    global o,p\n",
    "    # global p\n",
    "    o=67\n",
    "    p=78\n",
    "    z=o + p\n",
    "    print(z)"
   ]
  },
  {
   "cell_type": "code",
   "execution_count": 63,
   "id": "ec540cb7",
   "metadata": {},
   "outputs": [
    {
     "name": "stdout",
     "output_type": "stream",
     "text": [
      "145\n"
     ]
    }
   ],
   "source": [
    "arithmetic()"
   ]
  },
  {
   "cell_type": "code",
   "execution_count": 64,
   "id": "3f61138f",
   "metadata": {},
   "outputs": [
    {
     "data": {
      "text/plain": [
       "67"
      ]
     },
     "execution_count": 64,
     "metadata": {},
     "output_type": "execute_result"
    }
   ],
   "source": [
    "o"
   ]
  },
  {
   "cell_type": "code",
   "execution_count": 65,
   "id": "fc29b1f5",
   "metadata": {},
   "outputs": [
    {
     "data": {
      "text/plain": [
       "78"
      ]
     },
     "execution_count": 65,
     "metadata": {},
     "output_type": "execute_result"
    }
   ],
   "source": [
    "p"
   ]
  },
  {
   "cell_type": "code",
   "execution_count": 1,
   "id": "4c4f86bd",
   "metadata": {},
   "outputs": [],
   "source": [
    "#To find perimeter of rectagle\n",
    "def peri(a,b):\n",
    "    c=2*(a+b)\n",
    "    print(\"Perimeter of rectangle is:\",c)"
   ]
  },
  {
   "cell_type": "code",
   "execution_count": 2,
   "id": "63092f1f",
   "metadata": {},
   "outputs": [
    {
     "name": "stdout",
     "output_type": "stream",
     "text": [
      "Perimeter of rectangle is: 22\n"
     ]
    }
   ],
   "source": [
    "peri(5,6)"
   ]
  },
  {
   "cell_type": "code",
   "execution_count": 19,
   "id": "e585ac40",
   "metadata": {},
   "outputs": [],
   "source": [
    "#wwwwwwwwwww\n",
    "# reverse number\n",
    "def rev(no):\n",
    "    d1=no%10\n",
    "    no=no/10\n",
    "    d2=no%10\n",
    "    no=no/10\n",
    "    sum=(d1*100)+(d2*10)+(no*1)\n",
    "    print(\"reverse of number is: \",sum)"
   ]
  },
  {
   "cell_type": "code",
   "execution_count": 20,
   "id": "3a993763",
   "metadata": {},
   "outputs": [
    {
     "name": "stdout",
     "output_type": "stream",
     "text": [
      "reverse of number is:  324.23\n"
     ]
    }
   ],
   "source": [
    "rev(123)"
   ]
  },
  {
   "cell_type": "code",
   "execution_count": 28,
   "id": "22ec4109",
   "metadata": {},
   "outputs": [],
   "source": [
    "def rev(no):\n",
    "    a=str(no)\n",
    "    print(a[::-1])"
   ]
  },
  {
   "cell_type": "code",
   "execution_count": 29,
   "id": "a6475c9b",
   "metadata": {},
   "outputs": [
    {
     "name": "stdout",
     "output_type": "stream",
     "text": [
      "321\n"
     ]
    }
   ],
   "source": [
    "rev(\"123\")"
   ]
  },
  {
   "cell_type": "code",
   "execution_count": 21,
   "id": "6be78bf0",
   "metadata": {},
   "outputs": [],
   "source": [
    "def reverse_string(input_string):\n",
    "    return input_string[::-1]\n",
    "    original_string = reverse_string(original_string)\n",
    "    print(reverse_string)"
   ]
  },
  {
   "cell_type": "code",
   "execution_count": 22,
   "id": "68999153",
   "metadata": {},
   "outputs": [
    {
     "ename": "NameError",
     "evalue": "name 'sahil' is not defined",
     "output_type": "error",
     "traceback": [
      "\u001b[1;31m---------------------------------------------------------------------------\u001b[0m",
      "\u001b[1;31mNameError\u001b[0m                                 Traceback (most recent call last)",
      "Cell \u001b[1;32mIn[22], line 1\u001b[0m\n\u001b[1;32m----> 1\u001b[0m reverse_string(sahil)\n",
      "\u001b[1;31mNameError\u001b[0m: name 'sahil' is not defined"
     ]
    }
   ],
   "source": [
    "reverse_string(sahil)"
   ]
  },
  {
   "cell_type": "code",
   "execution_count": 33,
   "id": "94596ec4",
   "metadata": {},
   "outputs": [],
   "source": [
    "#Find maximum of three numbers\n",
    "def maximum(num1,num2,num3):\n",
    "    return max(num1,num2,num3)\n",
    "    print(\"maximum:\",max)"
   ]
  },
  {
   "cell_type": "code",
   "execution_count": 34,
   "id": "4af46b5f",
   "metadata": {},
   "outputs": [
    {
     "data": {
      "text/plain": [
       "78"
      ]
     },
     "execution_count": 34,
     "metadata": {},
     "output_type": "execute_result"
    }
   ],
   "source": [
    "maximum(4,6,78)"
   ]
  },
  {
   "cell_type": "code",
   "execution_count": 12,
   "id": "b14b4396",
   "metadata": {},
   "outputs": [
    {
     "name": "stdout",
     "output_type": "stream",
     "text": [
      "Enter any word: sahil\n"
     ]
    },
    {
     "ename": "NameError",
     "evalue": "name 'a' is not defined",
     "output_type": "error",
     "traceback": [
      "\u001b[1;31m---------------------------------------------------------------------------\u001b[0m",
      "\u001b[1;31mNameError\u001b[0m                                 Traceback (most recent call last)",
      "Cell \u001b[1;32mIn[12], line 3\u001b[0m\n\u001b[0;32m      1\u001b[0m \u001b[38;5;66;03m#write a function that counts the number of vowels in a given string\u001b[39;00m\n\u001b[0;32m      2\u001b[0m char\u001b[38;5;241m=\u001b[39m\u001b[38;5;28minput\u001b[39m(\u001b[38;5;124m\"\u001b[39m\u001b[38;5;124mEnter any word: \u001b[39m\u001b[38;5;124m\"\u001b[39m)\n\u001b[1;32m----> 3\u001b[0m vowels\u001b[38;5;241m=\u001b[39m[a,e,i,o,u]\n\u001b[0;32m      4\u001b[0m char1\u001b[38;5;241m=\u001b[39m\u001b[38;5;28mlist\u001b[39m(char)\n\u001b[0;32m      5\u001b[0m \u001b[38;5;28;01mfor\u001b[39;00m i \u001b[38;5;129;01min\u001b[39;00m vowels:\n",
      "\u001b[1;31mNameError\u001b[0m: name 'a' is not defined"
     ]
    }
   ],
   "source": [
    "#write a function that counts the number of vowels in a given string\n",
    "char=input(\"Enter any word: \")\n",
    "vowels=[a,e,i,o,u]\n",
    "char1=list(char)\n",
    "for i in vowels:\n",
    "    if char1 == vowels:\n",
    "        print(int(char1))"
   ]
  },
  {
   "cell_type": "code",
   "execution_count": null,
   "id": "6f909d17",
   "metadata": {},
   "outputs": [],
   "source": [
    "# Write a function to generate the Fibonacci series up to a given number of terms.\n",
    "[0,1,1,2,3,5,.....]"
   ]
  },
  {
   "cell_type": "code",
   "execution_count": 1,
   "id": "99fef133",
   "metadata": {},
   "outputs": [
    {
     "name": "stdout",
     "output_type": "stream",
     "text": [
      "[0, 1, 1, 2, 3, 5, 8, 13, 21, 34, 55, 89]\n"
     ]
    }
   ],
   "source": [
    "fib=[0,1]\n",
    "for i in range(10):\n",
    "    next_term=fib[-1]+fib[-2]\n",
    "    fib.append(next_term)\n",
    "print(fib)"
   ]
  },
  {
   "cell_type": "code",
   "execution_count": 10,
   "id": "cfee86ce",
   "metadata": {},
   "outputs": [],
   "source": [
    "def fib(n):\n",
    "    fib1=[0,1]\n",
    "    for i in range(n):\n",
    "        next_term=fib1[-1]+fib1[-2]\n",
    "        fib1.append(next_term)\n",
    "    print(fib1)"
   ]
  },
  {
   "cell_type": "code",
   "execution_count": 11,
   "id": "449f0fa4",
   "metadata": {},
   "outputs": [
    {
     "name": "stdout",
     "output_type": "stream",
     "text": [
      "[0, 1, 1, 2, 3, 5, 8, 13, 21]\n"
     ]
    }
   ],
   "source": [
    "fib(7)"
   ]
  },
  {
   "cell_type": "code",
   "execution_count": 15,
   "id": "f475baf4",
   "metadata": {},
   "outputs": [],
   "source": [
    "def fib(n):\n",
    "    fib2=[0,1]\n",
    "    for i in range(n):\n",
    "        next_step=fib2[-1] + fib2[-2]\n",
    "        fib2.append(next_step)\n",
    "    print(fib2)"
   ]
  },
  {
   "cell_type": "code",
   "execution_count": 16,
   "id": "e93d06c0",
   "metadata": {},
   "outputs": [
    {
     "name": "stdout",
     "output_type": "stream",
     "text": [
      "[0, 1, 1, 2, 3, 5, 8, 13, 21, 34]\n"
     ]
    }
   ],
   "source": [
    "fib(8)"
   ]
  },
  {
   "cell_type": "code",
   "execution_count": 23,
   "id": "f30eb992",
   "metadata": {},
   "outputs": [],
   "source": [
    "# Write a function that counts the number of vowels in a given string.\n",
    "def string(a):\n",
    "    vowel=\"aeiouAEIOU\"\n",
    "    count_vowel=0\n",
    "    for char in a:\n",
    "        if char in vowel:\n",
    "            count_vowel +=1\n",
    "            print(char)\n",
    "    print(count_vowel)"
   ]
  },
  {
   "cell_type": "code",
   "execution_count": 24,
   "id": "690e9cfb",
   "metadata": {},
   "outputs": [
    {
     "name": "stdout",
     "output_type": "stream",
     "text": [
      "a\n",
      "i\n",
      "2\n"
     ]
    }
   ],
   "source": [
    "string(\"sahil\")"
   ]
  },
  {
   "cell_type": "code",
   "execution_count": 2,
   "id": "de2b0623",
   "metadata": {},
   "outputs": [],
   "source": [
    "#Write a function that calculates the area and perimeter of a rectangle given its length and width as parameters.\n",
    "\n",
    "def area(len,brdh):\n",
    "    a=2*(len+brdh)\n",
    "    print(a)"
   ]
  },
  {
   "cell_type": "code",
   "execution_count": 3,
   "id": "1aee46d7",
   "metadata": {},
   "outputs": [
    {
     "name": "stdout",
     "output_type": "stream",
     "text": [
      "20\n"
     ]
    }
   ],
   "source": [
    "area(6,4)"
   ]
  },
  {
   "cell_type": "code",
   "execution_count": 13,
   "id": "03892aae",
   "metadata": {},
   "outputs": [],
   "source": [
    "# Write a function that takes a list as input and returns a new list containing only the unique elements.\n",
    "def new_list():\n",
    "    a=[1,2,3,4,5,1,2,3]\n",
    "    n=[]\n",
    "    for i in a:\n",
    "        if i not in n:\n",
    "            n.append(i)\n",
    "            \n",
    "    print(n)"
   ]
  },
  {
   "cell_type": "code",
   "execution_count": 14,
   "id": "5e176847",
   "metadata": {},
   "outputs": [
    {
     "name": "stdout",
     "output_type": "stream",
     "text": [
      "[1, 2, 3, 4, 5]\n"
     ]
    }
   ],
   "source": [
    "new_list()"
   ]
  },
  {
   "cell_type": "code",
   "execution_count": 1,
   "id": "992d5817",
   "metadata": {},
   "outputs": [
    {
     "name": "stdout",
     "output_type": "stream",
     "text": [
      "[50, 65, 23, 82, 100]\n"
     ]
    }
   ],
   "source": [
    "#Sort the list based on how close the number is to 50:\n",
    "def myfunc(n):\n",
    "  return abs(n - 50)\n",
    "\n",
    "thislist = [100, 50, 65, 82, 23]\n",
    "thislist.sort(key = myfunc)\n",
    "print(thislist)"
   ]
  },
  {
   "cell_type": "code",
   "execution_count": 12,
   "id": "b73ba271",
   "metadata": {},
   "outputs": [],
   "source": [
    "#To check number is armstrong or not Armstrong \n",
    "def armstrong1(num):\n",
    "    num2 = str(num)\n",
    "    len_num = len(num2)\n",
    "    total=0\n",
    "    for i in num2:\n",
    "        total += int(i) ** len_num\n",
    "    if total == num:\n",
    "        return True\n",
    "    else:\n",
    "        return False"
   ]
  },
  {
   "cell_type": "code",
   "execution_count": 13,
   "id": "5ccaf3c5",
   "metadata": {},
   "outputs": [
    {
     "name": "stdout",
     "output_type": "stream",
     "text": [
      "Enter a number: 153\n",
      "153 is an Armstrong number\n"
     ]
    }
   ],
   "source": [
    "num = int(input(\"Enter a number: \" ))\n",
    "if armstrong1(num):\n",
    "    print(num, \"is an Armstrong number\")\n",
    "else:\n",
    "    print(num, \"is not an Armstrong number\")"
   ]
  },
  {
   "cell_type": "code",
   "execution_count": null,
   "id": "8921a99e",
   "metadata": {},
   "outputs": [],
   "source": []
  },
  {
   "cell_type": "code",
   "execution_count": null,
   "id": "ad53f785",
   "metadata": {},
   "outputs": [],
   "source": []
  }
 ],
 "metadata": {
  "kernelspec": {
   "display_name": "Python 3 (ipykernel)",
   "language": "python",
   "name": "python3"
  },
  "language_info": {
   "codemirror_mode": {
    "name": "ipython",
    "version": 3
   },
   "file_extension": ".py",
   "mimetype": "text/x-python",
   "name": "python",
   "nbconvert_exporter": "python",
   "pygments_lexer": "ipython3",
   "version": "3.11.4"
  }
 },
 "nbformat": 4,
 "nbformat_minor": 5
}
