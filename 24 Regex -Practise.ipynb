{
 "cells": [
  {
   "cell_type": "markdown",
   "id": "62f694f1",
   "metadata": {},
   "source": [
    "## Statement\n",
    "\n",
    "\\d:-Returns a match where string contains digit (0-9)or[0-9]\n",
    "\n",
    "\\D:-Returns a match where string does not contains digits. Eg. spaces,special characters,letters etc[^0-9]\n",
    "\n",
    "\\w:-Returns a match where string contains any alphanumeric character and underscore i.e.[0-9a-z_]or\\w{2,20}\n",
    "\n",
    "\\W:-Returns a match where string does not contains any alphanumeric character and underscore i.e.[^0-9a-z_] or\\W\n",
    "\n",
    "\\s:-Returns a match where string contains a white space characters.\n",
    "\n",
    "/s:-Returns a match where string does not contains space. By default occurance is 1. for two spaces-\\s[2]\n",
    "\n",
    "\\b:-Returns a match where characters are at begining or at end of word i.e. perfect match"
   ]
  },
  {
   "cell_type": "code",
   "execution_count": null,
   "id": "ec797afb",
   "metadata": {},
   "outputs": [],
   "source": [
    "text = \"\"\"My Mobile Number is : 9988776655,\n",
    "        email id is : viratkohli@gmail.com,chetana_123@gmail.com,ch@gmail.com, sahilwagh198@gmail.com\n",
    "        todays date is : 30-05-2022,30/02/2023\n",
    "        4444 5555 6666\n",
    "        PAN:BJJPV50R\n",
    "        \n",
    "        \n",
    "        Mobile Number is : 7788776648\n",
    "        \"\"\"\n",
    "mob=re.findall(\"[0-9]{10}\",text)\n",
    "email=re.findall(\"[a-z0-9_]{2,20}[@][a-z.]{1,20}\",text)\n",
    "date=re.findall(\"[0-9]{2}[-/][0-9]{2}[-/][0-9]{4}\",text)\n",
    "adhar=re.findall(\"[0-9]{4}\\s[0-9]{4}\\s[0-9]{4}\",text)\n",
    "pan=re.findall(\"\\D{5}\\d{2}[A-Z]\",text)\n",
    "print(mob)\n",
    "print(email)\n",
    "print(date)\n",
    "print(adhar)\n",
    "print(pan)"
   ]
  },
  {
   "cell_type": "code",
   "execution_count": 6,
   "id": "7e6a9aa3",
   "metadata": {},
   "outputs": [
    {
     "name": "stdout",
     "output_type": "stream",
     "text": [
      "['7083806321', '9096006321']\n",
      "['+91 9096006321']\n",
      "['03/10/2023', '16-12-1998']\n",
      "['03/10/2023', '16-12-1998']\n",
      "['sahilwagh98@gmail.com', 'sahil@gmail.in']\n",
      "['8686 9168 9369']\n",
      "['8686 9168 9369']\n"
     ]
    }
   ],
   "source": [
    "import re \n",
    "text=\"\"\"My mobile number is: 7083806321, +91 9096006321\n",
    "        emailid is: sahilwagh98@gmail.com, sahil@gmail.in\n",
    "        todays date is: 03/10/2023, 16-12-1998\n",
    "        aadar number is: 8686 9168 9369\n",
    "        \"\"\"\n",
    "mob=re.findall(\"\\d{10}\",text)\n",
    "print(mob)\n",
    "mob1=re.findall(\"[+][0-9]{2}\\s[0-9]{10}\",text)  #for number\n",
    "print(mob1)\n",
    "\n",
    "data=re.findall(\"\\d{2}[-/]\\d{2}[-/]\\d{4}\",text)   #for date\n",
    "print(data)\n",
    "date1=re.findall(\"[0-9]{2}[/-][0-9]{2}[/-][0-9]{4}\",text)\n",
    "print(date1)\n",
    "\n",
    "email=re.findall(\"[a-z0-9]{2,20}[@][a-z.]{2,20}\",text)    #email\n",
    "print(email)\n",
    "\n",
    "adhar=re.findall(\"[0-9]{4}[ ][0-9]{4}[ ][0-9]{4}\",text)  #aadhar\n",
    "print(adhar)\n",
    "adhar1=re.findall(\"[0-9]{4}\\s[0-9]{4}\\s[0-9]{4}\",text)\n",
    "print(adhar1)"
   ]
  },
  {
   "cell_type": "code",
   "execution_count": 7,
   "id": "b998278c",
   "metadata": {},
   "outputs": [
    {
     "name": "stdout",
     "output_type": "stream",
     "text": [
      "['a12351#h']\n"
     ]
    }
   ],
   "source": [
    "s=\"a12351#h\"\n",
    "s1=re.findall(\"[a-z]{1}[0-9]{5}[#][a-z]{1}\",s)\n",
    "print(s1)"
   ]
  },
  {
   "cell_type": "code",
   "execution_count": 14,
   "id": "8761b238",
   "metadata": {},
   "outputs": [
    {
     "name": "stdout",
     "output_type": "stream",
     "text": [
      "['chetana', '123', 'chetanavasa', 've']\n"
     ]
    }
   ],
   "source": [
    "text=\"\"\"chetana@123 chetanavasave\"\"\"\n",
    "s=re.findall(\"\\w{2,11}\",text)\n",
    "print(s)"
   ]
  },
  {
   "cell_type": "code",
   "execution_count": 15,
   "id": "5b12ff04",
   "metadata": {},
   "outputs": [
    {
     "name": "stdout",
     "output_type": "stream",
     "text": [
      "[' ', ' ', 'D', 'O', 'B', ':', ' ', '/', '/', ' ', ' ', ' ', ' ', ' ', ' ', ' ', ' ', ' ', ' ', ' ', ' ', ' ', ' ', ' ', '\\n', ' ', ' ', ' ', ' ', ' ', ' ', ' ', ' ', ' ', ' ', ' ', 'E', 'm', 'a', 'i', 'l', ' ', 'i', 'd', ':', ' ', 'v', 'i', 's', 'h', 'a', 'l', 't', 'a', 'n', 'd', 'e', 'l', '@', 'g', 'm', 'a', 'i', 'l', '.', 'c', 'o', 'm', '\\n', ' ', ' ', ' ', ' ', ' ', ' ', ' ', ' ', ' ', ' ', ' ', 'a', 'a', 'd', 'h', 'a', 'r', ' ', 'n', 'u', 'm', 'b', 'e', 'r', ' ', '=', ' ', ' ', ' ']\n"
     ]
    }
   ],
   "source": [
    "text = \"\"\"  DOB: 17/11/1996               \n",
    "           Email id: vishaltandel19@gmail.com\n",
    "           aadhar number = 3456 1232 9876\"\"\"\n",
    "x=re.findall('\\D',text)\n",
    "print(x)"
   ]
  },
  {
   "cell_type": "markdown",
   "id": "0b18cc78",
   "metadata": {},
   "source": [
    "Sub():- Sub function is used to replace one or many matches with the string.\n",
    "        It returns the updated string text.\n",
    "        Syntax:- re.sub(pattern,new string,text)"
   ]
  },
  {
   "cell_type": "code",
   "execution_count": 13,
   "id": "3e145635",
   "metadata": {},
   "outputs": [
    {
     "name": "stdout",
     "output_type": "stream",
     "text": [
      "Data Science is a field of inquiry devoted to understanding\n"
     ]
    }
   ],
   "source": [
    "import re\n",
    "text=\"Machine 123 learning is a field of inquiry devoted to understanding\"\n",
    "s=re.sub(\"\\D{7}\\s\\d{3}\\s\\D{8}\",\"Data Science\",text)\n",
    "print(s)"
   ]
  },
  {
   "cell_type": "code",
   "execution_count": 26,
   "id": "578ed6a1",
   "metadata": {},
   "outputs": [
    {
     "name": "stdout",
     "output_type": "stream",
     "text": [
      "compile reg expr <re.Match object; span=(0, 10), match='26-08-2024'>\n"
     ]
    }
   ],
   "source": [
    "regex=re.compile(r'([\\d]{2})-([\\d]{2})-([\\d]{4})')\n",
    "\n",
    "# search method\n",
    "print(\"compile reg expr\",regex.search('26-08-2024'))"
   ]
  },
  {
   "cell_type": "code",
   "execution_count": 27,
   "id": "30c9b1e6",
   "metadata": {},
   "outputs": [
    {
     "name": "stdout",
     "output_type": "stream",
     "text": [
      "26.08.2020.\n"
     ]
    }
   ],
   "source": [
    "# sub method\n",
    "print(regex.sub(r\"\\1.\\2.\\3.\",\"26-08-2020\"))"
   ]
  },
  {
   "cell_type": "code",
   "execution_count": 29,
   "id": "3696a032",
   "metadata": {},
   "outputs": [
    {
     "name": "stdout",
     "output_type": "stream",
     "text": [
      "compile reg expr <re.Match object; span=(0, 10), match='05-10-2023'>\n"
     ]
    }
   ],
   "source": [
    "regex=re.compile(r\"([\\d]{2})-([\\d]{2})-([\\d]{4})\")\n",
    "print(\"compile reg expr\",regex.search(\"05-10-2023\"))"
   ]
  },
  {
   "cell_type": "code",
   "execution_count": null,
   "id": "1dfef8db",
   "metadata": {},
   "outputs": [],
   "source": []
  }
 ],
 "metadata": {
  "kernelspec": {
   "display_name": "Python 3 (ipykernel)",
   "language": "python",
   "name": "python3"
  },
  "language_info": {
   "codemirror_mode": {
    "name": "ipython",
    "version": 3
   },
   "file_extension": ".py",
   "mimetype": "text/x-python",
   "name": "python",
   "nbconvert_exporter": "python",
   "pygments_lexer": "ipython3",
   "version": "3.11.4"
  }
 },
 "nbformat": 4,
 "nbformat_minor": 5
}
