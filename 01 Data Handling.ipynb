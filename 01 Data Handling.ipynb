{
 "cells": [
  {
   "cell_type": "code",
   "execution_count": 8,
   "id": "87926c0e",
   "metadata": {},
   "outputs": [
    {
     "name": "stdout",
     "output_type": "stream",
     "text": [
      "<class 'str'>\n",
      "<class 'int'>\n",
      "<class 'float'>\n",
      "<class 'bool'>\n",
      "<class 'str'>\n",
      "hello python 123 1.23 True 1234\n"
     ]
    }
   ],
   "source": [
    "x = \"hello python\"\n",
    "y = 123\n",
    "z = 1.23\n",
    "a = True\n",
    "b = \"1234\"\n",
    "print(type(x))\n",
    "print(type(y))\n",
    "print(type(z))\n",
    "print(type(a))\n",
    "print(type(b))\n",
    "print(x,y,z,a,b)"
   ]
  },
  {
   "cell_type": "code",
   "execution_count": 9,
   "id": "f1fd973c",
   "metadata": {},
   "outputs": [
    {
     "name": "stdout",
     "output_type": "stream",
     "text": [
      "sum is 10\n"
     ]
    }
   ],
   "source": [
    "a=4\n",
    "b=6\n",
    "c=a+b\n",
    "print(\"sum is\",c)"
   ]
  },
  {
   "cell_type": "code",
   "execution_count": 11,
   "id": "efe8330c",
   "metadata": {
    "scrolled": true
   },
   "outputs": [
    {
     "name": "stdout",
     "output_type": "stream",
     "text": [
      "Difference is 2\n"
     ]
    }
   ],
   "source": [
    "a=5\n",
    "b=3\n",
    "c=a-b\n",
    "print(\"Difference is\",c)"
   ]
  },
  {
   "cell_type": "code",
   "execution_count": 12,
   "id": "6ed85da1",
   "metadata": {},
   "outputs": [
    {
     "name": "stdout",
     "output_type": "stream",
     "text": [
      "product is 24\n"
     ]
    }
   ],
   "source": [
    "a=4\n",
    "b=6\n",
    "c=a*b\n",
    "print(\"product is\",c)"
   ]
  },
  {
   "cell_type": "code",
   "execution_count": 14,
   "id": "02ad3a9f",
   "metadata": {},
   "outputs": [
    {
     "name": "stdout",
     "output_type": "stream",
     "text": [
      "Quotient is 2.0\n"
     ]
    }
   ],
   "source": [
    "a=8\n",
    "b=4\n",
    "c=a/b\n",
    "print(\"Quotient is\",c)"
   ]
  },
  {
   "cell_type": "code",
   "execution_count": 17,
   "id": "4d080d5f",
   "metadata": {},
   "outputs": [
    {
     "name": "stdout",
     "output_type": "stream",
     "text": [
      "Remainder is 0\n"
     ]
    }
   ],
   "source": [
    "a=8\n",
    "b=4\n",
    "c=a%b\n",
    "print(\"Remainder is\",c)"
   ]
  },
  {
   "cell_type": "code",
   "execution_count": 21,
   "id": "a8ba3a1a",
   "metadata": {},
   "outputs": [
    {
     "name": "stdout",
     "output_type": "stream",
     "text": [
      "Power is 3375\n"
     ]
    }
   ],
   "source": [
    "a=15\n",
    "b=3\n",
    "c=a**b\n",
    "print(\"Power is\",c)"
   ]
  },
  {
   "cell_type": "code",
   "execution_count": 23,
   "id": "d44dec2e",
   "metadata": {},
   "outputs": [
    {
     "name": "stdout",
     "output_type": "stream",
     "text": [
      "Floor Division is 5\n"
     ]
    }
   ],
   "source": [
    "a=15\n",
    "b=3\n",
    "c=a//b\n",
    "print(\"Floor Division is\",c)"
   ]
  },
  {
   "cell_type": "markdown",
   "id": "8e003d4c",
   "metadata": {},
   "source": [
    "## Getting input from the user"
   ]
  },
  {
   "cell_type": "code",
   "execution_count": 3,
   "id": "d04aaefe",
   "metadata": {},
   "outputs": [
    {
     "name": "stdout",
     "output_type": "stream",
     "text": [
      "Enter first number6\n",
      "Enter second number5\n"
     ]
    }
   ],
   "source": [
    "a = int(input(\"Enter first number\"))\n",
    "b = int(input(\"Enter second number\"))"
   ]
  },
  {
   "cell_type": "markdown",
   "id": "6a016e78",
   "metadata": {},
   "source": [
    "## Type Casting"
   ]
  },
  {
   "cell_type": "code",
   "execution_count": 1,
   "id": "11ad0755",
   "metadata": {},
   "outputs": [
    {
     "name": "stdout",
     "output_type": "stream",
     "text": [
      "123\n",
      "<class 'int'>\n",
      "\n",
      "<class 'str'>\n",
      "\n",
      "<class 'bool'>\n"
     ]
    }
   ],
   "source": [
    "x = 123\n",
    "print(x)\n",
    "print(type(x))\n",
    "print()\n",
    "y=str(x)\n",
    "print(type(y))\n",
    "print()\n",
    "z=bool(x)\n",
    "print(type(z))"
   ]
  },
  {
   "cell_type": "markdown",
   "id": "6135d882",
   "metadata": {},
   "source": [
    "## Find area of rectangle"
   ]
  },
  {
   "cell_type": "code",
   "execution_count": 2,
   "id": "7ac5c45b",
   "metadata": {},
   "outputs": [
    {
     "name": "stdout",
     "output_type": "stream",
     "text": [
      "length=5\n",
      "Breadth=6\n",
      "area of rectangle is = 30\n"
     ]
    }
   ],
   "source": [
    "length = int(input(\"length=\"))\n",
    "breadth = int(input(\"Breadth=\"))\n",
    "area_of_rectangle= length*breadth\n",
    "print(\"area of rectangle is =\",area_of_rectangle)"
   ]
  },
  {
   "cell_type": "markdown",
   "id": "1f481159",
   "metadata": {},
   "source": [
    "## Perimeter of rectangle"
   ]
  },
  {
   "cell_type": "code",
   "execution_count": 13,
   "id": "72bd18a0",
   "metadata": {},
   "outputs": [
    {
     "name": "stdout",
     "output_type": "stream",
     "text": [
      "length=8\n",
      "breadth=9\n",
      "Perimeter of rectangle is 34\n"
     ]
    }
   ],
   "source": [
    "length = int(input(\"length=\"))\n",
    "breadth = int(input(\"breadth=\"))\n",
    "Perimeter_of_rectangle = 2*(length + breadth)\n",
    "print(\"Perimeter of rectangle is\",Perimeter_of_rectangle)"
   ]
  },
  {
   "cell_type": "markdown",
   "id": "0be685b5",
   "metadata": {},
   "source": [
    "## Area of Circle"
   ]
  },
  {
   "cell_type": "code",
   "execution_count": 15,
   "id": "2f7baf99",
   "metadata": {},
   "outputs": [
    {
     "name": "stdout",
     "output_type": "stream",
     "text": [
      "Enter rdius of Circle=2\n",
      "Area of Circle is =  12.56\n"
     ]
    }
   ],
   "source": [
    "radius = int(input(\"Enter rdius of Circle=\"))\n",
    "Area_of_Circle = 3.14*(radius*radius)\n",
    "print(\"Area of Circle is = \",Area_of_Circle)"
   ]
  },
  {
   "cell_type": "markdown",
   "id": "42e3ddb2",
   "metadata": {},
   "source": [
    "## Perimeter of Circle"
   ]
  },
  {
   "cell_type": "code",
   "execution_count": 18,
   "id": "ef8ac689",
   "metadata": {},
   "outputs": [
    {
     "name": "stdout",
     "output_type": "stream",
     "text": [
      "Enter rdius of circle =5\n",
      "Perimeter of circle is =  31.400000000000002\n"
     ]
    }
   ],
   "source": [
    "radius = int(input(\"Enter rdius of circle =\"))\n",
    "Perimeter_of_Circle = 2*3.14*radius\n",
    "print(\"Perimeter of circle is = \",Perimeter_of_Circle)"
   ]
  },
  {
   "cell_type": "code",
   "execution_count": null,
   "id": "238de86d",
   "metadata": {},
   "outputs": [],
   "source": []
  }
 ],
 "metadata": {
  "kernelspec": {
   "display_name": "Python 3 (ipykernel)",
   "language": "python",
   "name": "python3"
  },
  "language_info": {
   "codemirror_mode": {
    "name": "ipython",
    "version": 3
   },
   "file_extension": ".py",
   "mimetype": "text/x-python",
   "name": "python",
   "nbconvert_exporter": "python",
   "pygments_lexer": "ipython3",
   "version": "3.11.4"
  }
 },
 "nbformat": 4,
 "nbformat_minor": 5
}
