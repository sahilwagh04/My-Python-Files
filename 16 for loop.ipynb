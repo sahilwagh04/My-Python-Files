{
 "cells": [
  {
   "cell_type": "code",
   "execution_count": 1,
   "id": "3d37107c",
   "metadata": {},
   "outputs": [
    {
     "name": "stdout",
     "output_type": "stream",
     "text": [
      "0\n",
      "1\n",
      "2\n",
      "3\n",
      "4\n",
      "5\n",
      "6\n",
      "7\n",
      "8\n",
      "9\n",
      "10\n"
     ]
    }
   ],
   "source": [
    "for num in range(0,11):\n",
    "    print(num)"
   ]
  },
  {
   "cell_type": "code",
   "execution_count": 5,
   "id": "ac38f5e5",
   "metadata": {},
   "outputs": [
    {
     "name": "stdout",
     "output_type": "stream",
     "text": [
      "IPCS\n",
      "IPCS\n",
      "IPCS\n",
      "IPCS\n",
      "IPCS\n",
      "IPCS\n",
      "IPCS\n",
      "IPCS\n",
      "IPCS\n",
      "IPCS\n",
      "IPCS\n"
     ]
    }
   ],
   "source": [
    "for i in range(0,11):\n",
    "    print(\"IPCS\")"
   ]
  },
  {
   "cell_type": "code",
   "execution_count": 9,
   "id": "7ed0ec19",
   "metadata": {},
   "outputs": [
    {
     "name": "stdout",
     "output_type": "stream",
     "text": [
      "11\n",
      "10\n",
      "9\n",
      "8\n",
      "7\n",
      "6\n",
      "5\n",
      "4\n",
      "3\n",
      "2\n"
     ]
    }
   ],
   "source": [
    "for i in range(10,0,-1):\n",
    "    print(i+1)"
   ]
  },
  {
   "cell_type": "markdown",
   "id": "23c6818f",
   "metadata": {},
   "source": [
    "## Printing numbers from 50 to 10[50,45,40,...]"
   ]
  },
  {
   "cell_type": "code",
   "execution_count": 13,
   "id": "9bdf4db9",
   "metadata": {},
   "outputs": [
    {
     "name": "stdout",
     "output_type": "stream",
     "text": [
      "50\n",
      "45\n",
      "40\n",
      "35\n",
      "30\n",
      "25\n",
      "20\n",
      "15\n",
      "10\n"
     ]
    }
   ],
   "source": [
    "for i in range(50,5,-5):\n",
    "    print(i)"
   ]
  },
  {
   "cell_type": "markdown",
   "id": "e0362dd9",
   "metadata": {},
   "source": [
    "## 1 Sum of numbers"
   ]
  },
  {
   "cell_type": "code",
   "execution_count": 21,
   "id": "8f955317",
   "metadata": {},
   "outputs": [
    {
     "name": "stdout",
     "output_type": "stream",
     "text": [
      "Enter a number: 5\n",
      "Sum1:  15\n"
     ]
    }
   ],
   "source": [
    "sum1 = 0\n",
    "n= int(input(\"Enter a number: \"))\n",
    "for i in range(1, n+1):\n",
    "    sum1 += i      #sum1 = sum1 + i\n",
    "print(\"Sum1: \",sum1)"
   ]
  },
  {
   "cell_type": "markdown",
   "id": "1bf79aa1",
   "metadata": {},
   "source": [
    "## 2 Factorial"
   ]
  },
  {
   "cell_type": "code",
   "execution_count": 25,
   "id": "03fe018e",
   "metadata": {},
   "outputs": [
    {
     "name": "stdout",
     "output_type": "stream",
     "text": [
      "Enter the number: 4\n",
      "factorial is:  24\n"
     ]
    }
   ],
   "source": [
    "factorial = 1\n",
    "n = int(input(\"Enter the number: \"))\n",
    "for i in range(1, n+1):\n",
    "    factorial = factorial * i\n",
    "print(\"factorial is: \",factorial)"
   ]
  },
  {
   "cell_type": "markdown",
   "id": "16e6a1e9",
   "metadata": {},
   "source": [
    "## 3 table of number"
   ]
  },
  {
   "cell_type": "code",
   "execution_count": 28,
   "id": "5e8a1ccc",
   "metadata": {},
   "outputs": [
    {
     "name": "stdout",
     "output_type": "stream",
     "text": [
      "Enter any number: 5\n",
      "5 x 1 = 5\n",
      "5 x 2 = 10\n",
      "5 x 3 = 15\n",
      "5 x 4 = 20\n",
      "5 x 5 = 25\n",
      "5 x 6 = 30\n",
      "5 x 7 = 35\n",
      "5 x 8 = 40\n",
      "5 x 9 = 45\n",
      "5 x 10 = 50\n"
     ]
    }
   ],
   "source": [
    "n=int(input(\"Enter any number: \"))\n",
    "for i in range(1,11):\n",
    "    print(f\"{n} x {i} = {n*i}\")"
   ]
  },
  {
   "cell_type": "markdown",
   "id": "e52abf99",
   "metadata": {},
   "source": [
    "# Printing Patterns"
   ]
  },
  {
   "cell_type": "markdown",
   "id": "d86c3ff7",
   "metadata": {},
   "source": [
    "## We require things\n",
    "    input : How many Rows\n",
    "    for loop : 1 for rows and 1 coloums\n",
    "    range(start,stop)\n",
    "    print()\n",
    "    end=\" \""
   ]
  },
  {
   "cell_type": "markdown",
   "id": "87cacad2",
   "metadata": {},
   "source": [
    "## For Prime numbers"
   ]
  },
  {
   "cell_type": "code",
   "execution_count": 10,
   "id": "90fb6fe5",
   "metadata": {},
   "outputs": [
    {
     "name": "stdout",
     "output_type": "stream",
     "text": [
      "Its not prime number\n"
     ]
    }
   ],
   "source": [
    "num = 15\n",
    "for i in range (2,num):\n",
    "    if num%i==0:\n",
    "        print(\"Its not prime number\")\n",
    "        break\n",
    "else:\n",
    "    print(\"Its a Prime number\")"
   ]
  },
  {
   "cell_type": "code",
   "execution_count": 14,
   "id": "d0a213cc",
   "metadata": {},
   "outputs": [
    {
     "name": "stdout",
     "output_type": "stream",
     "text": [
      "Enter any number: 19\n",
      "It is prime\n"
     ]
    }
   ],
   "source": [
    "num = int(input(\"Enter any number: \"))\n",
    "for i in range(2,num):\n",
    "    if num%i==0:\n",
    "        print(\"It is not prime\")\n",
    "        break\n",
    "else:\n",
    "    print(\"It is prime\")"
   ]
  },
  {
   "cell_type": "markdown",
   "id": "c265577a",
   "metadata": {},
   "source": [
    "## Even numbers"
   ]
  },
  {
   "cell_type": "code",
   "execution_count": 21,
   "id": "3860ac57",
   "metadata": {},
   "outputs": [
    {
     "name": "stdout",
     "output_type": "stream",
     "text": [
      "[2, 4, 6, 8, 10, 12, 14, 16, 18]\n"
     ]
    }
   ],
   "source": [
    "num=[]\n",
    "for i in range(1,20):\n",
    "    if i%2==0:\n",
    "        num.append(i)\n",
    "print(num)\n"
   ]
  },
  {
   "cell_type": "markdown",
   "id": "07ee79b3",
   "metadata": {},
   "source": [
    "## use of end=\" \""
   ]
  },
  {
   "cell_type": "code",
   "execution_count": 22,
   "id": "1fb19133",
   "metadata": {},
   "outputs": [
    {
     "name": "stdout",
     "output_type": "stream",
     "text": [
      "Hello\n",
      "Hi\n"
     ]
    }
   ],
   "source": [
    "print(\"Hello\")\n",
    "print(\"Hi\")"
   ]
  },
  {
   "cell_type": "code",
   "execution_count": 23,
   "id": "ad720896",
   "metadata": {},
   "outputs": [
    {
     "name": "stdout",
     "output_type": "stream",
     "text": [
      "Hello hi\n"
     ]
    }
   ],
   "source": [
    "print(\"Hello\", end=\" \")\n",
    "print(\"hi\")"
   ]
  },
  {
   "cell_type": "markdown",
   "id": "b24d5e36",
   "metadata": {},
   "source": [
    "## Type markdown and LaTeX:"
   ]
  },
  {
   "cell_type": "code",
   "execution_count": 28,
   "id": "1e571934",
   "metadata": {},
   "outputs": [
    {
     "name": "stdout",
     "output_type": "stream",
     "text": [
      "* * * * * \n",
      "* * * * * \n",
      "* * * * * \n",
      "* * * * * \n",
      "* * * * * \n"
     ]
    }
   ],
   "source": [
    "size = 5\n",
    "for i in range(size):\n",
    "    print(\"* \" * size)"
   ]
  },
  {
   "cell_type": "code",
   "execution_count": 29,
   "id": "a9e48127",
   "metadata": {},
   "outputs": [
    {
     "name": "stdout",
     "output_type": "stream",
     "text": [
      "# # # # "
     ]
    }
   ],
   "source": [
    "print(\"#\",end=\" \")\n",
    "print(\"#\",end=\" \")\n",
    "print(\"#\",end=\" \")\n",
    "print(\"#\",end=\" \")"
   ]
  },
  {
   "cell_type": "code",
   "execution_count": 30,
   "id": "6f1fc647",
   "metadata": {},
   "outputs": [
    {
     "name": "stdout",
     "output_type": "stream",
     "text": [
      "# # # # "
     ]
    }
   ],
   "source": [
    "for i in range(4):\n",
    "    print(\"#\",end=\" \")"
   ]
  },
  {
   "cell_type": "code",
   "execution_count": 33,
   "id": "890273e5",
   "metadata": {},
   "outputs": [
    {
     "name": "stdout",
     "output_type": "stream",
     "text": [
      "# # # # \n",
      "# # # # \n",
      "# # # # \n",
      "# # # # \n"
     ]
    }
   ],
   "source": [
    "for i in range(4):\n",
    "    print(\"#\",end=\" \")\n",
    "print()           #new line\n",
    "for i in range(4):\n",
    "    print(\"#\",end=\" \")\n",
    "print()           #new line\n",
    "for i in range(4):\n",
    "    print(\"#\",end=\" \")\n",
    "print()           #new line\n",
    "for i in range(4):\n",
    "    print(\"#\",end=\" \")\n",
    "print()           #new line"
   ]
  },
  {
   "cell_type": "code",
   "execution_count": 40,
   "id": "1d1dcbf8",
   "metadata": {},
   "outputs": [
    {
     "name": "stdout",
     "output_type": "stream",
     "text": [
      "# # # # \n",
      "# # # # \n",
      "# # # # \n",
      "# # # # \n"
     ]
    }
   ],
   "source": [
    "for i in range(4):       #for rows\n",
    "    for j in range(4):   #for coloums\n",
    "        print(\"#\",end=\" \")\n",
    "    print()"
   ]
  },
  {
   "cell_type": "code",
   "execution_count": 41,
   "id": "1878fd83",
   "metadata": {},
   "outputs": [
    {
     "name": "stdout",
     "output_type": "stream",
     "text": [
      "# \n",
      "# # \n",
      "# # # \n",
      "# # # # \n",
      "# # # # # \n"
     ]
    }
   ],
   "source": [
    "for row in range(1,6):\n",
    "    for col in range(row):\n",
    "        print(\"#\",end=\" \")\n",
    "    print()"
   ]
  },
  {
   "cell_type": "code",
   "execution_count": 44,
   "id": "29083f7b",
   "metadata": {},
   "outputs": [
    {
     "name": "stdout",
     "output_type": "stream",
     "text": [
      "* \n",
      "* * \n",
      "* * * \n",
      "* * * * \n",
      "* * * * * \n"
     ]
    }
   ],
   "source": [
    "for i in range(1,6):\n",
    "    print(\"* \"*i)"
   ]
  },
  {
   "cell_type": "code",
   "execution_count": 50,
   "id": "f15fc631",
   "metadata": {},
   "outputs": [
    {
     "name": "stdout",
     "output_type": "stream",
     "text": [
      "Enter any number: 6\n",
      "* \n",
      "* * \n",
      "* * * \n",
      "* * * * \n",
      "* * * * * \n"
     ]
    }
   ],
   "source": [
    "num_line=int(input(\"Enter any number: \"))\n",
    "for row in range(1,num_line):\n",
    "    for col in range(row):\n",
    "        print(\"*\",end=\" \")\n",
    "    print()"
   ]
  },
  {
   "cell_type": "code",
   "execution_count": 48,
   "id": "6feac04f",
   "metadata": {},
   "outputs": [
    {
     "name": "stdout",
     "output_type": "stream",
     "text": [
      "Enter any number: 6\n",
      "* * * * * \n",
      "* * * * \n",
      "* * * \n",
      "* * \n",
      "* \n"
     ]
    }
   ],
   "source": [
    "num_line=int(input(\"Enter any number: \"))\n",
    "for row in range(1,num_line):\n",
    "    for col in range(num_line-row):\n",
    "        print(\"*\",end=\" \")\n",
    "    print()"
   ]
  },
  {
   "cell_type": "code",
   "execution_count": 53,
   "id": "af213150",
   "metadata": {},
   "outputs": [
    {
     "name": "stdout",
     "output_type": "stream",
     "text": [
      "1 \n",
      "2 2 \n",
      "3 3 3 \n",
      "4 4 4 4 \n",
      "5 5 5 5 5 \n"
     ]
    }
   ],
   "source": [
    "for i in range(1,6):\n",
    "    for j in range(i):\n",
    "        print(i,end=\" \")\n",
    "    print()"
   ]
  },
  {
   "cell_type": "code",
   "execution_count": null,
   "id": "9af5ae6b",
   "metadata": {},
   "outputs": [],
   "source": []
  }
 ],
 "metadata": {
  "kernelspec": {
   "display_name": "Python 3 (ipykernel)",
   "language": "python",
   "name": "python3"
  },
  "language_info": {
   "codemirror_mode": {
    "name": "ipython",
    "version": 3
   },
   "file_extension": ".py",
   "mimetype": "text/x-python",
   "name": "python",
   "nbconvert_exporter": "python",
   "pygments_lexer": "ipython3",
   "version": "3.11.4"
  }
 },
 "nbformat": 4,
 "nbformat_minor": 5
}
