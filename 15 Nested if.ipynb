{
 "cells": [
  {
   "cell_type": "markdown",
   "id": "cc5eddd0",
   "metadata": {},
   "source": [
    "## To check voting eligibility with ID verification"
   ]
  },
  {
   "cell_type": "code",
   "execution_count": 4,
   "id": "071663fc",
   "metadata": {},
   "outputs": [
    {
     "name": "stdout",
     "output_type": "stream",
     "text": [
      "Enter your age: 18\n",
      "Do you have ID? (Yes/No): no\n",
      "Please bring valid ID\n"
     ]
    }
   ],
   "source": [
    "2age = int(input(\"Enter your age: \"))\n",
    "has_id= str(input(\"Do you have ID? (Yes/No): \")).lower()\n",
    "\n",
    "if age >=18:\n",
    "    if has_id == \"yes\":\n",
    "        print(\"Yor are eligible\")\n",
    "    else:\n",
    "        print(\"Please bring valid ID\")\n",
    "else:\n",
    "    print(\"You are not eligible\")"
   ]
  },
  {
   "cell_type": "code",
   "execution_count": 2,
   "id": "470208b9",
   "metadata": {},
   "outputs": [
    {
     "name": "stdout",
     "output_type": "stream",
     "text": [
      "Enter your age: 17\n",
      "Do you have ID? (yes/no): yes\n",
      "You are not eligible\n"
     ]
    }
   ],
   "source": [
    "age=int(input(\"Enter your age: \"))\n",
    "has_id=str(input(\"Do you have ID? (yes/no): \")).lower()\n",
    "if age >= 18 and has_id == \"yes\":\n",
    "    print(\"You are eligible to vote\")\n",
    "elif age >= 18 and has_id == \"no\":\n",
    "    print(\"Please bring valid ID\")\n",
    "else:\n",
    "    print(\"You are not eligible\")"
   ]
  },
  {
   "cell_type": "markdown",
   "id": "15dc2f3b",
   "metadata": {},
   "source": [
    "## Example code to determine ticket pricing based on age and type"
   ]
  },
  {
   "cell_type": "code",
   "execution_count": 3,
   "id": "e2707218",
   "metadata": {},
   "outputs": [
    {
     "name": "stdout",
     "output_type": "stream",
     "text": [
      "Enter your age: 17\n",
      "Enter your type (ADULT/CHILD): adult\n",
      "Price is:  5\n"
     ]
    }
   ],
   "source": [
    "age = int(input(\"Enter your age: \"))\n",
    "ticket_type=str(input(\"Enter your type (ADULT/CHILD): \")).upper\n",
    "if age >= 18:\n",
    "    if ticket_type == \"ADULT\":\n",
    "        Price = 15\n",
    "    else:\n",
    "        price = 10\n",
    "else:\n",
    "    if age >= 12:\n",
    "        price = 5\n",
    "    else:\n",
    "        price = 2\n",
    "print(\"Price is: \",price)"
   ]
  },
  {
   "cell_type": "code",
   "execution_count": 5,
   "id": "c38ff2e8",
   "metadata": {},
   "outputs": [
    {
     "name": "stdout",
     "output_type": "stream",
     "text": [
      "Enter your age: 10\n",
      "ENter your gender (MALE/FEMALE): female\n",
      "Price of ticket is:  20\n"
     ]
    }
   ],
   "source": [
    "age=int(input(\"Enter your age: \"))\n",
    "gender=str(input(\"Enter your gender (MALE/FEMALE): \")).lower\n",
    "if gender == \"FEMALE\":\n",
    "    if age <= 10 or age > 10:\n",
    "        ticket = 20\n",
    "    else:\n",
    "        pass\n",
    "else:\n",
    "    if age <= 10:\n",
    "        ticket = 20\n",
    "    else:\n",
    "        ticket = 40\n",
    "print(\"Price of ticket is: \",ticket)"
   ]
  },
  {
   "cell_type": "code",
   "execution_count": 10,
   "id": "0174765f",
   "metadata": {},
   "outputs": [
    {
     "name": "stdout",
     "output_type": "stream",
     "text": [
      "Enter your age: 50\n",
      "Enter your gender(male/female): female\n",
      "ticket is:  50.0\n"
     ]
    }
   ],
   "source": [
    "age=int(input(\"Enter your age: \"))\n",
    "gender=str(input(\"Enter your gender(male/female): \")).lower()\n",
    "ticket=100\n",
    "if gender == \"male\":\n",
    "    if age <=10:\n",
    "        ticket = ticket/2\n",
    "    else:\n",
    "        ticket\n",
    "else:\n",
    "    ticket=ticket/2\n",
    "print(\"ticket is: \",ticket)"
   ]
  },
  {
   "cell_type": "markdown",
   "id": "c5fc5743",
   "metadata": {},
   "source": [
    "## Example code to calculate discount based on purchase amount and membership"
   ]
  },
  {
   "cell_type": "code",
   "execution_count": 13,
   "id": "4521ef68",
   "metadata": {},
   "outputs": [
    {
     "name": "stdout",
     "output_type": "stream",
     "text": [
      "Enter the amount of purchase: 101\n",
      "Are you a member (yes/no): yes\n",
      "Total amount of purchase is:  95.95\n"
     ]
    }
   ],
   "source": [
    "purchase_amt=float(input(\"Enter the amount of purchase: \"))\n",
    "is_member=(input(\"Are you a member (yes/no): \")).lower\n",
    "\n",
    "if is_member == \"yes\":\n",
    "    if purchase_amt >=100:\n",
    "        discount=0.1*purchase_amt\n",
    "    else:\n",
    "        discount=0.05*purchase_amt\n",
    "else:\n",
    "    if purchase_amt >=100:\n",
    "        discount=0.05*purchase_amt\n",
    "    else:\n",
    "        discount=0\n",
    "total_amt=purchase_amt-discount\n",
    "print(\"Total amount of purchase is: \",total_amt)"
   ]
  },
  {
   "cell_type": "code",
   "execution_count": null,
   "id": "9f10d579",
   "metadata": {},
   "outputs": [],
   "source": []
  }
 ],
 "metadata": {
  "kernelspec": {
   "display_name": "Python 3 (ipykernel)",
   "language": "python",
   "name": "python3"
  },
  "language_info": {
   "codemirror_mode": {
    "name": "ipython",
    "version": 3
   },
   "file_extension": ".py",
   "mimetype": "text/x-python",
   "name": "python",
   "nbconvert_exporter": "python",
   "pygments_lexer": "ipython3",
   "version": "3.11.4"
  }
 },
 "nbformat": 4,
 "nbformat_minor": 5
}
