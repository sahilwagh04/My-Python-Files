{
 "cells": [
  {
   "cell_type": "markdown",
   "id": "07392722",
   "metadata": {},
   "source": [
    "1. Pandas Series\n",
    "\n",
    "A pandas series is like a column in table\n",
    "\n",
    "Its a one-dimensional array holding data of any type"
   ]
  },
  {
   "cell_type": "code",
   "execution_count": 1,
   "id": "e3cfad93",
   "metadata": {},
   "outputs": [],
   "source": [
    "import pandas as pd"
   ]
  },
  {
   "cell_type": "code",
   "execution_count": 2,
   "id": "527a6867",
   "metadata": {},
   "outputs": [],
   "source": [
    "import numpy as np"
   ]
  },
  {
   "cell_type": "code",
   "execution_count": 3,
   "id": "8b301571",
   "metadata": {},
   "outputs": [
    {
     "data": {
      "text/plain": [
       "'2.1.0'"
      ]
     },
     "execution_count": 3,
     "metadata": {},
     "output_type": "execute_result"
    }
   ],
   "source": [
    "(pd.__version__)\n",
    "\n",
    "#version of pandas"
   ]
  },
  {
   "cell_type": "code",
   "execution_count": 4,
   "id": "9249e1c6",
   "metadata": {},
   "outputs": [
    {
     "data": {
      "text/plain": [
       "'1.24.3'"
      ]
     },
     "execution_count": 4,
     "metadata": {},
     "output_type": "execute_result"
    }
   ],
   "source": [
    "(np.__version__)\n",
    "\n",
    "#version of numpy"
   ]
  },
  {
   "cell_type": "code",
   "execution_count": null,
   "id": "c867be73",
   "metadata": {},
   "outputs": [],
   "source": []
  },
  {
   "cell_type": "markdown",
   "id": "3cd9c2c8",
   "metadata": {},
   "source": [
    "## How to make empty series"
   ]
  },
  {
   "cell_type": "code",
   "execution_count": 5,
   "id": "b43665de",
   "metadata": {},
   "outputs": [
    {
     "name": "stdout",
     "output_type": "stream",
     "text": [
      "Series([], dtype: object)\n",
      "<class 'pandas.core.series.Series'>\n"
     ]
    }
   ],
   "source": [
    "a=pd.Series()\n",
    "print(a)\n",
    "print(type(a))"
   ]
  },
  {
   "cell_type": "code",
   "execution_count": 6,
   "id": "450ed773",
   "metadata": {},
   "outputs": [
    {
     "data": {
      "text/plain": [
       "Series([], dtype: object)"
      ]
     },
     "execution_count": 6,
     "metadata": {},
     "output_type": "execute_result"
    }
   ],
   "source": [
    "a"
   ]
  },
  {
   "cell_type": "code",
   "execution_count": null,
   "id": "66aec9c7",
   "metadata": {},
   "outputs": [],
   "source": []
  },
  {
   "cell_type": "markdown",
   "id": "44d9e950",
   "metadata": {},
   "source": [
    "## How to make Series from list"
   ]
  },
  {
   "cell_type": "code",
   "execution_count": 7,
   "id": "0c81bf61",
   "metadata": {},
   "outputs": [
    {
     "name": "stdout",
     "output_type": "stream",
     "text": [
      "a     Virat\n",
      "b     Dhoni\n",
      "c    Hardik\n",
      "Name: Crickters, dtype: object\n"
     ]
    }
   ],
   "source": [
    "b=pd.Series([\"Virat\",\"Dhoni\",\"Hardik\"],index=[\"a\",\"b\",\"c\"],name=\"Crickters\")\n",
    "print(b)"
   ]
  },
  {
   "cell_type": "code",
   "execution_count": 9,
   "id": "a9934e81",
   "metadata": {},
   "outputs": [
    {
     "name": "stdout",
     "output_type": "stream",
     "text": [
      "0     50\n",
      "1    100\n",
      "2    200\n",
      "Name: Runs, dtype: object\n"
     ]
    }
   ],
   "source": [
    "c=pd.Series([\"50\",\"100\",\"200\"],name=\"Runs\")\n",
    "print(c)"
   ]
  },
  {
   "cell_type": "code",
   "execution_count": 10,
   "id": "b24d18bd",
   "metadata": {},
   "outputs": [
    {
     "name": "stdout",
     "output_type": "stream",
     "text": [
      "0    RCB\n",
      "1     MI\n",
      "2    KKR\n",
      "Name: Team, dtype: object\n"
     ]
    }
   ],
   "source": [
    "d=pd.Series([\"RCB\",\"MI\",\"KKR\"],name=\"Team\")\n",
    "print(d)"
   ]
  },
  {
   "cell_type": "markdown",
   "id": "289acd68",
   "metadata": {},
   "source": [
    "## How to make series from nd array\n",
    "\n",
    "list --> array -->Series"
   ]
  },
  {
   "cell_type": "code",
   "execution_count": 12,
   "id": "3649394e",
   "metadata": {},
   "outputs": [
    {
     "data": {
      "text/plain": [
       "0    a\n",
       "1    b\n",
       "2    c\n",
       "dtype: object"
      ]
     },
     "execution_count": 12,
     "metadata": {},
     "output_type": "execute_result"
    }
   ],
   "source": [
    "import numpy as np\n",
    "my_array=np.array([\"a\",\"b\",\"c\"])\n",
    "my_array\n",
    "\n",
    "s1=pd.Series(my_array)\n",
    "s1"
   ]
  },
  {
   "cell_type": "code",
   "execution_count": null,
   "id": "cb262fc1",
   "metadata": {},
   "outputs": [],
   "source": []
  },
  {
   "cell_type": "markdown",
   "id": "a61d0140",
   "metadata": {},
   "source": [
    "## How to make Series drom Dictionary"
   ]
  },
  {
   "cell_type": "code",
   "execution_count": 13,
   "id": "f34ecde7",
   "metadata": {},
   "outputs": [
    {
     "data": {
      "text/plain": [
       "Name             Dhoni\n",
       "Profession    Crickter\n",
       "Age                 41\n",
       "dtype: object"
      ]
     },
     "execution_count": 13,
     "metadata": {},
     "output_type": "execute_result"
    }
   ],
   "source": [
    "my_dict={\"Name\":\"Dhoni\",\"Profession\":\"Crickter\",\"Age\":41}\n",
    "my_dict\n",
    "\n",
    "s2=pd.Series(my_dict)\n",
    "s2"
   ]
  },
  {
   "cell_type": "code",
   "execution_count": 15,
   "id": "b33cc1aa",
   "metadata": {},
   "outputs": [
    {
     "data": {
      "text/plain": [
       "1       Dhoni\n",
       "2    Crickter\n",
       "3          41\n",
       "dtype: object"
      ]
     },
     "execution_count": 15,
     "metadata": {},
     "output_type": "execute_result"
    }
   ],
   "source": [
    "my_dict={1:\"Dhoni\",2:\"Crickter\",3:41}\n",
    "my_dict\n",
    "\n",
    "s2=pd.Series(my_dict)\n",
    "s2"
   ]
  },
  {
   "cell_type": "code",
   "execution_count": null,
   "id": "7913d259",
   "metadata": {},
   "outputs": [],
   "source": []
  },
  {
   "cell_type": "markdown",
   "id": "b613b937",
   "metadata": {},
   "source": [
    "## Create series using Tuple"
   ]
  },
  {
   "cell_type": "code",
   "execution_count": 16,
   "id": "f7bc5916",
   "metadata": {},
   "outputs": [
    {
     "name": "stdout",
     "output_type": "stream",
     "text": [
      "0    1\n",
      "1    2\n",
      "2    3\n",
      "3    4\n",
      "4    5\n",
      "dtype: int64\n"
     ]
    }
   ],
   "source": [
    "t=(1,2,3,4,5)\n",
    "s=pd.Series(t)\n",
    "print(s)"
   ]
  },
  {
   "cell_type": "markdown",
   "id": "59b4a66d",
   "metadata": {},
   "source": [
    "## Create series from set"
   ]
  },
  {
   "cell_type": "code",
   "execution_count": 17,
   "id": "08d57b38",
   "metadata": {},
   "outputs": [
    {
     "ename": "TypeError",
     "evalue": "'set' type is unordered",
     "output_type": "error",
     "traceback": [
      "\u001b[1;31m---------------------------------------------------------------------------\u001b[0m",
      "\u001b[1;31mTypeError\u001b[0m                                 Traceback (most recent call last)",
      "Cell \u001b[1;32mIn[17], line 2\u001b[0m\n\u001b[0;32m      1\u001b[0m s\u001b[38;5;241m=\u001b[39m{\u001b[38;5;241m1\u001b[39m,\u001b[38;5;241m2\u001b[39m,\u001b[38;5;241m3\u001b[39m,\u001b[38;5;241m4\u001b[39m,\u001b[38;5;241m5\u001b[39m,\u001b[38;5;124m\"\u001b[39m\u001b[38;5;124msarthak\u001b[39m\u001b[38;5;124m\"\u001b[39m}\n\u001b[1;32m----> 2\u001b[0m x\u001b[38;5;241m=\u001b[39mpd\u001b[38;5;241m.\u001b[39mSeries(s)\n",
      "File \u001b[1;32m~\\anaconda3\\Lib\\site-packages\\pandas\\core\\series.py:512\u001b[0m, in \u001b[0;36mSeries.__init__\u001b[1;34m(self, data, index, dtype, name, copy, fastpath)\u001b[0m\n\u001b[0;32m    510\u001b[0m         data \u001b[38;5;241m=\u001b[39m data\u001b[38;5;241m.\u001b[39mcopy()\n\u001b[0;32m    511\u001b[0m \u001b[38;5;28;01melse\u001b[39;00m:\n\u001b[1;32m--> 512\u001b[0m     data \u001b[38;5;241m=\u001b[39m sanitize_array(data, index, dtype, copy)\n\u001b[0;32m    514\u001b[0m     manager \u001b[38;5;241m=\u001b[39m get_option(\u001b[38;5;124m\"\u001b[39m\u001b[38;5;124mmode.data_manager\u001b[39m\u001b[38;5;124m\"\u001b[39m)\n\u001b[0;32m    515\u001b[0m     \u001b[38;5;28;01mif\u001b[39;00m manager \u001b[38;5;241m==\u001b[39m \u001b[38;5;124m\"\u001b[39m\u001b[38;5;124mblock\u001b[39m\u001b[38;5;124m\"\u001b[39m:\n",
      "File \u001b[1;32m~\\anaconda3\\Lib\\site-packages\\pandas\\core\\construction.py:619\u001b[0m, in \u001b[0;36msanitize_array\u001b[1;34m(data, index, dtype, copy, allow_2d)\u001b[0m\n\u001b[0;32m    610\u001b[0m     \u001b[38;5;28;01mreturn\u001b[39;00m sanitize_array(\n\u001b[0;32m    611\u001b[0m         data,\n\u001b[0;32m    612\u001b[0m         index\u001b[38;5;241m=\u001b[39mindex,\n\u001b[1;32m   (...)\u001b[0m\n\u001b[0;32m    615\u001b[0m         allow_2d\u001b[38;5;241m=\u001b[39mallow_2d,\n\u001b[0;32m    616\u001b[0m     )\n\u001b[0;32m    618\u001b[0m \u001b[38;5;28;01melse\u001b[39;00m:\n\u001b[1;32m--> 619\u001b[0m     _sanitize_non_ordered(data)\n\u001b[0;32m    620\u001b[0m     \u001b[38;5;66;03m# materialize e.g. generators, convert e.g. tuples, abc.ValueView\u001b[39;00m\n\u001b[0;32m    621\u001b[0m     data \u001b[38;5;241m=\u001b[39m \u001b[38;5;28mlist\u001b[39m(data)\n",
      "File \u001b[1;32m~\\anaconda3\\Lib\\site-packages\\pandas\\core\\construction.py:670\u001b[0m, in \u001b[0;36m_sanitize_non_ordered\u001b[1;34m(data)\u001b[0m\n\u001b[0;32m    666\u001b[0m \u001b[38;5;250m\u001b[39m\u001b[38;5;124;03m\"\"\"\u001b[39;00m\n\u001b[0;32m    667\u001b[0m \u001b[38;5;124;03mRaise only for unordered sets, e.g., not for dict_keys\u001b[39;00m\n\u001b[0;32m    668\u001b[0m \u001b[38;5;124;03m\"\"\"\u001b[39;00m\n\u001b[0;32m    669\u001b[0m \u001b[38;5;28;01mif\u001b[39;00m \u001b[38;5;28misinstance\u001b[39m(data, (\u001b[38;5;28mset\u001b[39m, \u001b[38;5;28mfrozenset\u001b[39m)):\n\u001b[1;32m--> 670\u001b[0m     \u001b[38;5;28;01mraise\u001b[39;00m \u001b[38;5;167;01mTypeError\u001b[39;00m(\u001b[38;5;124mf\u001b[39m\u001b[38;5;124m\"\u001b[39m\u001b[38;5;124m'\u001b[39m\u001b[38;5;132;01m{\u001b[39;00m\u001b[38;5;28mtype\u001b[39m(data)\u001b[38;5;241m.\u001b[39m\u001b[38;5;18m__name__\u001b[39m\u001b[38;5;132;01m}\u001b[39;00m\u001b[38;5;124m'\u001b[39m\u001b[38;5;124m type is unordered\u001b[39m\u001b[38;5;124m\"\u001b[39m)\n",
      "\u001b[1;31mTypeError\u001b[0m: 'set' type is unordered"
     ]
    }
   ],
   "source": [
    "s={1,2,3,4,5,\"sarthak\"}\n",
    "x=pd.Series(s)\n",
    "\n",
    "\n",
    "\n",
    "#s3=pd.Series({\"a\",\"b\",\"c\"})\n",
    "#s3\n",
    "#error\n",
    "\n",
    "#we cannot make series from set"
   ]
  },
  {
   "cell_type": "code",
   "execution_count": null,
   "id": "8025f820",
   "metadata": {},
   "outputs": [],
   "source": []
  },
  {
   "cell_type": "markdown",
   "id": "43ee1657",
   "metadata": {},
   "source": [
    "## Attribute of Series"
   ]
  },
  {
   "cell_type": "code",
   "execution_count": 28,
   "id": "087270e9",
   "metadata": {},
   "outputs": [
    {
     "name": "stdout",
     "output_type": "stream",
     "text": [
      "a     Virat\n",
      "b     Dhoni\n",
      "c    Hardik\n",
      "d    Sachin\n",
      "Name: Crickter, dtype: object\n"
     ]
    }
   ],
   "source": [
    "b=pd.Series([\"Virat\",\"Dhoni\",\"Hardik\",\"Sachin\"],index=[\"a\",\"b\",\"c\",\"d\"],name=\"Crickter\")\n",
    "print(b)"
   ]
  },
  {
   "cell_type": "code",
   "execution_count": null,
   "id": "aeef2e3d",
   "metadata": {},
   "outputs": [],
   "source": []
  },
  {
   "cell_type": "markdown",
   "id": "058a5dc9",
   "metadata": {},
   "source": [
    "## 1. Index\n",
    "\n",
    "Return all index values"
   ]
  },
  {
   "cell_type": "code",
   "execution_count": 29,
   "id": "a6f41936",
   "metadata": {},
   "outputs": [
    {
     "data": {
      "text/plain": [
       "Index(['a', 'b', 'c', 'd'], dtype='object')"
      ]
     },
     "execution_count": 29,
     "metadata": {},
     "output_type": "execute_result"
    }
   ],
   "source": [
    "b.index"
   ]
  },
  {
   "cell_type": "code",
   "execution_count": null,
   "id": "b35d2ec6",
   "metadata": {},
   "outputs": [],
   "source": []
  },
  {
   "cell_type": "markdown",
   "id": "002091e9",
   "metadata": {},
   "source": [
    "## 2. Array\n",
    "\n",
    "Returns an array of values"
   ]
  },
  {
   "cell_type": "code",
   "execution_count": 30,
   "id": "c5feff37",
   "metadata": {},
   "outputs": [
    {
     "name": "stdout",
     "output_type": "stream",
     "text": [
      "<NumpyExtensionArray>\n",
      "['Virat', 'Dhoni', 'Hardik', 'Sachin']\n",
      "Length: 4, dtype: object\n"
     ]
    }
   ],
   "source": [
    "b_new=b.array\n",
    "print(b_new)"
   ]
  },
  {
   "cell_type": "markdown",
   "id": "383ba8d6",
   "metadata": {},
   "source": [
    "## 3. Values\n",
    "\n",
    "Returns values of series"
   ]
  },
  {
   "cell_type": "code",
   "execution_count": 31,
   "id": "f054e32a",
   "metadata": {},
   "outputs": [
    {
     "data": {
      "text/plain": [
       "array(['Virat', 'Dhoni', 'Hardik', 'Sachin'], dtype=object)"
      ]
     },
     "execution_count": 31,
     "metadata": {},
     "output_type": "execute_result"
    }
   ],
   "source": [
    "b.values"
   ]
  },
  {
   "cell_type": "code",
   "execution_count": null,
   "id": "a1f02afd",
   "metadata": {},
   "outputs": [],
   "source": []
  },
  {
   "cell_type": "code",
   "execution_count": null,
   "id": "8235f663",
   "metadata": {},
   "outputs": [],
   "source": []
  },
  {
   "cell_type": "markdown",
   "id": "b456fdb1",
   "metadata": {},
   "source": [
    "## 4. Name\n",
    "\n",
    "Return name of Series"
   ]
  },
  {
   "cell_type": "code",
   "execution_count": 32,
   "id": "2958647c",
   "metadata": {},
   "outputs": [
    {
     "data": {
      "text/plain": [
       "'Crickter'"
      ]
     },
     "execution_count": 32,
     "metadata": {},
     "output_type": "execute_result"
    }
   ],
   "source": [
    "b.name"
   ]
  },
  {
   "cell_type": "code",
   "execution_count": 33,
   "id": "e0386409",
   "metadata": {},
   "outputs": [
    {
     "name": "stdout",
     "output_type": "stream",
     "text": [
      "0     1\n",
      "1     2\n",
      "2     3\n",
      "3     4\n",
      "4     5\n",
      "5    45\n",
      "6     6\n",
      "7    48\n",
      "Name: abc, dtype: int64\n"
     ]
    }
   ],
   "source": [
    "v=[1,2,3,4,5,45,6,48]\n",
    "s=pd.Series(v,name=\"abc\")\n",
    "print(s)"
   ]
  },
  {
   "cell_type": "code",
   "execution_count": 34,
   "id": "4174262d",
   "metadata": {},
   "outputs": [
    {
     "data": {
      "text/plain": [
       "'abc'"
      ]
     },
     "execution_count": 34,
     "metadata": {},
     "output_type": "execute_result"
    }
   ],
   "source": [
    "s.name"
   ]
  },
  {
   "cell_type": "markdown",
   "id": "6037eba9",
   "metadata": {},
   "source": [
    "## 5. Shape\n",
    "\n",
    "Return Shape of Series"
   ]
  },
  {
   "cell_type": "code",
   "execution_count": 35,
   "id": "fda3f45b",
   "metadata": {},
   "outputs": [
    {
     "data": {
      "text/plain": [
       "(4,)"
      ]
     },
     "execution_count": 35,
     "metadata": {},
     "output_type": "execute_result"
    }
   ],
   "source": [
    "b.shape\n",
    "\n",
    "#it has 3 rows"
   ]
  },
  {
   "cell_type": "code",
   "execution_count": 36,
   "id": "61863dc5",
   "metadata": {},
   "outputs": [
    {
     "data": {
      "text/plain": [
       "(8,)"
      ]
     },
     "execution_count": 36,
     "metadata": {},
     "output_type": "execute_result"
    }
   ],
   "source": [
    "s.shape"
   ]
  },
  {
   "cell_type": "markdown",
   "id": "02898e8b",
   "metadata": {},
   "source": [
    "## 6. Empty\n",
    "\n",
    "Return true if series is empty"
   ]
  },
  {
   "cell_type": "code",
   "execution_count": 44,
   "id": "d2945a41",
   "metadata": {},
   "outputs": [
    {
     "data": {
      "text/plain": [
       "False"
      ]
     },
     "execution_count": 44,
     "metadata": {},
     "output_type": "execute_result"
    }
   ],
   "source": [
    "b.empty"
   ]
  },
  {
   "cell_type": "code",
   "execution_count": 45,
   "id": "bd2e19a7",
   "metadata": {},
   "outputs": [
    {
     "data": {
      "text/plain": [
       "False"
      ]
     },
     "execution_count": 45,
     "metadata": {},
     "output_type": "execute_result"
    }
   ],
   "source": [
    "s.empty"
   ]
  },
  {
   "cell_type": "code",
   "execution_count": 46,
   "id": "3fd2b310",
   "metadata": {},
   "outputs": [],
   "source": [
    "empty_series=pd.Series()\n",
    "\n",
    "#This Error will occur\n",
    "\n",
    "#C: \\Users \\Shree\\AppData\\Local\\Temp\\ipykernel_14676\\2907974055.p:1: FutureWarning: The default type for empty Series \n",
    "#will be 'o biect' instead of 'float64' in a future version.\n",
    "#Specify a dtype explicitly to silence this warning.\n",
    "#empty_series=pd.Series ()"
   ]
  },
  {
   "cell_type": "code",
   "execution_count": 47,
   "id": "5ebe05a4",
   "metadata": {},
   "outputs": [
    {
     "data": {
      "text/plain": [
       "True"
      ]
     },
     "execution_count": 47,
     "metadata": {},
     "output_type": "execute_result"
    }
   ],
   "source": [
    "empty_series.empty"
   ]
  },
  {
   "cell_type": "markdown",
   "id": "060136dc",
   "metadata": {},
   "source": [
    "## 7. memory_usage(method or function)\n",
    "\n",
    "Return memory occuoied by values and indexs"
   ]
  },
  {
   "cell_type": "code",
   "execution_count": 51,
   "id": "d08791c9",
   "metadata": {},
   "outputs": [
    {
     "data": {
      "text/plain": [
       "64"
      ]
     },
     "execution_count": 51,
     "metadata": {},
     "output_type": "execute_result"
    }
   ],
   "source": [
    "b.memory_usage()\n"
   ]
  },
  {
   "cell_type": "code",
   "execution_count": 52,
   "id": "384dede4",
   "metadata": {},
   "outputs": [
    {
     "data": {
      "text/plain": [
       "196"
      ]
     },
     "execution_count": 52,
     "metadata": {},
     "output_type": "execute_result"
    }
   ],
   "source": [
    "s.memory_usage()"
   ]
  },
  {
   "cell_type": "code",
   "execution_count": 53,
   "id": "5229d2f7",
   "metadata": {},
   "outputs": [
    {
     "data": {
      "text/plain": [
       "132"
      ]
     },
     "execution_count": 53,
     "metadata": {},
     "output_type": "execute_result"
    }
   ],
   "source": [
    "empty_series.memory_usage()"
   ]
  },
  {
   "cell_type": "markdown",
   "id": "74471f79",
   "metadata": {},
   "source": [
    "## 8. nbytes\n",
    "\n",
    "Return memory occupied values"
   ]
  },
  {
   "cell_type": "code",
   "execution_count": 54,
   "id": "6781d9a6",
   "metadata": {},
   "outputs": [
    {
     "data": {
      "text/plain": [
       "32"
      ]
     },
     "execution_count": 54,
     "metadata": {},
     "output_type": "execute_result"
    }
   ],
   "source": [
    "b.nbytes"
   ]
  },
  {
   "cell_type": "code",
   "execution_count": 55,
   "id": "1be0a5ce",
   "metadata": {},
   "outputs": [
    {
     "data": {
      "text/plain": [
       "0"
      ]
     },
     "execution_count": 55,
     "metadata": {},
     "output_type": "execute_result"
    }
   ],
   "source": [
    "empty_series.nbytes"
   ]
  },
  {
   "cell_type": "markdown",
   "id": "0f3b2ce0",
   "metadata": {},
   "source": [
    "## Series from list of tupples"
   ]
  },
  {
   "cell_type": "code",
   "execution_count": 56,
   "id": "7040f457",
   "metadata": {},
   "outputs": [
    {
     "data": {
      "text/plain": [
       "0    (1, 0)\n",
       "1    (2, 0)\n",
       "2    (3, 0)\n",
       "dtype: object"
      ]
     },
     "execution_count": 56,
     "metadata": {},
     "output_type": "execute_result"
    }
   ],
   "source": [
    "s4=pd.Series([(1,0),(2,0),(3,0)])\n",
    "s4"
   ]
  },
  {
   "cell_type": "code",
   "execution_count": null,
   "id": "f29fb18f",
   "metadata": {},
   "outputs": [],
   "source": []
  },
  {
   "cell_type": "code",
   "execution_count": null,
   "id": "d49560df",
   "metadata": {},
   "outputs": [],
   "source": []
  },
  {
   "cell_type": "markdown",
   "id": "725599cb",
   "metadata": {},
   "source": [
    "## Mathematical Operation on Series"
   ]
  },
  {
   "cell_type": "code",
   "execution_count": 58,
   "id": "404dc05c",
   "metadata": {},
   "outputs": [
    {
     "data": {
      "text/plain": [
       "0    10\n",
       "1    20\n",
       "2    30\n",
       "dtype: int64"
      ]
     },
     "execution_count": 58,
     "metadata": {},
     "output_type": "execute_result"
    }
   ],
   "source": [
    "s1=pd.Series([10,20,30])\n",
    "s1"
   ]
  },
  {
   "cell_type": "code",
   "execution_count": 59,
   "id": "4eb2cb43",
   "metadata": {},
   "outputs": [
    {
     "data": {
      "text/plain": [
       "0     5\n",
       "1    15\n",
       "2    25\n",
       "dtype: int64"
      ]
     },
     "execution_count": 59,
     "metadata": {},
     "output_type": "execute_result"
    }
   ],
   "source": [
    "s2=pd.Series([5,15,25])\n",
    "s2"
   ]
  },
  {
   "cell_type": "code",
   "execution_count": 60,
   "id": "a142115b",
   "metadata": {},
   "outputs": [
    {
     "data": {
      "text/plain": [
       "0    15\n",
       "1    35\n",
       "2    55\n",
       "dtype: int64"
      ]
     },
     "execution_count": 60,
     "metadata": {},
     "output_type": "execute_result"
    }
   ],
   "source": [
    "s1 + s2"
   ]
  },
  {
   "cell_type": "code",
   "execution_count": 61,
   "id": "9f9cd5c3",
   "metadata": {},
   "outputs": [
    {
     "data": {
      "text/plain": [
       "0    15\n",
       "1    35\n",
       "2    55\n",
       "dtype: int64"
      ]
     },
     "execution_count": 61,
     "metadata": {},
     "output_type": "execute_result"
    }
   ],
   "source": [
    "#add\n",
    "\n",
    "s1.add(s2)"
   ]
  },
  {
   "cell_type": "code",
   "execution_count": 62,
   "id": "e57216fe",
   "metadata": {},
   "outputs": [
    {
     "data": {
      "text/plain": [
       "0     50\n",
       "1    300\n",
       "2    750\n",
       "dtype: int64"
      ]
     },
     "execution_count": 62,
     "metadata": {},
     "output_type": "execute_result"
    }
   ],
   "source": [
    "#mult\n",
    "\n",
    "s1.multiply(s2)"
   ]
  },
  {
   "cell_type": "code",
   "execution_count": 63,
   "id": "b4224291",
   "metadata": {},
   "outputs": [
    {
     "data": {
      "text/plain": [
       "0    2.000000\n",
       "1    1.333333\n",
       "2    1.200000\n",
       "dtype: float64"
      ]
     },
     "execution_count": 63,
     "metadata": {},
     "output_type": "execute_result"
    }
   ],
   "source": [
    "# divide\n",
    "\n",
    "s1.divide(s2)"
   ]
  },
  {
   "cell_type": "code",
   "execution_count": 64,
   "id": "26f025b5",
   "metadata": {},
   "outputs": [
    {
     "data": {
      "text/plain": [
       "0    0\n",
       "1    5\n",
       "2    5\n",
       "dtype: int64"
      ]
     },
     "execution_count": 64,
     "metadata": {},
     "output_type": "execute_result"
    }
   ],
   "source": [
    "# modulous\n",
    "\n",
    "s1.mod(s2)"
   ]
  },
  {
   "cell_type": "code",
   "execution_count": 65,
   "id": "6109e90c",
   "metadata": {},
   "outputs": [
    {
     "data": {
      "text/plain": [
       "0                 100000\n",
       "1   -4125488147419103232\n",
       "2    8896730407173619712\n",
       "dtype: int64"
      ]
     },
     "execution_count": 65,
     "metadata": {},
     "output_type": "execute_result"
    }
   ],
   "source": [
    "# power\n",
    "\n",
    "s1.pow(s2)"
   ]
  },
  {
   "cell_type": "code",
   "execution_count": 66,
   "id": "9e833f6e",
   "metadata": {},
   "outputs": [
    {
     "data": {
      "text/plain": [
       "0    100\n",
       "1    400\n",
       "2    900\n",
       "dtype: int64"
      ]
     },
     "execution_count": 66,
     "metadata": {},
     "output_type": "execute_result"
    }
   ],
   "source": [
    "s1.pow(2)"
   ]
  },
  {
   "cell_type": "code",
   "execution_count": 67,
   "id": "12b2ed43",
   "metadata": {},
   "outputs": [
    {
     "data": {
      "text/plain": [
       "0    False\n",
       "1    False\n",
       "2    False\n",
       "dtype: bool"
      ]
     },
     "execution_count": 67,
     "metadata": {},
     "output_type": "execute_result"
    }
   ],
   "source": [
    "# less than\n",
    "s1.le(s2)"
   ]
  },
  {
   "cell_type": "code",
   "execution_count": 68,
   "id": "d5034825",
   "metadata": {},
   "outputs": [
    {
     "data": {
      "text/plain": [
       "0    True\n",
       "1    True\n",
       "2    True\n",
       "dtype: bool"
      ]
     },
     "execution_count": 68,
     "metadata": {},
     "output_type": "execute_result"
    }
   ],
   "source": [
    "# greater than\n",
    "\n",
    "s1.gt(s2)"
   ]
  },
  {
   "cell_type": "code",
   "execution_count": 69,
   "id": "e28e4387",
   "metadata": {},
   "outputs": [
    {
     "data": {
      "text/plain": [
       "True"
      ]
     },
     "execution_count": 69,
     "metadata": {},
     "output_type": "execute_result"
    }
   ],
   "source": [
    "# equal\n",
    "\n",
    "s3=pd.Series([5,15,25])\n",
    "s4=pd.Series([5,15,25])\n",
    "s3.equals(s4)"
   ]
  },
  {
   "cell_type": "code",
   "execution_count": 70,
   "id": "b0ad781f",
   "metadata": {},
   "outputs": [
    {
     "data": {
      "text/plain": [
       "0    10.0\n",
       "1    30.0\n",
       "2    50.0\n",
       "3     NaN\n",
       "dtype: float64"
      ]
     },
     "execution_count": 70,
     "metadata": {},
     "output_type": "execute_result"
    }
   ],
   "source": [
    "s3=pd.Series([5,15,25,50])\n",
    "s4=pd.Series([5,15,25])\n",
    "\n",
    "s3.add(s4)"
   ]
  },
  {
   "cell_type": "code",
   "execution_count": null,
   "id": "1110d609",
   "metadata": {},
   "outputs": [],
   "source": []
  },
  {
   "cell_type": "code",
   "execution_count": 73,
   "id": "e38a5c1e",
   "metadata": {},
   "outputs": [
    {
     "data": {
      "text/plain": [
       "0    (1, 0, 1, 0)\n",
       "1    (2, 0, 2, 0)\n",
       "2    (3, 0, 3, 0)\n",
       "dtype: object"
      ]
     },
     "execution_count": 73,
     "metadata": {},
     "output_type": "execute_result"
    }
   ],
   "source": [
    "s4=pd.Series([(1,0),(2,0),(3,0)])\n",
    "s5=pd.Series([(1,0),(2,0),(3,0)])\n",
    "s4.add(s5)"
   ]
  },
  {
   "cell_type": "code",
   "execution_count": null,
   "id": "b3dc34be",
   "metadata": {},
   "outputs": [],
   "source": []
  }
 ],
 "metadata": {
  "kernelspec": {
   "display_name": "Python 3 (ipykernel)",
   "language": "python",
   "name": "python3"
  },
  "language_info": {
   "codemirror_mode": {
    "name": "ipython",
    "version": 3
   },
   "file_extension": ".py",
   "mimetype": "text/x-python",
   "name": "python",
   "nbconvert_exporter": "python",
   "pygments_lexer": "ipython3",
   "version": "3.11.4"
  }
 },
 "nbformat": 4,
 "nbformat_minor": 5
}
