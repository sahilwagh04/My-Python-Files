{
 "cells": [
  {
   "cell_type": "markdown",
   "id": "383b9b0c",
   "metadata": {},
   "source": [
    "## Numpy"
   ]
  },
  {
   "cell_type": "markdown",
   "id": "d8c049fb",
   "metadata": {},
   "source": [
    "- Array from numpy"
   ]
  },
  {
   "cell_type": "markdown",
   "id": "70f6066f",
   "metadata": {},
   "source": [
    "### Difference between array and list"
   ]
  },
  {
   "cell_type": "markdown",
   "id": "3546d971",
   "metadata": {},
   "source": [
    "## Array"
   ]
  },
  {
   "cell_type": "markdown",
   "id": "374e5396",
   "metadata": {},
   "source": [
    "- An array is a collection of homogenous data-types.\n",
    "- 4 byte\n",
    "- Array can store data very compactly and more effcient for storing large amount of data.\n",
    "- Array are great for numerical operations, list cannot directly handle math operations\n",
    "- As the array size increases, numpy array get around 30 times faster than python list.\n",
    "- Because the numpy array is denely packed in memory due to homogeous type, also frees the memory faster.\n",
    "- you have to explicity import nupy to use array"
   ]
  },
  {
   "cell_type": "markdown",
   "id": "bd645940",
   "metadata": {},
   "source": [
    "## List\n",
    "\n",
    "- wheras list is a collection of hetrogeneous data-types\n",
    "- 14 byte\n",
    "- List less effcient than array for storing large amount of data.\n",
    "- its is python data type"
   ]
  },
  {
   "cell_type": "code",
   "execution_count": 4,
   "id": "9e0dc7ad",
   "metadata": {},
   "outputs": [
    {
     "data": {
      "text/plain": [
       "['sahil', 1, 2, True]"
      ]
     },
     "execution_count": 4,
     "metadata": {},
     "output_type": "execute_result"
    }
   ],
   "source": [
    "a=[\"sahil\",1,2,True]\n",
    "a"
   ]
  },
  {
   "cell_type": "code",
   "execution_count": 5,
   "id": "5b3751d3",
   "metadata": {},
   "outputs": [
    {
     "data": {
      "text/plain": [
       "[1, 2, 3, 5]"
      ]
     },
     "execution_count": 5,
     "metadata": {},
     "output_type": "execute_result"
    }
   ],
   "source": [
    "array=[1,2,3,5]\n",
    "array"
   ]
  },
  {
   "cell_type": "code",
   "execution_count": 64,
   "id": "e6281b3c",
   "metadata": {},
   "outputs": [],
   "source": [
    "import numpy as np"
   ]
  },
  {
   "cell_type": "code",
   "execution_count": 65,
   "id": "74c555e9",
   "metadata": {},
   "outputs": [
    {
     "name": "stdout",
     "output_type": "stream",
     "text": [
      "['ram', 123, 50.5, (7+2j)]\n"
     ]
    },
    {
     "data": {
      "text/plain": [
       "list"
      ]
     },
     "execution_count": 65,
     "metadata": {},
     "output_type": "execute_result"
    }
   ],
   "source": [
    "my_list=[\"ram\",123,50.5,7+2j]\n",
    "print(my_list)\n",
    "type(my_list)\n",
    "#Whereas list is a collection of hetrogeneous data-types"
   ]
  },
  {
   "cell_type": "markdown",
   "id": "c3d1dd40",
   "metadata": {},
   "source": [
    "## Create array"
   ]
  },
  {
   "cell_type": "code",
   "execution_count": 66,
   "id": "eb2c5139",
   "metadata": {},
   "outputs": [
    {
     "name": "stdout",
     "output_type": "stream",
     "text": [
      "[[[1 2 3 6 9]]]\n"
     ]
    },
    {
     "data": {
      "text/plain": [
       "numpy.ndarray"
      ]
     },
     "execution_count": 66,
     "metadata": {},
     "output_type": "execute_result"
    }
   ],
   "source": [
    "a=np.array([[[1,2,3,6,9]]])\n",
    "print(a)\n",
    "type(a)"
   ]
  },
  {
   "cell_type": "code",
   "execution_count": 67,
   "id": "c04e93a0",
   "metadata": {},
   "outputs": [
    {
     "data": {
      "text/plain": [
       "3"
      ]
     },
     "execution_count": 67,
     "metadata": {},
     "output_type": "execute_result"
    }
   ],
   "source": [
    "a.ndim"
   ]
  },
  {
   "cell_type": "markdown",
   "id": "462119bc",
   "metadata": {},
   "source": [
    "## String > Complex > float > int"
   ]
  },
  {
   "cell_type": "code",
   "execution_count": 68,
   "id": "e8bbd381",
   "metadata": {},
   "outputs": [
    {
     "name": "stdout",
     "output_type": "stream",
     "text": [
      "['ram' '123' '50.5' '(7+2j)']\n"
     ]
    },
    {
     "data": {
      "text/plain": [
       "numpy.ndarray"
      ]
     },
     "execution_count": 68,
     "metadata": {},
     "output_type": "execute_result"
    }
   ],
   "source": [
    "my_array=np.array([\"ram\",123,50.5,7+2j])\n",
    "print(my_array)\n",
    "type(my_array)\n",
    "#An array is a collection of homogenous data-types."
   ]
  },
  {
   "cell_type": "code",
   "execution_count": 69,
   "id": "bb6c15bc",
   "metadata": {},
   "outputs": [
    {
     "name": "stdout",
     "output_type": "stream",
     "text": [
      "['123' 'sahil' 'sayli' '45.7']\n"
     ]
    },
    {
     "data": {
      "text/plain": [
       "numpy.ndarray"
      ]
     },
     "execution_count": 69,
     "metadata": {},
     "output_type": "execute_result"
    }
   ],
   "source": [
    "x=np.array([123,\"sahil\",\"sayli\",45.7])\n",
    "print(x)\n",
    "type(x)"
   ]
  },
  {
   "cell_type": "code",
   "execution_count": 70,
   "id": "4c8a2a60",
   "metadata": {},
   "outputs": [
    {
     "name": "stdout",
     "output_type": "stream",
     "text": [
      "[123. +0.j   2. +4.j  45.7+0.j   2. +0.j]\n"
     ]
    },
    {
     "data": {
      "text/plain": [
       "numpy.ndarray"
      ]
     },
     "execution_count": 70,
     "metadata": {},
     "output_type": "execute_result"
    }
   ],
   "source": [
    "x=np.array([123,2+4j,45.7,2])  #int,float,complex\n",
    "print(x)\n",
    "type(x)"
   ]
  },
  {
   "cell_type": "code",
   "execution_count": 71,
   "id": "d9387eda",
   "metadata": {},
   "outputs": [
    {
     "name": "stdout",
     "output_type": "stream",
     "text": [
      "[123.   50.5]\n"
     ]
    },
    {
     "data": {
      "text/plain": [
       "numpy.ndarray"
      ]
     },
     "execution_count": 71,
     "metadata": {},
     "output_type": "execute_result"
    }
   ],
   "source": [
    "my_array=np.array([123,50.5])\n",
    "print(my_array)\n",
    "type(my_array)"
   ]
  },
  {
   "cell_type": "markdown",
   "id": "904dcb5d",
   "metadata": {},
   "source": [
    "## Empty Numpy array"
   ]
  },
  {
   "cell_type": "code",
   "execution_count": 72,
   "id": "e570ffec",
   "metadata": {},
   "outputs": [
    {
     "data": {
      "text/plain": [
       "array([], dtype=float64)"
      ]
     },
     "execution_count": 72,
     "metadata": {},
     "output_type": "execute_result"
    }
   ],
   "source": [
    "a=np.array([])\n",
    "a"
   ]
  },
  {
   "cell_type": "markdown",
   "id": "2d4653e7",
   "metadata": {},
   "source": [
    "## Attributes:\n",
    "\n",
    "- ndarray.ndim: The number of dimensions (axes) of the array.\n",
    "- ndarray.shape: A tuple representing the dimensions of the array, e.g., (rows, columns) for a 2D array.\n",
    "- ndarray.size: The total number of elements in the array.\n",
    "- ndarray.dtype: The data type of elements in the array.\n",
    "- ndarray.itemsize: The size in bytes of each element in the array.\n",
    "- ndarray.data: A buffer containing the actual elements of the array."
   ]
  },
  {
   "cell_type": "markdown",
   "id": "33470ecf",
   "metadata": {},
   "source": [
    "## 1.ndim"
   ]
  },
  {
   "cell_type": "code",
   "execution_count": 73,
   "id": "a4dc8d72",
   "metadata": {},
   "outputs": [
    {
     "name": "stdout",
     "output_type": "stream",
     "text": [
      "[['123' 'sahil' 'sayli' '45.7']\n",
      " ['1' '2' '3' '4']]\n"
     ]
    }
   ],
   "source": [
    "x=np.array([[123,\"sahil\",\"sayli\",45.7],[1,2,3,4]])\n",
    "print(x)"
   ]
  },
  {
   "cell_type": "code",
   "execution_count": 74,
   "id": "fb9bd843",
   "metadata": {},
   "outputs": [
    {
     "data": {
      "text/plain": [
       "2"
      ]
     },
     "execution_count": 74,
     "metadata": {},
     "output_type": "execute_result"
    }
   ],
   "source": [
    "x.ndim"
   ]
  },
  {
   "cell_type": "code",
   "execution_count": 75,
   "id": "d796e47b",
   "metadata": {},
   "outputs": [
    {
     "name": "stdout",
     "output_type": "stream",
     "text": [
      "[[123  45  45  60]\n",
      " [  1   2   3   4]\n",
      " [ 10  20  30  12]]\n"
     ]
    }
   ],
   "source": [
    "x=np.array([[123,45,45,60],[1,2,3,4],[10,20,30,12]])\n",
    "print(x)"
   ]
  },
  {
   "cell_type": "markdown",
   "id": "158a06d4",
   "metadata": {},
   "source": [
    "## 2.Shape"
   ]
  },
  {
   "cell_type": "code",
   "execution_count": 76,
   "id": "d3ad808b",
   "metadata": {},
   "outputs": [
    {
     "data": {
      "text/plain": [
       "(3, 4)"
      ]
     },
     "execution_count": 76,
     "metadata": {},
     "output_type": "execute_result"
    }
   ],
   "source": [
    "x.shape"
   ]
  },
  {
   "cell_type": "markdown",
   "id": "229bc846",
   "metadata": {},
   "source": [
    "## 3.Size"
   ]
  },
  {
   "cell_type": "code",
   "execution_count": 77,
   "id": "23e0753c",
   "metadata": {},
   "outputs": [
    {
     "data": {
      "text/plain": [
       "12"
      ]
     },
     "execution_count": 77,
     "metadata": {},
     "output_type": "execute_result"
    }
   ],
   "source": [
    "x.size"
   ]
  },
  {
   "cell_type": "markdown",
   "id": "97bb2ea6",
   "metadata": {},
   "source": [
    "## 4.dtype"
   ]
  },
  {
   "cell_type": "code",
   "execution_count": 78,
   "id": "25617bb2",
   "metadata": {},
   "outputs": [
    {
     "data": {
      "text/plain": [
       "dtype('int32')"
      ]
     },
     "execution_count": 78,
     "metadata": {},
     "output_type": "execute_result"
    }
   ],
   "source": [
    "x.dtype"
   ]
  },
  {
   "cell_type": "markdown",
   "id": "87fb900f",
   "metadata": {},
   "source": [
    "## 5.Itemsize"
   ]
  },
  {
   "cell_type": "code",
   "execution_count": 79,
   "id": "1962703e",
   "metadata": {},
   "outputs": [
    {
     "data": {
      "text/plain": [
       "4"
      ]
     },
     "execution_count": 79,
     "metadata": {},
     "output_type": "execute_result"
    }
   ],
   "source": [
    "x.itemsize"
   ]
  },
  {
   "cell_type": "code",
   "execution_count": 80,
   "id": "8d0ca46f",
   "metadata": {},
   "outputs": [
    {
     "data": {
      "text/plain": [
       "<memory at 0x000001D9FB9B4520>"
      ]
     },
     "execution_count": 80,
     "metadata": {},
     "output_type": "execute_result"
    }
   ],
   "source": [
    "x.data"
   ]
  },
  {
   "cell_type": "markdown",
   "id": "3d9d118f",
   "metadata": {},
   "source": [
    "## 6.DataType"
   ]
  },
  {
   "cell_type": "code",
   "execution_count": 81,
   "id": "fb6b0a56",
   "metadata": {},
   "outputs": [
    {
     "name": "stdout",
     "output_type": "stream",
     "text": [
      "[[ 1  2 34]\n",
      " [ 1  2  3]]\n"
     ]
    }
   ],
   "source": [
    "a=np.array([[1,2,34],[1,2,3]])\n",
    "print(a)"
   ]
  },
  {
   "cell_type": "code",
   "execution_count": 82,
   "id": "66d178dd",
   "metadata": {},
   "outputs": [
    {
     "data": {
      "text/plain": [
       "dtype('int32')"
      ]
     },
     "execution_count": 82,
     "metadata": {},
     "output_type": "execute_result"
    }
   ],
   "source": [
    "a.dtype"
   ]
  },
  {
   "cell_type": "code",
   "execution_count": 83,
   "id": "8f8c86a9",
   "metadata": {},
   "outputs": [
    {
     "name": "stdout",
     "output_type": "stream",
     "text": [
      "[['1' '2' '34']\n",
      " ['1' '2' '3']]\n"
     ]
    }
   ],
   "source": [
    "a=np.array([[1,2,34],[1,2,3]],dtype=str)\n",
    "print(a)"
   ]
  },
  {
   "cell_type": "code",
   "execution_count": 84,
   "id": "76a8c603",
   "metadata": {},
   "outputs": [
    {
     "name": "stdout",
     "output_type": "stream",
     "text": [
      "[[ 1.+0.j  2.+0.j 34.+0.j]\n",
      " [ 1.+0.j  2.+0.j  3.+0.j]]\n"
     ]
    }
   ],
   "source": [
    "a=np.array([[1,2,34],[1,2,3]],dtype=complex)\n",
    "print(a)"
   ]
  },
  {
   "cell_type": "markdown",
   "id": "fb76d142",
   "metadata": {},
   "source": [
    "## 7.Data"
   ]
  },
  {
   "cell_type": "code",
   "execution_count": 85,
   "id": "f0e74c33",
   "metadata": {},
   "outputs": [
    {
     "data": {
      "text/plain": [
       "<memory at 0x000001D9FB9DC380>"
      ]
     },
     "execution_count": 85,
     "metadata": {},
     "output_type": "execute_result"
    }
   ],
   "source": [
    "x.data"
   ]
  },
  {
   "cell_type": "markdown",
   "id": "fbf6b1a5",
   "metadata": {},
   "source": [
    "## Array Creation Function:"
   ]
  },
  {
   "cell_type": "code",
   "execution_count": 86,
   "id": "df4ed843",
   "metadata": {},
   "outputs": [
    {
     "name": "stdout",
     "output_type": "stream",
     "text": [
      "[['a' 'b' 'c' 'd']\n",
      " ['x' 'y' 'z' 'p']]\n"
     ]
    }
   ],
   "source": [
    "a_list=np.array([[\"a\",\"b\",\"c\",\"d\"],[\"x\",\"y\",\"z\",\"p\"]])\n",
    "print(a_list)"
   ]
  },
  {
   "cell_type": "code",
   "execution_count": null,
   "id": "137d5693",
   "metadata": {},
   "outputs": [],
   "source": []
  },
  {
   "cell_type": "code",
   "execution_count": 87,
   "id": "7305a8e3",
   "metadata": {},
   "outputs": [
    {
     "name": "stdout",
     "output_type": "stream",
     "text": [
      "[['a' 'b' 'c' 'd']\n",
      " ['x' 'y' 'z' 'p']]\n"
     ]
    }
   ],
   "source": [
    "b_tuple=np.array([(\"a\",\"b\",\"c\",\"d\"),(\"x\",\"y\",\"z\",\"p\")])\n",
    "print(b_tuple)"
   ]
  },
  {
   "cell_type": "code",
   "execution_count": 88,
   "id": "b4b5616c",
   "metadata": {},
   "outputs": [
    {
     "data": {
      "text/plain": [
       "(2, 4)"
      ]
     },
     "execution_count": 88,
     "metadata": {},
     "output_type": "execute_result"
    }
   ],
   "source": [
    "b_tuple.shape"
   ]
  },
  {
   "cell_type": "markdown",
   "id": "44afe44f",
   "metadata": {},
   "source": [
    "## 2.np.zeros()"
   ]
  },
  {
   "cell_type": "code",
   "execution_count": 89,
   "id": "fabe024e",
   "metadata": {},
   "outputs": [
    {
     "data": {
      "text/plain": [
       "array([[0., 0., 0., 0.],\n",
       "       [0., 0., 0., 0.],\n",
       "       [0., 0., 0., 0.],\n",
       "       [0., 0., 0., 0.]])"
      ]
     },
     "execution_count": 89,
     "metadata": {},
     "output_type": "execute_result"
    }
   ],
   "source": [
    "np.zeros((4,4))"
   ]
  },
  {
   "cell_type": "markdown",
   "id": "18000cbb",
   "metadata": {},
   "source": [
    "## 3.zeros_like"
   ]
  },
  {
   "cell_type": "code",
   "execution_count": 90,
   "id": "e8ef76bb",
   "metadata": {},
   "outputs": [
    {
     "name": "stdout",
     "output_type": "stream",
     "text": [
      "[[[1 2 3 6]\n",
      "  [4 8 7 9]\n",
      "  [4 8 9 7]]]\n"
     ]
    }
   ],
   "source": [
    "a_list=np.array([[[1,2,3,6],[4,8,7,9],[4,8,9,7]]])\n",
    "print(a_list)\n"
   ]
  },
  {
   "cell_type": "code",
   "execution_count": 91,
   "id": "15ed60d1",
   "metadata": {},
   "outputs": [
    {
     "data": {
      "text/plain": [
       "3"
      ]
     },
     "execution_count": 91,
     "metadata": {},
     "output_type": "execute_result"
    }
   ],
   "source": [
    "a_list.ndim"
   ]
  },
  {
   "cell_type": "code",
   "execution_count": 92,
   "id": "889fb08a",
   "metadata": {},
   "outputs": [
    {
     "data": {
      "text/plain": [
       "array([[[0, 0, 0, 0],\n",
       "        [0, 0, 0, 0],\n",
       "        [0, 0, 0, 0]]])"
      ]
     },
     "execution_count": 92,
     "metadata": {},
     "output_type": "execute_result"
    }
   ],
   "source": [
    "np.zeros_like(a_list)"
   ]
  },
  {
   "cell_type": "markdown",
   "id": "ff817268",
   "metadata": {},
   "source": [
    "## 4.ones()"
   ]
  },
  {
   "cell_type": "code",
   "execution_count": 93,
   "id": "e45a904e",
   "metadata": {},
   "outputs": [
    {
     "data": {
      "text/plain": [
       "array([[1., 1., 1., 1., 1.],\n",
       "       [1., 1., 1., 1., 1.],\n",
       "       [1., 1., 1., 1., 1.],\n",
       "       [1., 1., 1., 1., 1.]])"
      ]
     },
     "execution_count": 93,
     "metadata": {},
     "output_type": "execute_result"
    }
   ],
   "source": [
    "np.ones((4,5))"
   ]
  },
  {
   "cell_type": "markdown",
   "id": "7a92e11c",
   "metadata": {},
   "source": [
    "## 5.ones_like"
   ]
  },
  {
   "cell_type": "code",
   "execution_count": 94,
   "id": "62e80355",
   "metadata": {},
   "outputs": [
    {
     "name": "stdout",
     "output_type": "stream",
     "text": [
      "[[1 2 3 4]\n",
      " [5 6 7 8]]\n"
     ]
    },
    {
     "data": {
      "text/plain": [
       "2"
      ]
     },
     "execution_count": 94,
     "metadata": {},
     "output_type": "execute_result"
    }
   ],
   "source": [
    "y=np.array([[1,2,3,4],[5,6,7,8]])\n",
    "print(y)\n",
    "y.ndim"
   ]
  },
  {
   "cell_type": "code",
   "execution_count": 95,
   "id": "aed4b829",
   "metadata": {},
   "outputs": [
    {
     "data": {
      "text/plain": [
       "array([[1, 1, 1, 1],\n",
       "       [1, 1, 1, 1]])"
      ]
     },
     "execution_count": 95,
     "metadata": {},
     "output_type": "execute_result"
    }
   ],
   "source": [
    "np.ones_like(y)"
   ]
  },
  {
   "cell_type": "markdown",
   "id": "0911c0b2",
   "metadata": {},
   "source": [
    "## 6np.empty()"
   ]
  },
  {
   "cell_type": "code",
   "execution_count": 96,
   "id": "9c7895b3",
   "metadata": {},
   "outputs": [
    {
     "data": {
      "text/plain": [
       "array([], dtype=float64)"
      ]
     },
     "execution_count": 96,
     "metadata": {},
     "output_type": "execute_result"
    }
   ],
   "source": [
    "np.empty(0)"
   ]
  },
  {
   "cell_type": "markdown",
   "id": "2acc308a",
   "metadata": {},
   "source": [
    "## 7.np.arange()"
   ]
  },
  {
   "cell_type": "code",
   "execution_count": 97,
   "id": "fb820b59",
   "metadata": {},
   "outputs": [
    {
     "name": "stdout",
     "output_type": "stream",
     "text": [
      "1\n",
      "4\n",
      "7\n",
      "10\n",
      "13\n",
      "16\n"
     ]
    }
   ],
   "source": [
    "for i in range(1,19,3):   #range(start,stop,step)\n",
    "    print(i)"
   ]
  },
  {
   "cell_type": "code",
   "execution_count": 98,
   "id": "ef466e9a",
   "metadata": {},
   "outputs": [
    {
     "data": {
      "text/plain": [
       "array([ 1,  4,  7, 10, 13, 16, 19])"
      ]
     },
     "execution_count": 98,
     "metadata": {},
     "output_type": "execute_result"
    }
   ],
   "source": [
    "np.arange(1,20,3)"
   ]
  },
  {
   "cell_type": "markdown",
   "id": "1e65f5a3",
   "metadata": {},
   "source": [
    "## 8.nplinspace"
   ]
  },
  {
   "cell_type": "code",
   "execution_count": 101,
   "id": "a5ee71bb",
   "metadata": {},
   "outputs": [
    {
     "data": {
      "text/plain": [
       "array([ 1.  ,  5.75, 10.5 , 15.25, 20.  ])"
      ]
     },
     "execution_count": 101,
     "metadata": {},
     "output_type": "execute_result"
    }
   ],
   "source": [
    "np.linspace(1,20,5)"
   ]
  },
  {
   "cell_type": "markdown",
   "id": "520ba88e",
   "metadata": {},
   "source": [
    "## 9.np.logspace()"
   ]
  },
  {
   "cell_type": "code",
   "execution_count": 100,
   "id": "c3187fe7",
   "metadata": {},
   "outputs": [
    {
     "data": {
      "text/plain": [
       "array([1.00000000e+01, 1.77827941e+03, 3.16227766e+05, 5.62341325e+07,\n",
       "       1.00000000e+10])"
      ]
     },
     "execution_count": 100,
     "metadata": {},
     "output_type": "execute_result"
    }
   ],
   "source": [
    "np.logspace(1,10,5)"
   ]
  },
  {
   "cell_type": "markdown",
   "id": "bdd28986",
   "metadata": {},
   "source": [
    "## Array Manipulation Functions:"
   ]
  },
  {
   "cell_type": "markdown",
   "id": "0a91e50c",
   "metadata": {},
   "source": [
    "numpy.transpose: Transpose the array. numpy.flatten: Return a copy of the array collapsed into one dimension. numpy.concatenate: Join arrays along an existing axis. numpy.vstack: Stack arrays vertically (row-wise). numpy.hstack: Stack arrays horizontally (column-wise). numpy.split: Split an array into multiple sub-arrays along a specified axis. numpy.delete: Delete elements from an array. numpy.insert: Insert elements into an array. numpy.append: Append elements to the end of an array."
   ]
  },
  {
   "cell_type": "code",
   "execution_count": 102,
   "id": "b8141195",
   "metadata": {},
   "outputs": [
    {
     "data": {
      "text/plain": [
       "array([[1, 2, 3, 6],\n",
       "       [4, 8, 7, 9],\n",
       "       [4, 8, 9, 7]])"
      ]
     },
     "execution_count": 102,
     "metadata": {},
     "output_type": "execute_result"
    }
   ],
   "source": [
    "a_list=np.array([[1,2,3,6],[4,8,7,9],[4,8,9,7]])\n",
    "a_list"
   ]
  },
  {
   "cell_type": "code",
   "execution_count": 103,
   "id": "173fd1d1",
   "metadata": {},
   "outputs": [],
   "source": [
    "#12=(2,6), (4,3), (12,1)"
   ]
  },
  {
   "cell_type": "markdown",
   "id": "d383bab7",
   "metadata": {},
   "source": [
    "## 1.reshape()"
   ]
  },
  {
   "cell_type": "code",
   "execution_count": 104,
   "id": "0b7a3e8c",
   "metadata": {},
   "outputs": [
    {
     "data": {
      "text/plain": [
       "array([[1, 2],\n",
       "       [3, 6],\n",
       "       [4, 8],\n",
       "       [7, 9],\n",
       "       [4, 8],\n",
       "       [9, 7]])"
      ]
     },
     "execution_count": 104,
     "metadata": {},
     "output_type": "execute_result"
    }
   ],
   "source": [
    "a_list.reshape(6,2)"
   ]
  },
  {
   "cell_type": "code",
   "execution_count": 105,
   "id": "3e22e6ac",
   "metadata": {},
   "outputs": [
    {
     "data": {
      "text/plain": [
       "(3, 4)"
      ]
     },
     "execution_count": 105,
     "metadata": {},
     "output_type": "execute_result"
    }
   ],
   "source": [
    "a_list.shape"
   ]
  },
  {
   "cell_type": "markdown",
   "id": "b89ceeb5",
   "metadata": {},
   "source": [
    "## 2.Transpose()"
   ]
  },
  {
   "cell_type": "code",
   "execution_count": 106,
   "id": "d8794cd5",
   "metadata": {},
   "outputs": [
    {
     "data": {
      "text/plain": [
       "array([[1, 2, 3, 4],\n",
       "       [5, 6, 7, 8]])"
      ]
     },
     "execution_count": 106,
     "metadata": {},
     "output_type": "execute_result"
    }
   ],
   "source": [
    "y=np.array([[1,2,3,4],[5,6,7,8]])\n",
    "y"
   ]
  },
  {
   "cell_type": "code",
   "execution_count": 107,
   "id": "4cade537",
   "metadata": {},
   "outputs": [
    {
     "data": {
      "text/plain": [
       "array([[1, 5],\n",
       "       [2, 6],\n",
       "       [3, 7],\n",
       "       [4, 8]])"
      ]
     },
     "execution_count": 107,
     "metadata": {},
     "output_type": "execute_result"
    }
   ],
   "source": [
    "y.transpose()"
   ]
  },
  {
   "cell_type": "markdown",
   "id": "b9d9852e",
   "metadata": {},
   "source": [
    "## 3.concatinate()"
   ]
  },
  {
   "cell_type": "code",
   "execution_count": 108,
   "id": "f09cada2",
   "metadata": {},
   "outputs": [
    {
     "data": {
      "text/plain": [
       "array([1, 2, 3, 6, 4, 8, 7, 9, 4, 8, 9, 7])"
      ]
     },
     "execution_count": 108,
     "metadata": {},
     "output_type": "execute_result"
    }
   ],
   "source": [
    "np.concatenate(a_list)"
   ]
  },
  {
   "cell_type": "code",
   "execution_count": 109,
   "id": "189c0285",
   "metadata": {},
   "outputs": [
    {
     "data": {
      "text/plain": [
       "array([1, 2, 3, 4, 5, 6, 7, 8])"
      ]
     },
     "execution_count": 109,
     "metadata": {},
     "output_type": "execute_result"
    }
   ],
   "source": [
    "np.concatenate(y)"
   ]
  },
  {
   "cell_type": "markdown",
   "id": "1df5cfa0",
   "metadata": {},
   "source": [
    "## v,h-stack()"
   ]
  },
  {
   "cell_type": "code",
   "execution_count": 111,
   "id": "f67e096c",
   "metadata": {},
   "outputs": [
    {
     "data": {
      "text/plain": [
       "array([[1, 2, 3, 4],\n",
       "       [5, 6, 7, 8]])"
      ]
     },
     "execution_count": 111,
     "metadata": {},
     "output_type": "execute_result"
    }
   ],
   "source": [
    "y"
   ]
  },
  {
   "cell_type": "code",
   "execution_count": 112,
   "id": "10eabac2",
   "metadata": {},
   "outputs": [
    {
     "data": {
      "text/plain": [
       "array([[1, 2, 3, 4],\n",
       "       [5, 6, 7, 8]])"
      ]
     },
     "execution_count": 112,
     "metadata": {},
     "output_type": "execute_result"
    }
   ],
   "source": [
    "np.vstack(y)   # v=vertical"
   ]
  },
  {
   "cell_type": "code",
   "execution_count": 113,
   "id": "a982c124",
   "metadata": {},
   "outputs": [
    {
     "data": {
      "text/plain": [
       "array([1, 2, 3, 4, 5, 6, 7, 8])"
      ]
     },
     "execution_count": 113,
     "metadata": {},
     "output_type": "execute_result"
    }
   ],
   "source": [
    "np.hstack(y)   #h=horizontal"
   ]
  },
  {
   "cell_type": "code",
   "execution_count": 115,
   "id": "36228af2",
   "metadata": {},
   "outputs": [
    {
     "data": {
      "text/plain": [
       "array([[1, 2, 3, 6],\n",
       "       [4, 8, 7, 9],\n",
       "       [4, 8, 9, 7]])"
      ]
     },
     "execution_count": 115,
     "metadata": {},
     "output_type": "execute_result"
    }
   ],
   "source": [
    "a_list"
   ]
  },
  {
   "cell_type": "code",
   "execution_count": 114,
   "id": "ea3422bb",
   "metadata": {},
   "outputs": [
    {
     "data": {
      "text/plain": [
       "array([[1, 2, 3, 6],\n",
       "       [4, 8, 7, 9],\n",
       "       [4, 8, 9, 7]])"
      ]
     },
     "execution_count": 114,
     "metadata": {},
     "output_type": "execute_result"
    }
   ],
   "source": [
    "np.vstack(a_list)"
   ]
  },
  {
   "cell_type": "code",
   "execution_count": 116,
   "id": "24d62123",
   "metadata": {},
   "outputs": [
    {
     "data": {
      "text/plain": [
       "array([1, 2, 3, 6, 4, 8, 7, 9, 4, 8, 9, 7])"
      ]
     },
     "execution_count": 116,
     "metadata": {},
     "output_type": "execute_result"
    }
   ],
   "source": [
    "np.hstack(a_list)"
   ]
  },
  {
   "cell_type": "markdown",
   "id": "ffeb8974",
   "metadata": {},
   "source": [
    "## 4.split()"
   ]
  },
  {
   "cell_type": "code",
   "execution_count": 118,
   "id": "d5ca9dc7",
   "metadata": {},
   "outputs": [
    {
     "data": {
      "text/plain": [
       "array([[1, 2, 3, 6],\n",
       "       [4, 8, 7, 9],\n",
       "       [4, 8, 9, 7]])"
      ]
     },
     "execution_count": 118,
     "metadata": {},
     "output_type": "execute_result"
    }
   ],
   "source": [
    "a_list"
   ]
  },
  {
   "cell_type": "code",
   "execution_count": 119,
   "id": "f9c9e91e",
   "metadata": {},
   "outputs": [
    {
     "data": {
      "text/plain": [
       "array([0, 1, 2, 3, 4, 5, 6, 7, 8, 9])"
      ]
     },
     "execution_count": 119,
     "metadata": {},
     "output_type": "execute_result"
    }
   ],
   "source": [
    "e=np.arange(0,10)\n",
    "e"
   ]
  },
  {
   "cell_type": "code",
   "execution_count": 122,
   "id": "6f1f2f55",
   "metadata": {},
   "outputs": [
    {
     "data": {
      "text/plain": [
       "[array([0, 1, 2, 3, 4]), array([5, 6, 7, 8, 9])]"
      ]
     },
     "execution_count": 122,
     "metadata": {},
     "output_type": "execute_result"
    }
   ],
   "source": [
    "np.split(e,(2))"
   ]
  },
  {
   "cell_type": "markdown",
   "id": "2c43b738",
   "metadata": {},
   "source": [
    "## 5.delete()"
   ]
  },
  {
   "cell_type": "code",
   "execution_count": 123,
   "id": "3221b759",
   "metadata": {},
   "outputs": [
    {
     "data": {
      "text/plain": [
       "array([0, 1, 2, 3, 4, 5, 6, 7, 8])"
      ]
     },
     "execution_count": 123,
     "metadata": {},
     "output_type": "execute_result"
    }
   ],
   "source": [
    "np.delete(e,9)"
   ]
  },
  {
   "cell_type": "markdown",
   "id": "602af94f",
   "metadata": {},
   "source": [
    "## Mathematical Function:"
   ]
  },
  {
   "cell_type": "markdown",
   "id": "4be43377",
   "metadata": {},
   "source": [
    "- numpy.add: Element-wise addition.\n",
    "- numpy.subtract: Element-wise subtraction.\n",
    "- numpy.multiply: Element-wise multiplication.\n",
    "- numpy.divide: Element-wise division.\n",
    "- numpy.power: Element-wise exponentiation.\n",
    "- numpy.sqrt: Square root of each element.\n",
    "- numpy.sin, numpy.cos, numpy.tan: Trigonometric functions.\n",
    "- numpy.exp: Exponential function.\n",
    "- numpy.log, numpy.log10: Natural logarithm and base-10 logarithm.\n",
    "- numpy.sum: Sum of all elements in an array.\n",
    "- numpy.mean: Mean (average) of array elements.\n",
    "- numpy.median: Median of array elements.\n",
    "- numpy.min, \n",
    "- numpy.max: Minimum and maximum values in an array."
   ]
  },
  {
   "cell_type": "code",
   "execution_count": 125,
   "id": "6f159f5a",
   "metadata": {},
   "outputs": [
    {
     "data": {
      "text/plain": [
       "array([[1, 2, 3, 6],\n",
       "       [4, 8, 7, 9],\n",
       "       [4, 8, 9, 7]])"
      ]
     },
     "execution_count": 125,
     "metadata": {},
     "output_type": "execute_result"
    }
   ],
   "source": [
    "a_list"
   ]
  },
  {
   "cell_type": "code",
   "execution_count": 126,
   "id": "2aae4d9f",
   "metadata": {},
   "outputs": [
    {
     "data": {
      "text/plain": [
       "array([[10, 20, 30, 40],\n",
       "       [50, 30, 20, 10],\n",
       "       [60, 70, 40, 30]])"
      ]
     },
     "execution_count": 126,
     "metadata": {},
     "output_type": "execute_result"
    }
   ],
   "source": [
    "b_list=np.array([[10,20,30,40],[50,30,20,10],[60,70,40,30]])\n",
    "b_list"
   ]
  },
  {
   "cell_type": "code",
   "execution_count": 127,
   "id": "6a6bc959",
   "metadata": {},
   "outputs": [
    {
     "data": {
      "text/plain": [
       "array([[11, 22, 33, 46],\n",
       "       [54, 38, 27, 19],\n",
       "       [64, 78, 49, 37]])"
      ]
     },
     "execution_count": 127,
     "metadata": {},
     "output_type": "execute_result"
    }
   ],
   "source": [
    "np.add(a_list,b_list)"
   ]
  },
  {
   "cell_type": "markdown",
   "id": "e2e034ac",
   "metadata": {},
   "source": [
    "## sum()"
   ]
  },
  {
   "cell_type": "code",
   "execution_count": 128,
   "id": "fadea231",
   "metadata": {},
   "outputs": [
    {
     "data": {
      "text/plain": [
       "410"
      ]
     },
     "execution_count": 128,
     "metadata": {},
     "output_type": "execute_result"
    }
   ],
   "source": [
    "b_list.sum()"
   ]
  },
  {
   "cell_type": "markdown",
   "id": "271d1ca3",
   "metadata": {},
   "source": [
    "## indexing and slicing"
   ]
  },
  {
   "cell_type": "markdown",
   "id": "8bf1065b",
   "metadata": {},
   "source": [
    "### indexing of 2D array"
   ]
  },
  {
   "cell_type": "code",
   "execution_count": 129,
   "id": "8655fd75",
   "metadata": {},
   "outputs": [
    {
     "data": {
      "text/plain": [
       "2"
      ]
     },
     "execution_count": 129,
     "metadata": {},
     "output_type": "execute_result"
    }
   ],
   "source": [
    "a=np.array([[5,2,34],[1,2,3]])\n",
    "a.ndim"
   ]
  },
  {
   "cell_type": "code",
   "execution_count": 130,
   "id": "0ed2f107",
   "metadata": {},
   "outputs": [
    {
     "data": {
      "text/plain": [
       "2"
      ]
     },
     "execution_count": 130,
     "metadata": {},
     "output_type": "execute_result"
    }
   ],
   "source": [
    "a[0][1]"
   ]
  },
  {
   "cell_type": "code",
   "execution_count": 131,
   "id": "8dc73fdd",
   "metadata": {},
   "outputs": [
    {
     "data": {
      "text/plain": [
       "1"
      ]
     },
     "execution_count": 131,
     "metadata": {},
     "output_type": "execute_result"
    }
   ],
   "source": [
    "a[1][0]"
   ]
  },
  {
   "cell_type": "markdown",
   "id": "e0ada9e7",
   "metadata": {},
   "source": [
    "## Indexing of 3D array"
   ]
  },
  {
   "cell_type": "markdown",
   "id": "615a6e0f",
   "metadata": {},
   "source": [
    "## Creating Random numbers"
   ]
  },
  {
   "cell_type": "code",
   "execution_count": 132,
   "id": "a424842e",
   "metadata": {},
   "outputs": [],
   "source": [
    "import random"
   ]
  },
  {
   "cell_type": "code",
   "execution_count": 133,
   "id": "8156a3b8",
   "metadata": {},
   "outputs": [
    {
     "data": {
      "text/plain": [
       "array([0.05814662, 0.05571357, 0.69412291])"
      ]
     },
     "execution_count": 133,
     "metadata": {},
     "output_type": "execute_result"
    }
   ],
   "source": [
    "np.random.rand(3)"
   ]
  },
  {
   "cell_type": "code",
   "execution_count": 134,
   "id": "4a584e81",
   "metadata": {},
   "outputs": [
    {
     "data": {
      "text/plain": [
       "array([[0.1576389 , 0.49793597, 0.75037725, 0.87278988],\n",
       "       [0.40250235, 0.04266086, 0.02010157, 0.77925405],\n",
       "       [0.80924116, 0.46120265, 0.84281815, 0.80415   ],\n",
       "       [0.59817427, 0.02246031, 0.75600082, 0.35797517]])"
      ]
     },
     "execution_count": 134,
     "metadata": {},
     "output_type": "execute_result"
    }
   ],
   "source": [
    "np.random.rand(4,4)"
   ]
  },
  {
   "cell_type": "code",
   "execution_count": 135,
   "id": "d46e3270",
   "metadata": {},
   "outputs": [
    {
     "name": "stdout",
     "output_type": "stream",
     "text": [
      "[[[0.52224336 0.10647843 0.60084297 0.58126725]\n",
      "  [0.41812389 0.22548334 0.44644469 0.64771597]\n",
      "  [0.31055693 0.26948263 0.92450332 0.58262786]\n",
      "  [0.56489553 0.16417274 0.30398771 0.86215042]]\n",
      "\n",
      " [[0.65157027 0.41578321 0.80594184 0.38953925]\n",
      "  [0.83254087 0.75599041 0.48223835 0.59849583]\n",
      "  [0.91567468 0.66908965 0.8525117  0.57626889]\n",
      "  [0.62681684 0.83025753 0.58027129 0.48646215]]\n",
      "\n",
      " [[0.31407401 0.04904883 0.8362037  0.70240173]\n",
      "  [0.57842398 0.02058983 0.0119063  0.87721503]\n",
      "  [0.12235554 0.21977229 0.03123205 0.46736087]\n",
      "  [0.72880272 0.49391664 0.08140644 0.95440795]]\n",
      "\n",
      " [[0.97571023 0.01518948 0.81651324 0.33778027]\n",
      "  [0.9703594  0.74091644 0.6922169  0.03435053]\n",
      "  [0.80810137 0.93229015 0.99549633 0.59551243]\n",
      "  [0.62146392 0.44410975 0.43161565 0.72030749]]]\n"
     ]
    },
    {
     "data": {
      "text/plain": [
       "3"
      ]
     },
     "execution_count": 135,
     "metadata": {},
     "output_type": "execute_result"
    }
   ],
   "source": [
    "a=np.random.rand(4,4,4)\n",
    "print(a)\n",
    "a.ndim"
   ]
  },
  {
   "cell_type": "code",
   "execution_count": 136,
   "id": "145ce871",
   "metadata": {},
   "outputs": [
    {
     "name": "stdout",
     "output_type": "stream",
     "text": [
      "[[[[0.23285947 0.80128836 0.93070117 0.29061352]\n",
      "   [0.50572514 0.86049945 0.68267849 0.93119324]\n",
      "   [0.48357789 0.69603105 0.9355629  0.395628  ]\n",
      "   [0.16440485 0.53214945 0.73479691 0.81001781]]\n",
      "\n",
      "  [[0.64224462 0.78328941 0.01781377 0.1579409 ]\n",
      "   [0.07153727 0.30077674 0.41312623 0.37750068]\n",
      "   [0.6761554  0.26806621 0.29996349 0.856879  ]\n",
      "   [0.26219624 0.5040888  0.63390762 0.67473979]]\n",
      "\n",
      "  [[0.10482496 0.5180603  0.17804772 0.43571664]\n",
      "   [0.21031495 0.22470576 0.12239187 0.96515772]\n",
      "   [0.43970056 0.77592749 0.57731816 0.99687474]\n",
      "   [0.92537874 0.78678534 0.80836701 0.5937821 ]]\n",
      "\n",
      "  [[0.09517529 0.67103881 0.00625946 0.27890722]\n",
      "   [0.04753645 0.30342476 0.66786363 0.92569515]\n",
      "   [0.99890992 0.99860791 0.80977677 0.42990183]\n",
      "   [0.25087322 0.81404174 0.99797026 0.375187  ]]]\n",
      "\n",
      "\n",
      " [[[0.08206025 0.76753299 0.95215264 0.11646196]\n",
      "   [0.29560553 0.10464213 0.40750707 0.20539314]\n",
      "   [0.32712289 0.07694594 0.37194135 0.65755086]\n",
      "   [0.61559437 0.00789832 0.5310665  0.76560282]]\n",
      "\n",
      "  [[0.20522092 0.56636381 0.60188614 0.60258047]\n",
      "   [0.1498924  0.31203192 0.6706381  0.8472905 ]\n",
      "   [0.25169833 0.87422411 0.6027497  0.29215398]\n",
      "   [0.35780927 0.29861011 0.14700646 0.02354613]]\n",
      "\n",
      "  [[0.6962117  0.16381514 0.70928677 0.88750824]\n",
      "   [0.47021247 0.17139622 0.95831921 0.3734166 ]\n",
      "   [0.42804949 0.76800355 0.35441498 0.49243053]\n",
      "   [0.38661524 0.61885059 0.79928705 0.92853921]]\n",
      "\n",
      "  [[0.27110876 0.14902393 0.38947615 0.12854655]\n",
      "   [0.02806311 0.47045359 0.22035706 0.6066729 ]\n",
      "   [0.83369496 0.83317389 0.71568745 0.40774712]\n",
      "   [0.20187562 0.70211399 0.00346081 0.02690229]]]\n",
      "\n",
      "\n",
      " [[[0.41069825 0.1786062  0.51269881 0.61464028]\n",
      "   [0.36037812 0.83098094 0.45394209 0.97605293]\n",
      "   [0.06328924 0.66548909 0.18582493 0.83808334]\n",
      "   [0.7593363  0.53728898 0.14762993 0.14859158]]\n",
      "\n",
      "  [[0.51558986 0.66712551 0.66132562 0.37410025]\n",
      "   [0.76008187 0.46503966 0.10800084 0.57543898]\n",
      "   [0.17941995 0.49386706 0.0416577  0.85841781]\n",
      "   [0.34916241 0.12781021 0.86313484 0.2980907 ]]\n",
      "\n",
      "  [[0.65941129 0.43418252 0.60658209 0.6105058 ]\n",
      "   [0.31730654 0.69683288 0.8070825  0.26826128]\n",
      "   [0.94986971 0.49671775 0.883378   0.86218153]\n",
      "   [0.29443977 0.01644564 0.74607079 0.68136643]]\n",
      "\n",
      "  [[0.86148318 0.02750673 0.16944961 0.52759804]\n",
      "   [0.6756324  0.63991373 0.0202831  0.55733056]\n",
      "   [0.42557365 0.76092113 0.72939179 0.9413126 ]\n",
      "   [0.36528369 0.83824505 0.24321077 0.83176113]]]\n",
      "\n",
      "\n",
      " [[[0.46541456 0.46299913 0.92652225 0.20711032]\n",
      "   [0.01268743 0.74119274 0.10487316 0.50414774]\n",
      "   [0.06767504 0.61434495 0.70873032 0.42230476]\n",
      "   [0.39602899 0.54988409 0.00227023 0.53187534]]\n",
      "\n",
      "  [[0.24297052 0.37803361 0.32825232 0.88019675]\n",
      "   [0.90440973 0.07187306 0.9926365  0.41848184]\n",
      "   [0.79298745 0.13728152 0.9761116  0.81526644]\n",
      "   [0.64582908 0.39990516 0.41840063 0.1281921 ]]\n",
      "\n",
      "  [[0.84902573 0.86592691 0.82241533 0.7284678 ]\n",
      "   [0.48796016 0.42288506 0.11070977 0.18402091]\n",
      "   [0.67468142 0.97331971 0.34817526 0.18543575]\n",
      "   [0.63978675 0.01845041 0.43876128 0.3659985 ]]\n",
      "\n",
      "  [[0.35006919 0.75634987 0.33553631 0.63784879]\n",
      "   [0.95657082 0.86555759 0.86273467 0.75484531]\n",
      "   [0.80359297 0.84400076 0.9890751  0.06862729]\n",
      "   [0.68640362 0.51980575 0.68825443 0.52341642]]]]\n"
     ]
    },
    {
     "data": {
      "text/plain": [
       "4"
      ]
     },
     "execution_count": 136,
     "metadata": {},
     "output_type": "execute_result"
    }
   ],
   "source": [
    "a=np.random.rand(4,4,4,4)\n",
    "print(a)\n",
    "a.ndim"
   ]
  },
  {
   "cell_type": "code",
   "execution_count": 140,
   "id": "e1da84de",
   "metadata": {},
   "outputs": [
    {
     "data": {
      "text/plain": [
       "array([[1, 8],\n",
       "       [7, 4],\n",
       "       [9, 1],\n",
       "       [3, 1],\n",
       "       [9, 7]])"
      ]
     },
     "execution_count": 140,
     "metadata": {},
     "output_type": "execute_result"
    }
   ],
   "source": [
    "np.random.randint(1,10,(5,2))"
   ]
  },
  {
   "cell_type": "code",
   "execution_count": 141,
   "id": "fe22b210",
   "metadata": {},
   "outputs": [
    {
     "data": {
      "text/plain": [
       "array([[30, 10],\n",
       "       [ 5, 16],\n",
       "       [64, 19],\n",
       "       [89, 41],\n",
       "       [18, 91]])"
      ]
     },
     "execution_count": 141,
     "metadata": {},
     "output_type": "execute_result"
    }
   ],
   "source": [
    "np.random.randint(1,100,(5,2))"
   ]
  },
  {
   "cell_type": "code",
   "execution_count": null,
   "id": "b82c0f58",
   "metadata": {},
   "outputs": [],
   "source": []
  },
  {
   "cell_type": "markdown",
   "id": "8e8d34b6",
   "metadata": {},
   "source": [
    "## Reshape"
   ]
  },
  {
   "cell_type": "code",
   "execution_count": 145,
   "id": "5c5dc40c",
   "metadata": {},
   "outputs": [
    {
     "data": {
      "text/plain": [
       "array([[63, 49, 65, 35, 96, 25, 66, 85, 83, 38],\n",
       "       [91, 96, 58, 65, 39, 94, 90, 50,  5, 29],\n",
       "       [53, 86,  4, 27, 25, 52, 80, 55, 47, 29],\n",
       "       [91, 82, 74, 13, 27, 98, 91, 76, 81,  2],\n",
       "       [30, 94, 13, 47, 15, 45, 14, 53,  5, 12]])"
      ]
     },
     "execution_count": 145,
     "metadata": {},
     "output_type": "execute_result"
    }
   ],
   "source": [
    "a=np.random.randint(1,100,(5,10))\n",
    "a"
   ]
  },
  {
   "cell_type": "code",
   "execution_count": null,
   "id": "b274141e",
   "metadata": {},
   "outputs": [],
   "source": [
    "50\n",
    "50 * 1\n",
    "25 * 2\n",
    "10 * 5"
   ]
  },
  {
   "cell_type": "code",
   "execution_count": 147,
   "id": "710c0184",
   "metadata": {},
   "outputs": [
    {
     "data": {
      "text/plain": [
       "array([[63, 49],\n",
       "       [65, 35],\n",
       "       [96, 25],\n",
       "       [66, 85],\n",
       "       [83, 38],\n",
       "       [91, 96],\n",
       "       [58, 65],\n",
       "       [39, 94],\n",
       "       [90, 50],\n",
       "       [ 5, 29],\n",
       "       [53, 86],\n",
       "       [ 4, 27],\n",
       "       [25, 52],\n",
       "       [80, 55],\n",
       "       [47, 29],\n",
       "       [91, 82],\n",
       "       [74, 13],\n",
       "       [27, 98],\n",
       "       [91, 76],\n",
       "       [81,  2],\n",
       "       [30, 94],\n",
       "       [13, 47],\n",
       "       [15, 45],\n",
       "       [14, 53],\n",
       "       [ 5, 12]])"
      ]
     },
     "execution_count": 147,
     "metadata": {},
     "output_type": "execute_result"
    }
   ],
   "source": [
    "b=a.reshape(25,2)\n",
    "b"
   ]
  },
  {
   "cell_type": "code",
   "execution_count": 148,
   "id": "71e0c80c",
   "metadata": {},
   "outputs": [
    {
     "data": {
      "text/plain": [
       "array([[63, 49, 65, 35, 96],\n",
       "       [25, 66, 85, 83, 38],\n",
       "       [91, 96, 58, 65, 39],\n",
       "       [94, 90, 50,  5, 29],\n",
       "       [53, 86,  4, 27, 25],\n",
       "       [52, 80, 55, 47, 29],\n",
       "       [91, 82, 74, 13, 27],\n",
       "       [98, 91, 76, 81,  2],\n",
       "       [30, 94, 13, 47, 15],\n",
       "       [45, 14, 53,  5, 12]])"
      ]
     },
     "execution_count": 148,
     "metadata": {},
     "output_type": "execute_result"
    }
   ],
   "source": [
    "b=a.reshape(10,5)\n",
    "b"
   ]
  },
  {
   "cell_type": "code",
   "execution_count": 149,
   "id": "ab248ce4",
   "metadata": {},
   "outputs": [
    {
     "data": {
      "text/plain": [
       "array([[16, 95, 94, 56, 96,  5, 33, 51,  7, 68, 95,  8, 26, 35, 50, 14,\n",
       "        93, 64, 97, 12, 20, 65,  9, 51, 60, 58, 70, 66, 94, 96, 19, 32,\n",
       "        82, 43, 10, 52, 60, 60, 72, 68, 17, 88, 39,  2, 66, 30, 33, 22,\n",
       "        58, 51, 25, 36, 75,  3, 70, 37, 43, 18, 84,  3, 71, 87, 74, 80,\n",
       "        35,  3, 35, 73, 86, 26, 66, 99, 41, 29,  3, 33, 17,  5, 89, 54,\n",
       "        35, 74, 91, 96, 74, 78, 54, 22, 40, 67, 74,  4, 92, 87, 60, 83,\n",
       "        12, 73, 43, 15]])"
      ]
     },
     "execution_count": 149,
     "metadata": {},
     "output_type": "execute_result"
    }
   ],
   "source": [
    "a=np.random.randint(1,100,(1,100))\n",
    "a"
   ]
  },
  {
   "cell_type": "code",
   "execution_count": null,
   "id": "0631901e",
   "metadata": {},
   "outputs": [],
   "source": [
    "10 * 10\n",
    "25 * 4\n",
    "50 * 2\n",
    "100 * 1\n",
    "20 * 5"
   ]
  },
  {
   "cell_type": "code",
   "execution_count": 150,
   "id": "66c3cfd0",
   "metadata": {},
   "outputs": [
    {
     "data": {
      "text/plain": [
       "array([[16, 95, 94, 56, 96,  5, 33, 51,  7, 68, 95,  8, 26, 35, 50, 14,\n",
       "        93, 64, 97, 12],\n",
       "       [20, 65,  9, 51, 60, 58, 70, 66, 94, 96, 19, 32, 82, 43, 10, 52,\n",
       "        60, 60, 72, 68],\n",
       "       [17, 88, 39,  2, 66, 30, 33, 22, 58, 51, 25, 36, 75,  3, 70, 37,\n",
       "        43, 18, 84,  3],\n",
       "       [71, 87, 74, 80, 35,  3, 35, 73, 86, 26, 66, 99, 41, 29,  3, 33,\n",
       "        17,  5, 89, 54],\n",
       "       [35, 74, 91, 96, 74, 78, 54, 22, 40, 67, 74,  4, 92, 87, 60, 83,\n",
       "        12, 73, 43, 15]])"
      ]
     },
     "execution_count": 150,
     "metadata": {},
     "output_type": "execute_result"
    }
   ],
   "source": [
    "b=a.reshape(5,20)\n",
    "b"
   ]
  },
  {
   "cell_type": "code",
   "execution_count": null,
   "id": "8bd04796",
   "metadata": {},
   "outputs": [],
   "source": []
  },
  {
   "cell_type": "markdown",
   "id": "78d930c2",
   "metadata": {},
   "source": [
    "## Zeros"
   ]
  },
  {
   "cell_type": "code",
   "execution_count": 151,
   "id": "732d4895",
   "metadata": {},
   "outputs": [],
   "source": [
    "# Return a new array of given shape and type, filled with zeros."
   ]
  },
  {
   "cell_type": "code",
   "execution_count": 152,
   "id": "5e800c74",
   "metadata": {},
   "outputs": [
    {
     "data": {
      "text/plain": [
       "array([0., 0., 0., 0., 0., 0., 0., 0., 0.])"
      ]
     },
     "execution_count": 152,
     "metadata": {},
     "output_type": "execute_result"
    }
   ],
   "source": [
    "np.zeros((9))"
   ]
  },
  {
   "cell_type": "code",
   "execution_count": 153,
   "id": "1fb4eb6f",
   "metadata": {},
   "outputs": [
    {
     "data": {
      "text/plain": [
       "array([[[0., 0., 0.],\n",
       "        [0., 0., 0.],\n",
       "        [0., 0., 0.]],\n",
       "\n",
       "       [[0., 0., 0.],\n",
       "        [0., 0., 0.],\n",
       "        [0., 0., 0.]],\n",
       "\n",
       "       [[0., 0., 0.],\n",
       "        [0., 0., 0.],\n",
       "        [0., 0., 0.]]])"
      ]
     },
     "execution_count": 153,
     "metadata": {},
     "output_type": "execute_result"
    }
   ],
   "source": [
    "np.zeros((3,3,3))"
   ]
  },
  {
   "cell_type": "code",
   "execution_count": 154,
   "id": "66cf95b2",
   "metadata": {},
   "outputs": [
    {
     "data": {
      "text/plain": [
       "array([[0., 0., 0.],\n",
       "       [0., 0., 0.],\n",
       "       [0., 0., 0.],\n",
       "       [0., 0., 0.],\n",
       "       [0., 0., 0.],\n",
       "       [0., 0., 0.],\n",
       "       [0., 0., 0.],\n",
       "       [0., 0., 0.],\n",
       "       [0., 0., 0.]])"
      ]
     },
     "execution_count": 154,
     "metadata": {},
     "output_type": "execute_result"
    }
   ],
   "source": [
    "np.zeros((9,3))"
   ]
  },
  {
   "cell_type": "code",
   "execution_count": 155,
   "id": "1b4b816b",
   "metadata": {},
   "outputs": [
    {
     "data": {
      "text/plain": [
       "array([[0, 0, 0, 0, 0, 0, 0, 0, 0, 0, 0, 0, 0, 0, 0, 0, 0, 0, 0, 0],\n",
       "       [0, 0, 0, 0, 0, 0, 0, 0, 0, 0, 0, 0, 0, 0, 0, 0, 0, 0, 0, 0],\n",
       "       [0, 0, 0, 0, 0, 0, 0, 0, 0, 0, 0, 0, 0, 0, 0, 0, 0, 0, 0, 0],\n",
       "       [0, 0, 0, 0, 0, 0, 0, 0, 0, 0, 0, 0, 0, 0, 0, 0, 0, 0, 0, 0],\n",
       "       [0, 0, 0, 0, 0, 0, 0, 0, 0, 0, 0, 0, 0, 0, 0, 0, 0, 0, 0, 0]])"
      ]
     },
     "execution_count": 155,
     "metadata": {},
     "output_type": "execute_result"
    }
   ],
   "source": [
    "np.zeros_like(b)"
   ]
  },
  {
   "cell_type": "code",
   "execution_count": null,
   "id": "fd560450",
   "metadata": {},
   "outputs": [],
   "source": []
  },
  {
   "cell_type": "markdown",
   "id": "10918219",
   "metadata": {},
   "source": [
    "## Ones"
   ]
  },
  {
   "cell_type": "markdown",
   "id": "7cfd54b6",
   "metadata": {},
   "source": [
    "Return a new array of given shape and type, filled with ones."
   ]
  },
  {
   "cell_type": "code",
   "execution_count": 156,
   "id": "61a49f14",
   "metadata": {},
   "outputs": [
    {
     "data": {
      "text/plain": [
       "array([[[1., 1., 1.],\n",
       "        [1., 1., 1.],\n",
       "        [1., 1., 1.]],\n",
       "\n",
       "       [[1., 1., 1.],\n",
       "        [1., 1., 1.],\n",
       "        [1., 1., 1.]],\n",
       "\n",
       "       [[1., 1., 1.],\n",
       "        [1., 1., 1.],\n",
       "        [1., 1., 1.]]])"
      ]
     },
     "execution_count": 156,
     "metadata": {},
     "output_type": "execute_result"
    }
   ],
   "source": [
    "np.ones((3,3,3))"
   ]
  },
  {
   "cell_type": "code",
   "execution_count": 157,
   "id": "9ddf1ee7",
   "metadata": {},
   "outputs": [
    {
     "data": {
      "text/plain": [
       "array([[1, 1, 1, 1, 1, 1, 1, 1, 1, 1, 1, 1, 1, 1, 1, 1, 1, 1, 1, 1],\n",
       "       [1, 1, 1, 1, 1, 1, 1, 1, 1, 1, 1, 1, 1, 1, 1, 1, 1, 1, 1, 1],\n",
       "       [1, 1, 1, 1, 1, 1, 1, 1, 1, 1, 1, 1, 1, 1, 1, 1, 1, 1, 1, 1],\n",
       "       [1, 1, 1, 1, 1, 1, 1, 1, 1, 1, 1, 1, 1, 1, 1, 1, 1, 1, 1, 1],\n",
       "       [1, 1, 1, 1, 1, 1, 1, 1, 1, 1, 1, 1, 1, 1, 1, 1, 1, 1, 1, 1]])"
      ]
     },
     "execution_count": 157,
     "metadata": {},
     "output_type": "execute_result"
    }
   ],
   "source": [
    "np.ones_like(b)"
   ]
  },
  {
   "cell_type": "markdown",
   "id": "45d0d6d0",
   "metadata": {},
   "source": [
    "## Full"
   ]
  },
  {
   "cell_type": "markdown",
   "id": "dbba55af",
   "metadata": {},
   "source": [
    "Return a new array of given shape and type, filled with fill_value."
   ]
  },
  {
   "cell_type": "code",
   "execution_count": 158,
   "id": "8aa52e82",
   "metadata": {},
   "outputs": [
    {
     "data": {
      "text/plain": [
       "array([[10, 10, 10, 10, 10],\n",
       "       [10, 10, 10, 10, 10],\n",
       "       [10, 10, 10, 10, 10],\n",
       "       [10, 10, 10, 10, 10],\n",
       "       [10, 10, 10, 10, 10]])"
      ]
     },
     "execution_count": 158,
     "metadata": {},
     "output_type": "execute_result"
    }
   ],
   "source": [
    "np.full((5,5),10)"
   ]
  },
  {
   "cell_type": "code",
   "execution_count": 159,
   "id": "f898025b",
   "metadata": {},
   "outputs": [
    {
     "data": {
      "text/plain": [
       "array([['mS', 'mS', 'mS', 'mS', 'mS', 'mS', 'mS', 'mS'],\n",
       "       ['mS', 'mS', 'mS', 'mS', 'mS', 'mS', 'mS', 'mS'],\n",
       "       ['mS', 'mS', 'mS', 'mS', 'mS', 'mS', 'mS', 'mS'],\n",
       "       ['mS', 'mS', 'mS', 'mS', 'mS', 'mS', 'mS', 'mS']], dtype='<U2')"
      ]
     },
     "execution_count": 159,
     "metadata": {},
     "output_type": "execute_result"
    }
   ],
   "source": [
    "np.full((4,8),\"mS\")"
   ]
  },
  {
   "cell_type": "code",
   "execution_count": 160,
   "id": "9d1ca826",
   "metadata": {},
   "outputs": [
    {
     "data": {
      "text/plain": [
       "array([[15, 15, 15, 15, 15, 15, 15, 15, 15, 15, 15, 15, 15, 15, 15, 15,\n",
       "        15, 15, 15, 15],\n",
       "       [15, 15, 15, 15, 15, 15, 15, 15, 15, 15, 15, 15, 15, 15, 15, 15,\n",
       "        15, 15, 15, 15],\n",
       "       [15, 15, 15, 15, 15, 15, 15, 15, 15, 15, 15, 15, 15, 15, 15, 15,\n",
       "        15, 15, 15, 15],\n",
       "       [15, 15, 15, 15, 15, 15, 15, 15, 15, 15, 15, 15, 15, 15, 15, 15,\n",
       "        15, 15, 15, 15],\n",
       "       [15, 15, 15, 15, 15, 15, 15, 15, 15, 15, 15, 15, 15, 15, 15, 15,\n",
       "        15, 15, 15, 15]])"
      ]
     },
     "execution_count": 160,
     "metadata": {},
     "output_type": "execute_result"
    }
   ],
   "source": [
    "np.full_like(b,15)"
   ]
  },
  {
   "cell_type": "markdown",
   "id": "27a76e59",
   "metadata": {},
   "source": [
    "## eye"
   ]
  },
  {
   "cell_type": "markdown",
   "id": "19d26c5a",
   "metadata": {},
   "source": [
    "Return a 2-D array with ones on the diagonal and zeros elsewhere."
   ]
  },
  {
   "cell_type": "code",
   "execution_count": 161,
   "id": "71c77f2d",
   "metadata": {},
   "outputs": [
    {
     "data": {
      "text/plain": [
       "array([[1., 0., 0., 0., 0.],\n",
       "       [0., 1., 0., 0., 0.],\n",
       "       [0., 0., 1., 0., 0.],\n",
       "       [0., 0., 0., 1., 0.],\n",
       "       [0., 0., 0., 0., 1.]])"
      ]
     },
     "execution_count": 161,
     "metadata": {},
     "output_type": "execute_result"
    }
   ],
   "source": [
    "np.eye(5)"
   ]
  },
  {
   "cell_type": "code",
   "execution_count": 162,
   "id": "37bbf1b6",
   "metadata": {},
   "outputs": [
    {
     "data": {
      "text/plain": [
       "array([[1., 0., 0., 0., 0., 0., 0.],\n",
       "       [0., 1., 0., 0., 0., 0., 0.],\n",
       "       [0., 0., 1., 0., 0., 0., 0.],\n",
       "       [0., 0., 0., 1., 0., 0., 0.],\n",
       "       [0., 0., 0., 0., 1., 0., 0.]])"
      ]
     },
     "execution_count": 162,
     "metadata": {},
     "output_type": "execute_result"
    }
   ],
   "source": [
    "np.eye(5,7)"
   ]
  },
  {
   "cell_type": "code",
   "execution_count": 163,
   "id": "afbff7d2",
   "metadata": {},
   "outputs": [
    {
     "data": {
      "text/plain": [
       "array([[0., 0., 0., 1., 0., 0., 0., 0., 0., 0.],\n",
       "       [0., 0., 0., 0., 1., 0., 0., 0., 0., 0.],\n",
       "       [0., 0., 0., 0., 0., 1., 0., 0., 0., 0.],\n",
       "       [0., 0., 0., 0., 0., 0., 1., 0., 0., 0.],\n",
       "       [0., 0., 0., 0., 0., 0., 0., 1., 0., 0.],\n",
       "       [0., 0., 0., 0., 0., 0., 0., 0., 1., 0.],\n",
       "       [0., 0., 0., 0., 0., 0., 0., 0., 0., 1.],\n",
       "       [0., 0., 0., 0., 0., 0., 0., 0., 0., 0.],\n",
       "       [0., 0., 0., 0., 0., 0., 0., 0., 0., 0.],\n",
       "       [0., 0., 0., 0., 0., 0., 0., 0., 0., 0.]])"
      ]
     },
     "execution_count": 163,
     "metadata": {},
     "output_type": "execute_result"
    }
   ],
   "source": [
    "np.eye(10,k=3)"
   ]
  },
  {
   "cell_type": "code",
   "execution_count": 164,
   "id": "e062f6a6",
   "metadata": {},
   "outputs": [
    {
     "data": {
      "text/plain": [
       "array([[0., 0., 0., 0., 0., 0., 0., 0., 0., 0.],\n",
       "       [0., 0., 0., 0., 0., 0., 0., 0., 0., 0.],\n",
       "       [1., 0., 0., 0., 0., 0., 0., 0., 0., 0.],\n",
       "       [0., 1., 0., 0., 0., 0., 0., 0., 0., 0.],\n",
       "       [0., 0., 1., 0., 0., 0., 0., 0., 0., 0.],\n",
       "       [0., 0., 0., 1., 0., 0., 0., 0., 0., 0.],\n",
       "       [0., 0., 0., 0., 1., 0., 0., 0., 0., 0.],\n",
       "       [0., 0., 0., 0., 0., 1., 0., 0., 0., 0.],\n",
       "       [0., 0., 0., 0., 0., 0., 1., 0., 0., 0.],\n",
       "       [0., 0., 0., 0., 0., 0., 0., 1., 0., 0.]])"
      ]
     },
     "execution_count": 164,
     "metadata": {},
     "output_type": "execute_result"
    }
   ],
   "source": [
    "np.eye(10,k=-2)"
   ]
  },
  {
   "cell_type": "markdown",
   "id": "91f9e3fd",
   "metadata": {},
   "source": [
    "## arange()"
   ]
  },
  {
   "cell_type": "code",
   "execution_count": 167,
   "id": "36e62c6d",
   "metadata": {},
   "outputs": [
    {
     "data": {
      "text/plain": [
       "range(1, 10)"
      ]
     },
     "execution_count": 167,
     "metadata": {},
     "output_type": "execute_result"
    }
   ],
   "source": [
    "range(1,10)"
   ]
  },
  {
   "cell_type": "code",
   "execution_count": 168,
   "id": "53c64a47",
   "metadata": {},
   "outputs": [
    {
     "data": {
      "text/plain": [
       "[1, 2, 3, 4, 5, 6, 7, 8, 9]"
      ]
     },
     "execution_count": 168,
     "metadata": {},
     "output_type": "execute_result"
    }
   ],
   "source": [
    "list(range(1,10))"
   ]
  },
  {
   "cell_type": "code",
   "execution_count": 169,
   "id": "abdf033b",
   "metadata": {},
   "outputs": [
    {
     "data": {
      "text/plain": [
       "[1, 3, 5, 7, 9]"
      ]
     },
     "execution_count": 169,
     "metadata": {},
     "output_type": "execute_result"
    }
   ],
   "source": [
    "list(range(1,10,2))"
   ]
  },
  {
   "cell_type": "code",
   "execution_count": 170,
   "id": "df3d69ef",
   "metadata": {},
   "outputs": [
    {
     "ename": "TypeError",
     "evalue": "'float' object cannot be interpreted as an integer",
     "output_type": "error",
     "traceback": [
      "\u001b[1;31m---------------------------------------------------------------------------\u001b[0m",
      "\u001b[1;31mTypeError\u001b[0m                                 Traceback (most recent call last)",
      "Cell \u001b[1;32mIn[170], line 1\u001b[0m\n\u001b[1;32m----> 1\u001b[0m \u001b[38;5;28mlist\u001b[39m(\u001b[38;5;28mrange\u001b[39m(\u001b[38;5;241m1\u001b[39m,\u001b[38;5;241m10\u001b[39m,\u001b[38;5;241m2.5\u001b[39m))\n",
      "\u001b[1;31mTypeError\u001b[0m: 'float' object cannot be interpreted as an integer"
     ]
    }
   ],
   "source": [
    "list(range(1,10,2.5))"
   ]
  },
  {
   "cell_type": "code",
   "execution_count": 171,
   "id": "d36c4306",
   "metadata": {},
   "outputs": [
    {
     "data": {
      "text/plain": [
       "array([1, 2, 3, 4, 5, 6, 7, 8, 9])"
      ]
     },
     "execution_count": 171,
     "metadata": {},
     "output_type": "execute_result"
    }
   ],
   "source": [
    "np.arange(1,10)"
   ]
  },
  {
   "cell_type": "code",
   "execution_count": 172,
   "id": "1f001d78",
   "metadata": {},
   "outputs": [
    {
     "data": {
      "text/plain": [
       "array([1. , 1.5, 2. , 2.5, 3. , 3.5, 4. , 4.5, 5. , 5.5, 6. , 6.5, 7. ,\n",
       "       7.5, 8. , 8.5, 9. , 9.5])"
      ]
     },
     "execution_count": 172,
     "metadata": {},
     "output_type": "execute_result"
    }
   ],
   "source": [
    "np.arange(1,10,0.5)"
   ]
  },
  {
   "cell_type": "code",
   "execution_count": 173,
   "id": "f528499c",
   "metadata": {},
   "outputs": [
    {
     "data": {
      "text/plain": [
       "array([[ 1,  2,  3,  4,  5,  6,  7,  8,  9, 10, 11, 12, 13, 14, 15, 16,\n",
       "        17, 18, 19, 20, 21, 22, 23, 24, 25],\n",
       "       [26, 27, 28, 29, 30, 31, 32, 33, 34, 35, 36, 37, 38, 39, 40, 41,\n",
       "        42, 43, 44, 45, 46, 47, 48, 49, 50]])"
      ]
     },
     "execution_count": 173,
     "metadata": {},
     "output_type": "execute_result"
    }
   ],
   "source": [
    "np.arange(1,51).reshape(2,25)"
   ]
  },
  {
   "cell_type": "markdown",
   "id": "ace07bf6",
   "metadata": {},
   "source": [
    "## LineSpace"
   ]
  },
  {
   "cell_type": "markdown",
   "id": "ff7743db",
   "metadata": {},
   "source": [
    "Return evenly spaced numbers over a specified interval.\n",
    "\n",
    "Returns num evenly spaced samples, calculated over the interval [start, stop].\n",
    "\n",
    "The endpoint of the interval can optionally be excluded."
   ]
  },
  {
   "cell_type": "code",
   "execution_count": 175,
   "id": "2b2b1a82",
   "metadata": {},
   "outputs": [
    {
     "data": {
      "text/plain": [
       "array([  1.        ,   4.4137931 ,   7.82758621,  11.24137931,\n",
       "        14.65517241,  18.06896552,  21.48275862,  24.89655172,\n",
       "        28.31034483,  31.72413793,  35.13793103,  38.55172414,\n",
       "        41.96551724,  45.37931034,  48.79310345,  52.20689655,\n",
       "        55.62068966,  59.03448276,  62.44827586,  65.86206897,\n",
       "        69.27586207,  72.68965517,  76.10344828,  79.51724138,\n",
       "        82.93103448,  86.34482759,  89.75862069,  93.17241379,\n",
       "        96.5862069 , 100.        ])"
      ]
     },
     "execution_count": 175,
     "metadata": {},
     "output_type": "execute_result"
    }
   ],
   "source": [
    "np.linspace(1,100,30)"
   ]
  },
  {
   "cell_type": "code",
   "execution_count": 176,
   "id": "5a43a147",
   "metadata": {},
   "outputs": [
    {
     "data": {
      "text/plain": [
       "array([ 1. ,  4.3,  7.6, 10.9, 14.2, 17.5, 20.8, 24.1, 27.4, 30.7, 34. ,\n",
       "       37.3, 40.6, 43.9, 47.2, 50.5, 53.8, 57.1, 60.4, 63.7, 67. , 70.3,\n",
       "       73.6, 76.9, 80.2, 83.5, 86.8, 90.1, 93.4, 96.7])"
      ]
     },
     "execution_count": 176,
     "metadata": {},
     "output_type": "execute_result"
    }
   ],
   "source": [
    "np.linspace(1,100,30, endpoint=False)"
   ]
  },
  {
   "cell_type": "code",
   "execution_count": 177,
   "id": "99445d87",
   "metadata": {},
   "outputs": [
    {
     "data": {
      "text/plain": [
       "(array([ 1. ,  4.3,  7.6, 10.9, 14.2, 17.5, 20.8, 24.1, 27.4, 30.7, 34. ,\n",
       "        37.3, 40.6, 43.9, 47.2, 50.5, 53.8, 57.1, 60.4, 63.7, 67. , 70.3,\n",
       "        73.6, 76.9, 80.2, 83.5, 86.8, 90.1, 93.4, 96.7]),\n",
       " 3.3)"
      ]
     },
     "execution_count": 177,
     "metadata": {},
     "output_type": "execute_result"
    }
   ],
   "source": [
    "np.linspace(1,100,30, endpoint=False,retstep=True)"
   ]
  },
  {
   "cell_type": "code",
   "execution_count": 178,
   "id": "0ff08181",
   "metadata": {},
   "outputs": [
    {
     "data": {
      "text/plain": [
       "array([   1.        ,   15.47826087,   29.95652174,   44.43478261,\n",
       "         58.91304348,   73.39130435,   87.86956522,  102.34782609,\n",
       "        116.82608696,  131.30434783,  145.7826087 ,  160.26086957,\n",
       "        174.73913043,  189.2173913 ,  203.69565217,  218.17391304,\n",
       "        232.65217391,  247.13043478,  261.60869565,  276.08695652,\n",
       "        290.56521739,  305.04347826,  319.52173913,  334.        ,\n",
       "        348.47826087,  362.95652174,  377.43478261,  391.91304348,\n",
       "        406.39130435,  420.86956522,  435.34782609,  449.82608696,\n",
       "        464.30434783,  478.7826087 ,  493.26086957,  507.73913043,\n",
       "        522.2173913 ,  536.69565217,  551.17391304,  565.65217391,\n",
       "        580.13043478,  594.60869565,  609.08695652,  623.56521739,\n",
       "        638.04347826,  652.52173913,  667.        ,  681.47826087,\n",
       "        695.95652174,  710.43478261,  724.91304348,  739.39130435,\n",
       "        753.86956522,  768.34782609,  782.82608696,  797.30434783,\n",
       "        811.7826087 ,  826.26086957,  840.73913043,  855.2173913 ,\n",
       "        869.69565217,  884.17391304,  898.65217391,  913.13043478,\n",
       "        927.60869565,  942.08695652,  956.56521739,  971.04347826,\n",
       "        985.52173913, 1000.        ])"
      ]
     },
     "execution_count": 178,
     "metadata": {},
     "output_type": "execute_result"
    }
   ],
   "source": [
    "np.linspace(1,1000,70)"
   ]
  },
  {
   "cell_type": "code",
   "execution_count": null,
   "id": "d28380ef",
   "metadata": {},
   "outputs": [],
   "source": []
  },
  {
   "cell_type": "code",
   "execution_count": null,
   "id": "d63a0b69",
   "metadata": {},
   "outputs": [],
   "source": []
  },
  {
   "cell_type": "markdown",
   "id": "89f6ce7a",
   "metadata": {},
   "source": [
    "## Logspace"
   ]
  },
  {
   "cell_type": "markdown",
   "id": "2002514b",
   "metadata": {},
   "source": [
    "- Return numbers spaced evenly on a log scale.\n",
    "- LOG-BASE10"
   ]
  },
  {
   "cell_type": "code",
   "execution_count": 179,
   "id": "a2c4fade",
   "metadata": {},
   "outputs": [
    {
     "data": {
      "text/plain": [
       "array([1.00000000e+001, 1.04811313e+003, 1.09854114e+005, 1.15139540e+007,\n",
       "       1.20679264e+009, 1.26485522e+011, 1.32571137e+013, 1.38949549e+015,\n",
       "       1.45634848e+017, 1.52641797e+019, 1.59985872e+021, 1.67683294e+023,\n",
       "       1.75751062e+025, 1.84206997e+027, 1.93069773e+029, 2.02358965e+031,\n",
       "       2.12095089e+033, 2.22299648e+035, 2.32995181e+037, 2.44205309e+039,\n",
       "       2.55954792e+041, 2.68269580e+043, 2.81176870e+045, 2.94705170e+047,\n",
       "       3.08884360e+049, 3.23745754e+051, 3.39322177e+053, 3.55648031e+055,\n",
       "       3.72759372e+057, 3.90693994e+059, 4.09491506e+061, 4.29193426e+063,\n",
       "       4.49843267e+065, 4.71486636e+067, 4.94171336e+069, 5.17947468e+071,\n",
       "       5.42867544e+073, 5.68986603e+075, 5.96362332e+077, 6.25055193e+079,\n",
       "       6.55128557e+081, 6.86648845e+083, 7.19685673e+085, 7.54312006e+087,\n",
       "       7.90604321e+089, 8.28642773e+091, 8.68511374e+093, 9.10298178e+095,\n",
       "       9.54095476e+097, 1.00000000e+100])"
      ]
     },
     "execution_count": 179,
     "metadata": {},
     "output_type": "execute_result"
    }
   ],
   "source": [
    "np.logspace(1,100)"
   ]
  },
  {
   "cell_type": "code",
   "execution_count": null,
   "id": "d619d942",
   "metadata": {},
   "outputs": [],
   "source": []
  },
  {
   "cell_type": "code",
   "execution_count": null,
   "id": "519a6454",
   "metadata": {},
   "outputs": [],
   "source": []
  },
  {
   "cell_type": "markdown",
   "id": "8c388500",
   "metadata": {},
   "source": [
    "## Where"
   ]
  },
  {
   "cell_type": "code",
   "execution_count": 180,
   "id": "72d50599",
   "metadata": {},
   "outputs": [
    {
     "data": {
      "text/plain": [
       "array([ 3,  4,  5,  6,  7,  8,  9, 10, 11, 12, 13, 14, 15, 16, 17, 18, 19,\n",
       "       20, 21, 22, 23, 24, 25, 26, 27, 28, 29, 30, 31, 32, 33, 34, 35, 36,\n",
       "       37, 38, 39, 40, 41, 42, 43, 44, 45, 46, 47, 48, 49])"
      ]
     },
     "execution_count": 180,
     "metadata": {},
     "output_type": "execute_result"
    }
   ],
   "source": [
    "z=np.arange(3,50)\n",
    "z"
   ]
  },
  {
   "cell_type": "code",
   "execution_count": 181,
   "id": "bbe22ae0",
   "metadata": {},
   "outputs": [
    {
     "data": {
      "text/plain": [
       "(array([13, 14, 15, 16, 17, 18, 19, 20, 21, 22, 23, 24, 25, 26, 27, 28, 29,\n",
       "        30, 31, 32, 33, 34, 35, 36, 37, 38, 39, 40, 41, 42, 43, 44, 45, 46],\n",
       "       dtype=int64),)"
      ]
     },
     "execution_count": 181,
     "metadata": {},
     "output_type": "execute_result"
    }
   ],
   "source": [
    "np.where(z>15)\n",
    "\n",
    "#it gives position of that element wch satisfy the condition"
   ]
  },
  {
   "cell_type": "code",
   "execution_count": 183,
   "id": "0a397382",
   "metadata": {},
   "outputs": [
    {
     "data": {
      "text/plain": [
       "(array([ 1,  3,  5,  7,  9, 11, 13, 15, 17, 19, 21, 23, 25, 27, 29, 31, 33,\n",
       "        35, 37, 39, 41, 43, 45], dtype=int64),)"
      ]
     },
     "execution_count": 183,
     "metadata": {},
     "output_type": "execute_result"
    }
   ],
   "source": [
    "np.where(z%2==0)"
   ]
  },
  {
   "cell_type": "code",
   "execution_count": 184,
   "id": "71c052a8",
   "metadata": {},
   "outputs": [
    {
     "data": {
      "text/plain": [
       "(array([3], dtype=int64),)"
      ]
     },
     "execution_count": 184,
     "metadata": {},
     "output_type": "execute_result"
    }
   ],
   "source": [
    "np.where(z==6)"
   ]
  },
  {
   "cell_type": "markdown",
   "id": "9f4533e8",
   "metadata": {},
   "source": [
    "## Split"
   ]
  },
  {
   "cell_type": "markdown",
   "id": "687a3b73",
   "metadata": {},
   "source": [
    "Split an array into multiple sub-arrays"
   ]
  },
  {
   "cell_type": "code",
   "execution_count": 185,
   "id": "2e531c62",
   "metadata": {},
   "outputs": [
    {
     "data": {
      "text/plain": [
       "array([0, 1, 2, 3, 4, 5, 6, 7, 8, 9])"
      ]
     },
     "execution_count": 185,
     "metadata": {},
     "output_type": "execute_result"
    }
   ],
   "source": [
    "e=np.arange(0,10)\n",
    "e"
   ]
  },
  {
   "cell_type": "code",
   "execution_count": 186,
   "id": "50101856",
   "metadata": {},
   "outputs": [
    {
     "data": {
      "text/plain": [
       "[array([0, 1]), array([2, 3]), array([4, 5]), array([6, 7]), array([8, 9])]"
      ]
     },
     "execution_count": 186,
     "metadata": {},
     "output_type": "execute_result"
    }
   ],
   "source": [
    "np.split(e,5)"
   ]
  },
  {
   "cell_type": "code",
   "execution_count": 187,
   "id": "663a83c3",
   "metadata": {},
   "outputs": [
    {
     "data": {
      "text/plain": [
       "[array([0, 1, 2, 3, 4]), array([5, 6, 7, 8, 9])]"
      ]
     },
     "execution_count": 187,
     "metadata": {},
     "output_type": "execute_result"
    }
   ],
   "source": [
    "np.split(e,2)"
   ]
  },
  {
   "cell_type": "code",
   "execution_count": 188,
   "id": "bb1a5d91",
   "metadata": {},
   "outputs": [],
   "source": [
    "a,b=np.split(e,2)"
   ]
  },
  {
   "cell_type": "code",
   "execution_count": 189,
   "id": "ebd65c0a",
   "metadata": {},
   "outputs": [
    {
     "data": {
      "text/plain": [
       "array([0, 1, 2, 3, 4])"
      ]
     },
     "execution_count": 189,
     "metadata": {},
     "output_type": "execute_result"
    }
   ],
   "source": [
    "a"
   ]
  },
  {
   "cell_type": "code",
   "execution_count": 190,
   "id": "e3171baf",
   "metadata": {},
   "outputs": [
    {
     "data": {
      "text/plain": [
       "array([5, 6, 7, 8, 9])"
      ]
     },
     "execution_count": 190,
     "metadata": {},
     "output_type": "execute_result"
    }
   ],
   "source": [
    "b"
   ]
  },
  {
   "cell_type": "markdown",
   "id": "3e766a3e",
   "metadata": {},
   "source": [
    "## Arithematic Operation in numpy"
   ]
  },
  {
   "cell_type": "code",
   "execution_count": 191,
   "id": "d95f72db",
   "metadata": {},
   "outputs": [],
   "source": [
    "a=np.array([[1,2,10],[5,7,8]])\n",
    "b=np.array([[10,20,7],[50,70,7]])"
   ]
  },
  {
   "cell_type": "code",
   "execution_count": 192,
   "id": "07d77a82",
   "metadata": {},
   "outputs": [
    {
     "data": {
      "text/plain": [
       "array([[ 1,  2, 10],\n",
       "       [ 5,  7,  8]])"
      ]
     },
     "execution_count": 192,
     "metadata": {},
     "output_type": "execute_result"
    }
   ],
   "source": [
    "a"
   ]
  },
  {
   "cell_type": "code",
   "execution_count": 193,
   "id": "d37dcf3f",
   "metadata": {},
   "outputs": [
    {
     "data": {
      "text/plain": [
       "array([[10, 20,  7],\n",
       "       [50, 70,  7]])"
      ]
     },
     "execution_count": 193,
     "metadata": {},
     "output_type": "execute_result"
    }
   ],
   "source": [
    "b"
   ]
  },
  {
   "cell_type": "code",
   "execution_count": 194,
   "id": "ea6222b6",
   "metadata": {},
   "outputs": [
    {
     "data": {
      "text/plain": [
       "array([[11, 22, 17],\n",
       "       [55, 77, 15]])"
      ]
     },
     "execution_count": 194,
     "metadata": {},
     "output_type": "execute_result"
    }
   ],
   "source": [
    "np.add(a,b)"
   ]
  },
  {
   "cell_type": "code",
   "execution_count": 195,
   "id": "933ec616",
   "metadata": {},
   "outputs": [
    {
     "data": {
      "text/plain": [
       "array([[ -9, -18,   3],\n",
       "       [-45, -63,   1]])"
      ]
     },
     "execution_count": 195,
     "metadata": {},
     "output_type": "execute_result"
    }
   ],
   "source": [
    "np.subtract(a,b)"
   ]
  },
  {
   "cell_type": "code",
   "execution_count": 196,
   "id": "16983f6e",
   "metadata": {},
   "outputs": [
    {
     "data": {
      "text/plain": [
       "array([[ 10,  40,  70],\n",
       "       [250, 490,  56]])"
      ]
     },
     "execution_count": 196,
     "metadata": {},
     "output_type": "execute_result"
    }
   ],
   "source": [
    "np.multiply(a,b)"
   ]
  },
  {
   "cell_type": "code",
   "execution_count": 197,
   "id": "9715fceb",
   "metadata": {},
   "outputs": [
    {
     "data": {
      "text/plain": [
       "array([[0.1       , 0.1       , 1.42857143],\n",
       "       [0.1       , 0.1       , 1.14285714]])"
      ]
     },
     "execution_count": 197,
     "metadata": {},
     "output_type": "execute_result"
    }
   ],
   "source": [
    "np.divide(a,b)"
   ]
  },
  {
   "cell_type": "code",
   "execution_count": 198,
   "id": "33c956f1",
   "metadata": {},
   "outputs": [
    {
     "data": {
      "text/plain": [
       "array([[1, 2, 3],\n",
       "       [5, 7, 1]])"
      ]
     },
     "execution_count": 198,
     "metadata": {},
     "output_type": "execute_result"
    }
   ],
   "source": [
    "np.mod(a,b)"
   ]
  },
  {
   "cell_type": "code",
   "execution_count": 199,
   "id": "d2de8847",
   "metadata": {},
   "outputs": [
    {
     "data": {
      "text/plain": [
       "array([[         1,    1048576,   10000000],\n",
       "       [1296002393, 1187094929,    2097152]])"
      ]
     },
     "execution_count": 199,
     "metadata": {},
     "output_type": "execute_result"
    }
   ],
   "source": [
    "np.power(a,b)"
   ]
  },
  {
   "cell_type": "markdown",
   "id": "2b26433e",
   "metadata": {},
   "source": [
    "## Statistics"
   ]
  },
  {
   "cell_type": "code",
   "execution_count": 2,
   "id": "4a62451b",
   "metadata": {},
   "outputs": [
    {
     "data": {
      "text/plain": [
       "array([[ 50,  10,  30],\n",
       "       [500, 100, 300],\n",
       "       [  5,   1,   3]])"
      ]
     },
     "execution_count": 2,
     "metadata": {},
     "output_type": "execute_result"
    }
   ],
   "source": [
    "import numpy as np\n",
    "s=np.array([[50,10,30],[500,100,300],[5,1,3]])\n",
    "s"
   ]
  },
  {
   "cell_type": "code",
   "execution_count": 3,
   "id": "e2c1388e",
   "metadata": {},
   "outputs": [
    {
     "data": {
      "text/plain": [
       "1"
      ]
     },
     "execution_count": 3,
     "metadata": {},
     "output_type": "execute_result"
    }
   ],
   "source": [
    "np.amin(s)"
   ]
  },
  {
   "cell_type": "code",
   "execution_count": 5,
   "id": "c5f6f1ad",
   "metadata": {},
   "outputs": [
    {
     "data": {
      "text/plain": [
       "500"
      ]
     },
     "execution_count": 5,
     "metadata": {},
     "output_type": "execute_result"
    }
   ],
   "source": [
    "np.amax(s)"
   ]
  },
  {
   "cell_type": "code",
   "execution_count": 8,
   "id": "385869f9",
   "metadata": {},
   "outputs": [
    {
     "data": {
      "text/plain": [
       "array([500, 100, 300])"
      ]
     },
     "execution_count": 8,
     "metadata": {},
     "output_type": "execute_result"
    }
   ],
   "source": [
    "np.amax(s,axis=0)"
   ]
  },
  {
   "cell_type": "code",
   "execution_count": 9,
   "id": "ff08c248",
   "metadata": {},
   "outputs": [
    {
     "data": {
      "text/plain": [
       "array([ 50, 500,   5])"
      ]
     },
     "execution_count": 9,
     "metadata": {},
     "output_type": "execute_result"
    }
   ],
   "source": [
    "np.amax(s,axis=1)"
   ]
  },
  {
   "cell_type": "code",
   "execution_count": 10,
   "id": "83ebadc0",
   "metadata": {},
   "outputs": [
    {
     "data": {
      "text/plain": [
       "111.0"
      ]
     },
     "execution_count": 10,
     "metadata": {},
     "output_type": "execute_result"
    }
   ],
   "source": [
    "np.mean(s)"
   ]
  },
  {
   "cell_type": "code",
   "execution_count": 13,
   "id": "2589d944",
   "metadata": {},
   "outputs": [
    {
     "data": {
      "text/plain": [
       "26960.666666666668"
      ]
     },
     "execution_count": 13,
     "metadata": {},
     "output_type": "execute_result"
    }
   ],
   "source": [
    "np.var(s)"
   ]
  },
  {
   "cell_type": "code",
   "execution_count": 14,
   "id": "cbf0ea7b",
   "metadata": {},
   "outputs": [
    {
     "data": {
      "text/plain": [
       "164.1970361080451"
      ]
     },
     "execution_count": 14,
     "metadata": {},
     "output_type": "execute_result"
    }
   ],
   "source": [
    "np.std(s)"
   ]
  },
  {
   "cell_type": "markdown",
   "id": "8764d365",
   "metadata": {},
   "source": [
    "## Datatype"
   ]
  },
  {
   "cell_type": "markdown",
   "id": "7bdcd41d",
   "metadata": {},
   "source": [
    "### The main several data types supported by NumPy Python are:\n",
    "- np.bool_: This type is used to return boolean values like (True or False).\n",
    "- np.int: It is the default type of integer and C-type long.\n",
    "- intc: It is similar to C integer and it indicates 32 or 64 bit integer.\n",
    "- intp: This type indicates for indexing.\n",
    "- int8: By default its range value is -128 to 127.\n",
    "- int16: It is a 16 bit integer and by default its range value is (-32768 to 32767).\n",
    "- int32: it is for set 32-bit integer and the range value is (-2147483648 to 2147483647).\n",
    "- int64: By default its value is set at (-9223372036854775808 to 9223372036854775807).\n",
    "- uint8: It is a 8 bit integer and range value is (0 to 255).\n",
    "- uint16: It is a 16 bit unsigned integer and range value is (0 to 65535).\n",
    "- uint32: This is a unsigned integer with 32 bit and its value is (0 to 4294967295).\n",
    "- uint64: It is a 8 byte unsigned integer and range value is (0 to 18446744073709551615)."
   ]
  },
  {
   "cell_type": "code",
   "execution_count": 15,
   "id": "4470c663",
   "metadata": {},
   "outputs": [
    {
     "data": {
      "text/plain": [
       "dtype('int32')"
      ]
     },
     "execution_count": 15,
     "metadata": {},
     "output_type": "execute_result"
    }
   ],
   "source": [
    "a=np.array([2555])\n",
    "a.dtype"
   ]
  },
  {
   "cell_type": "code",
   "execution_count": 16,
   "id": "81be9a53",
   "metadata": {},
   "outputs": [
    {
     "data": {
      "text/plain": [
       "dtype('float16')"
      ]
     },
     "execution_count": 16,
     "metadata": {},
     "output_type": "execute_result"
    }
   ],
   "source": [
    "a=np.array([12,2,3,6],dtype=np.float16)\n",
    "a.dtype"
   ]
  },
  {
   "cell_type": "code",
   "execution_count": 17,
   "id": "bb5b8f7d",
   "metadata": {},
   "outputs": [
    {
     "data": {
      "text/plain": [
       "array([12.,  2.,  3.,  6.], dtype=float16)"
      ]
     },
     "execution_count": 17,
     "metadata": {},
     "output_type": "execute_result"
    }
   ],
   "source": [
    "a"
   ]
  },
  {
   "cell_type": "code",
   "execution_count": null,
   "id": "8deb607d",
   "metadata": {},
   "outputs": [],
   "source": []
  },
  {
   "cell_type": "code",
   "execution_count": 18,
   "id": "96ad63f3",
   "metadata": {},
   "outputs": [
    {
     "data": {
      "text/plain": [
       "array('1999-06-14', dtype='datetime64[D]')"
      ]
     },
     "execution_count": 18,
     "metadata": {},
     "output_type": "execute_result"
    }
   ],
   "source": [
    "np.array(np.datetime64('1999-06-14'))"
   ]
  },
  {
   "cell_type": "code",
   "execution_count": null,
   "id": "a2bb45f0",
   "metadata": {},
   "outputs": [],
   "source": []
  },
  {
   "cell_type": "code",
   "execution_count": 19,
   "id": "5aec5990",
   "metadata": {},
   "outputs": [
    {
     "data": {
      "text/plain": [
       "array([1., 2., 3.])"
      ]
     },
     "execution_count": 19,
     "metadata": {},
     "output_type": "execute_result"
    }
   ],
   "source": [
    "new=np.array([1.0,2.0,3.0])\n",
    "new"
   ]
  },
  {
   "cell_type": "code",
   "execution_count": 20,
   "id": "8f098e1d",
   "metadata": {},
   "outputs": [],
   "source": [
    "b=np.array([1,2,3])"
   ]
  },
  {
   "cell_type": "code",
   "execution_count": 21,
   "id": "555b546d",
   "metadata": {},
   "outputs": [
    {
     "data": {
      "text/plain": [
       "array(['1', '2', '3'], dtype='<U11')"
      ]
     },
     "execution_count": 21,
     "metadata": {},
     "output_type": "execute_result"
    }
   ],
   "source": [
    "b.astype('str')"
   ]
  },
  {
   "cell_type": "code",
   "execution_count": 22,
   "id": "ff8fa489",
   "metadata": {},
   "outputs": [
    {
     "data": {
      "text/plain": [
       "array([1., 2., 3.], dtype=float32)"
      ]
     },
     "execution_count": 22,
     "metadata": {},
     "output_type": "execute_result"
    }
   ],
   "source": [
    "b.astype('f')"
   ]
  },
  {
   "cell_type": "code",
   "execution_count": 23,
   "id": "fa18fd2b",
   "metadata": {},
   "outputs": [
    {
     "data": {
      "text/plain": [
       "127"
      ]
     },
     "execution_count": 23,
     "metadata": {},
     "output_type": "execute_result"
    }
   ],
   "source": [
    "np.iinfo(np.int8).max"
   ]
  },
  {
   "cell_type": "code",
   "execution_count": 24,
   "id": "7e80e372",
   "metadata": {},
   "outputs": [
    {
     "data": {
      "text/plain": [
       "-128"
      ]
     },
     "execution_count": 24,
     "metadata": {},
     "output_type": "execute_result"
    }
   ],
   "source": [
    "np.iinfo(np.int8).min"
   ]
  },
  {
   "cell_type": "code",
   "execution_count": null,
   "id": "2b19fec3",
   "metadata": {},
   "outputs": [],
   "source": []
  }
 ],
 "metadata": {
  "kernelspec": {
   "display_name": "Python 3 (ipykernel)",
   "language": "python",
   "name": "python3"
  },
  "language_info": {
   "codemirror_mode": {
    "name": "ipython",
    "version": 3
   },
   "file_extension": ".py",
   "mimetype": "text/x-python",
   "name": "python",
   "nbconvert_exporter": "python",
   "pygments_lexer": "ipython3",
   "version": "3.11.4"
  }
 },
 "nbformat": 4,
 "nbformat_minor": 5
}
