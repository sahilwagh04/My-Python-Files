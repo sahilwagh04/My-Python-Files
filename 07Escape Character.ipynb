{
 "cells": [
  {
   "cell_type": "code",
   "execution_count": 5,
   "id": "8da8f5f2",
   "metadata": {},
   "outputs": [],
   "source": [
    "#  \\'   Single Quote\n",
    "#  \\\\   Backslash\n",
    "#  \\n   New line\n",
    "#  \\r   Carriage Return\n",
    "#  \\t   Tab\n",
    "#  \\b   Backspace\n",
    "#  \\f   Form Feed\n",
    "#  \\ooo Octal Value\n",
    "#  \\xhh Hex Value"
   ]
  },
  {
   "cell_type": "code",
   "execution_count": 4,
   "id": "80188060",
   "metadata": {},
   "outputs": [
    {
     "name": "stdout",
     "output_type": "stream",
     "text": [
      "We are the so called 'Vikings' from the north.\n"
     ]
    }
   ],
   "source": [
    "s=\"We are the so called \\'Vikings\\' from the north.\"\n",
    "print(s)"
   ]
  },
  {
   "cell_type": "code",
   "execution_count": 7,
   "id": "453e9b9b",
   "metadata": {},
   "outputs": [
    {
     "name": "stdout",
     "output_type": "stream",
     "text": [
      "We are the so called \\'Vikings' from the north.\n"
     ]
    }
   ],
   "source": [
    "s=\"We are the so called \\\\'Vikings' from the north.\"\n",
    "print(s)"
   ]
  },
  {
   "cell_type": "code",
   "execution_count": 8,
   "id": "4b6b7f1c",
   "metadata": {},
   "outputs": [
    {
     "name": "stdout",
     "output_type": "stream",
     "text": [
      "We are the so called \n",
      "'Vikings' from the north.\n"
     ]
    }
   ],
   "source": [
    "s=\"We are the so called \\n'Vikings' from the north.\"\n",
    "print(s)"
   ]
  },
  {
   "cell_type": "code",
   "execution_count": 9,
   "id": "e2ee241f",
   "metadata": {},
   "outputs": [
    {
     "name": "stdout",
     "output_type": "stream",
     "text": [
      "We are the so called \r",
      "'Vikings' from the north.\n"
     ]
    }
   ],
   "source": [
    "s=\"We are the so called \\r'Vikings' from the north.\"\n",
    "print(s)"
   ]
  },
  {
   "cell_type": "code",
   "execution_count": 10,
   "id": "fafef342",
   "metadata": {},
   "outputs": [
    {
     "name": "stdout",
     "output_type": "stream",
     "text": [
      "We are the so called \t'Vikings' from the north.\n"
     ]
    }
   ],
   "source": [
    "s=\"We are the so called \\t'Vikings' from the north.\"\n",
    "print(s)"
   ]
  },
  {
   "cell_type": "code",
   "execution_count": 11,
   "id": "82dfee56",
   "metadata": {},
   "outputs": [
    {
     "name": "stdout",
     "output_type": "stream",
     "text": [
      "We are the so called \b'Vikings' from the north.\n"
     ]
    }
   ],
   "source": [
    "s=\"We are the so called \\b'Vikings' from the north.\"\n",
    "print(s)"
   ]
  },
  {
   "cell_type": "code",
   "execution_count": 12,
   "id": "3989ca45",
   "metadata": {},
   "outputs": [
    {
     "name": "stdout",
     "output_type": "stream",
     "text": [
      "We are the so called \f",
      "'Vikings' from the north.\n"
     ]
    }
   ],
   "source": [
    "#Next page\n",
    "s=\"We are the so called \\f'Vikings' from the north.\"\n",
    "print(s)"
   ]
  },
  {
   "cell_type": "code",
   "execution_count": null,
   "id": "fc6fb944",
   "metadata": {},
   "outputs": [],
   "source": []
  }
 ],
 "metadata": {
  "kernelspec": {
   "display_name": "Python 3 (ipykernel)",
   "language": "python",
   "name": "python3"
  },
  "language_info": {
   "codemirror_mode": {
    "name": "ipython",
    "version": 3
   },
   "file_extension": ".py",
   "mimetype": "text/x-python",
   "name": "python",
   "nbconvert_exporter": "python",
   "pygments_lexer": "ipython3",
   "version": "3.11.4"
  }
 },
 "nbformat": 4,
 "nbformat_minor": 5
}
