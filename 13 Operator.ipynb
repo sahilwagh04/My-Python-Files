{
 "cells": [
  {
   "cell_type": "code",
   "execution_count": 2,
   "id": "6700bdd4",
   "metadata": {},
   "outputs": [
    {
     "name": "stdout",
     "output_type": "stream",
     "text": [
      "5\n"
     ]
    }
   ],
   "source": [
    "x=0\n",
    "x=x+5\n",
    "print(x)"
   ]
  },
  {
   "cell_type": "markdown",
   "id": "f8cad7ff",
   "metadata": {},
   "source": [
    "## 7 Identity Operator"
   ]
  },
  {
   "cell_type": "code",
   "execution_count": 10,
   "id": "a3df3e30",
   "metadata": {},
   "outputs": [
    {
     "name": "stdout",
     "output_type": "stream",
     "text": [
      "true\n"
     ]
    }
   ],
   "source": [
    "# Is and Is not\n",
    "x=5\n",
    "if(type(x) is int):\n",
    "    print('true')\n",
    "else:\n",
    "    print('false')"
   ]
  },
  {
   "cell_type": "code",
   "execution_count": 11,
   "id": "c67c0c54",
   "metadata": {},
   "outputs": [
    {
     "name": "stdout",
     "output_type": "stream",
     "text": [
      "true\n"
     ]
    }
   ],
   "source": [
    "x=5.2\n",
    "if(type(x) is not int):\n",
    "    print(\"true\")\n",
    "else:\n",
    "    print(\"false\")\n"
   ]
  },
  {
   "cell_type": "markdown",
   "id": "4fa79f8f",
   "metadata": {},
   "source": [
    "## 8 Bitwise Operator"
   ]
  },
  {
   "cell_type": "code",
   "execution_count": 20,
   "id": "4a10c98e",
   "metadata": {},
   "outputs": [
    {
     "name": "stdout",
     "output_type": "stream",
     "text": [
      "12\n"
     ]
    }
   ],
   "source": [
    "a = 60     # 60 = 0011 1100\n",
    "b = 13     # 13 = 0000 1101\n",
    "z = a&b\n",
    "print(z)"
   ]
  },
  {
   "cell_type": "code",
   "execution_count": 21,
   "id": "c41169cb",
   "metadata": {},
   "outputs": [
    {
     "name": "stdout",
     "output_type": "stream",
     "text": [
      "61\n"
     ]
    }
   ],
   "source": [
    "y=a|b\n",
    "print(y)"
   ]
  },
  {
   "cell_type": "code",
   "execution_count": 22,
   "id": "eebafcab",
   "metadata": {},
   "outputs": [
    {
     "data": {
      "text/plain": [
       "-6"
      ]
     },
     "execution_count": 22,
     "metadata": {},
     "output_type": "execute_result"
    }
   ],
   "source": [
    "a=5\n",
    "~a"
   ]
  },
  {
   "cell_type": "code",
   "execution_count": 23,
   "id": "87bdab7b",
   "metadata": {},
   "outputs": [
    {
     "data": {
      "text/plain": [
       "-14"
      ]
     },
     "execution_count": 23,
     "metadata": {},
     "output_type": "execute_result"
    }
   ],
   "source": [
    "b=13\n",
    "~b"
   ]
  },
  {
   "cell_type": "markdown",
   "id": "273006d9",
   "metadata": {},
   "source": [
    "## Evaluating expression - Using eval function"
   ]
  },
  {
   "cell_type": "code",
   "execution_count": 25,
   "id": "e401f12f",
   "metadata": {},
   "outputs": [
    {
     "name": "stdout",
     "output_type": "stream",
     "text": [
      "x*(x+1)*(x+2)\n",
      "<class 'str'>\n"
     ]
    }
   ],
   "source": [
    "evaluate='x*(x+1)*(x+2)'\n",
    "print(evaluate)\n",
    "print(type(evaluate))"
   ]
  },
  {
   "cell_type": "code",
   "execution_count": 26,
   "id": "b1e44ec2",
   "metadata": {},
   "outputs": [
    {
     "name": "stdout",
     "output_type": "stream",
     "text": [
      "<class 'int'>\n"
     ]
    }
   ],
   "source": [
    "x=3\n",
    "print(type(x))"
   ]
  },
  {
   "cell_type": "code",
   "execution_count": 27,
   "id": "cde8b4f5",
   "metadata": {},
   "outputs": [
    {
     "name": "stdout",
     "output_type": "stream",
     "text": [
      "60\n",
      "<class 'int'>\n"
     ]
    }
   ],
   "source": [
    "expression=eval(evaluate)\n",
    "print(expression)\n",
    "print(type(expression))"
   ]
  },
  {
   "cell_type": "code",
   "execution_count": 30,
   "id": "4f20e107",
   "metadata": {},
   "outputs": [
    {
     "name": "stdout",
     "output_type": "stream",
     "text": [
      "Enter any equation :(x+4)*(x+2)\n",
      "35\n"
     ]
    }
   ],
   "source": [
    "s=eval(input(\"Enter any equation :\"))\n",
    "print(s)"
   ]
  },
  {
   "cell_type": "markdown",
   "id": "a215a442",
   "metadata": {},
   "source": [
    "## Operator Precedence"
   ]
  },
  {
   "cell_type": "code",
   "execution_count": 31,
   "id": "12d70f3c",
   "metadata": {},
   "outputs": [
    {
     "name": "stdout",
     "output_type": "stream",
     "text": [
      "3\n"
     ]
    }
   ],
   "source": [
    "#Left-right associativity\n",
    "# Output: 3\n",
    "print(5*2//3)"
   ]
  },
  {
   "cell_type": "code",
   "execution_count": 32,
   "id": "f0eed6f9",
   "metadata": {},
   "outputs": [
    {
     "name": "stdout",
     "output_type": "stream",
     "text": [
      "0\n"
     ]
    }
   ],
   "source": [
    "#Shows left-right associativity\n",
    "#output: 0\n",
    "print(5*(2//3))"
   ]
  },
  {
   "cell_type": "code",
   "execution_count": 33,
   "id": "2178592c",
   "metadata": {},
   "outputs": [
    {
     "name": "stdout",
     "output_type": "stream",
     "text": [
      "512\n"
     ]
    }
   ],
   "source": [
    "# Shows the right-left associativity of **\n",
    "# Output: 512, Since 2**(3**2) = 2**9\n",
    "print(2**3**2)"
   ]
  },
  {
   "cell_type": "code",
   "execution_count": 34,
   "id": "40a118bc",
   "metadata": {},
   "outputs": [
    {
     "name": "stdout",
     "output_type": "stream",
     "text": [
      "64\n"
     ]
    }
   ],
   "source": [
    "# If 2 needs to be exponated first, need to use()\n",
    "# Output: 64\n",
    "print((2**3)**2)"
   ]
  },
  {
   "cell_type": "code",
   "execution_count": null,
   "id": "19d61390",
   "metadata": {},
   "outputs": [],
   "source": []
  }
 ],
 "metadata": {
  "kernelspec": {
   "display_name": "Python 3 (ipykernel)",
   "language": "python",
   "name": "python3"
  },
  "language_info": {
   "codemirror_mode": {
    "name": "ipython",
    "version": 3
   },
   "file_extension": ".py",
   "mimetype": "text/x-python",
   "name": "python",
   "nbconvert_exporter": "python",
   "pygments_lexer": "ipython3",
   "version": "3.11.4"
  }
 },
 "nbformat": 4,
 "nbformat_minor": 5
}
