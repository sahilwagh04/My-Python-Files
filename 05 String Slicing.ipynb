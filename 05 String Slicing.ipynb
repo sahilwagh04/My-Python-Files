{
 "cells": [
  {
   "cell_type": "code",
   "execution_count": 1,
   "id": "a0b7c8c1",
   "metadata": {},
   "outputs": [
    {
     "name": "stdout",
     "output_type": "stream",
     "text": [
      "Print the string:\n",
      "We are here to learn Python from IPCS\n"
     ]
    }
   ],
   "source": [
    "s=\"We are here to learn Python from IPCS\"\n",
    "print(\"Print the string:\")\n",
    "print(s)"
   ]
  },
  {
   "cell_type": "code",
   "execution_count": 2,
   "id": "87c3c144",
   "metadata": {},
   "outputs": [
    {
     "name": "stdout",
     "output_type": "stream",
     "text": [
      "First Character\n",
      "W\n"
     ]
    }
   ],
   "source": [
    "print(\"First Character\")\n",
    "print(s[0])"
   ]
  },
  {
   "cell_type": "code",
   "execution_count": 3,
   "id": "0c3589fa",
   "metadata": {},
   "outputs": [
    {
     "name": "stdout",
     "output_type": "stream",
     "text": [
      "Character from 0 to 9\n",
      "We are her\n"
     ]
    }
   ],
   "source": [
    "print(\"Character from 0 to 9\")\n",
    "print(s[0:10])"
   ]
  },
  {
   "cell_type": "code",
   "execution_count": 4,
   "id": "37d7e70b",
   "metadata": {},
   "outputs": [
    {
     "name": "stdout",
     "output_type": "stream",
     "text": [
      "Character from 10 to 19\n",
      "e to learn\n"
     ]
    }
   ],
   "source": [
    "print(\"Character from 10 to 19\")\n",
    "print(s[10:20])"
   ]
  },
  {
   "cell_type": "code",
   "execution_count": 5,
   "id": "21188cdb",
   "metadata": {},
   "outputs": [
    {
     "name": "stdout",
     "output_type": "stream",
     "text": [
      "Last Character\n",
      "S\n"
     ]
    }
   ],
   "source": [
    "print(\"Last Character\")\n",
    "print(s[-1])"
   ]
  },
  {
   "cell_type": "code",
   "execution_count": 6,
   "id": "9c4fe64f",
   "metadata": {},
   "outputs": [
    {
     "name": "stdout",
     "output_type": "stream",
     "text": [
      "Printing the character from last character to -9\n",
      "SCPI morf\n"
     ]
    }
   ],
   "source": [
    "print(\"Printing the character from last character to -9\")\n",
    "print(s[-1:-10:-1])"
   ]
  },
  {
   "cell_type": "code",
   "execution_count": 10,
   "id": "cc8c224e",
   "metadata": {},
   "outputs": [
    {
     "name": "stdout",
     "output_type": "stream",
     "text": [
      "Printing from -10 to -20\n",
      " nohtyP nra\n"
     ]
    }
   ],
   "source": [
    "print(\"Printing from -10 to -20\")\n",
    "print(s[-10:-21:-1])"
   ]
  },
  {
   "cell_type": "code",
   "execution_count": 12,
   "id": "18cf155a",
   "metadata": {},
   "outputs": [
    {
     "name": "stdout",
     "output_type": "stream",
     "text": [
      "Skipping two Character\n",
      "a r\n",
      "Wa rtlrPh oIS\n"
     ]
    }
   ],
   "source": [
    "print(\"Skipping two Character\")\n",
    "print(s[3:11:3])\n",
    "print(s[0:37:3])"
   ]
  },
  {
   "cell_type": "code",
   "execution_count": 14,
   "id": "799d2d78",
   "metadata": {},
   "outputs": [
    {
     "name": "stdout",
     "output_type": "stream",
     "text": [
      "Skipping two character from last\n",
      " hPr\n",
      "SIo hPr\n"
     ]
    }
   ],
   "source": [
    "print(\"Skipping two character from last\")\n",
    "print(s[-10:-20:-3])\n",
    "print(s[-1:-20:-3])"
   ]
  },
  {
   "cell_type": "code",
   "execution_count": 16,
   "id": "9109bde6",
   "metadata": {},
   "outputs": [
    {
     "name": "stdout",
     "output_type": "stream",
     "text": [
      "Print in reverse\n",
      "SCPI morf nohtyP nrael ot ereh era eW\n"
     ]
    }
   ],
   "source": [
    "print(\"Print in reverse\")\n",
    "print(s[::-1])"
   ]
  },
  {
   "cell_type": "code",
   "execution_count": 17,
   "id": "e3d33d93",
   "metadata": {},
   "outputs": [
    {
     "name": "stdout",
     "output_type": "stream",
     "text": [
      "From starting to 10\n",
      "We are here\n"
     ]
    }
   ],
   "source": [
    "print(\"From starting to 10\")\n",
    "print(s[:11])"
   ]
  },
  {
   "cell_type": "code",
   "execution_count": 18,
   "id": "f14e3cee",
   "metadata": {},
   "outputs": [
    {
     "name": "stdout",
     "output_type": "stream",
     "text": [
      "From 10 to last\n",
      "e to learn Python from IPCS\n"
     ]
    }
   ],
   "source": [
    "print(\"From 10 to last\")\n",
    "print(s[10:])"
   ]
  },
  {
   "cell_type": "code",
   "execution_count": null,
   "id": "626bd148",
   "metadata": {},
   "outputs": [],
   "source": []
  }
 ],
 "metadata": {
  "kernelspec": {
   "display_name": "Python 3 (ipykernel)",
   "language": "python",
   "name": "python3"
  },
  "language_info": {
   "codemirror_mode": {
    "name": "ipython",
    "version": 3
   },
   "file_extension": ".py",
   "mimetype": "text/x-python",
   "name": "python",
   "nbconvert_exporter": "python",
   "pygments_lexer": "ipython3",
   "version": "3.11.4"
  }
 },
 "nbformat": 4,
 "nbformat_minor": 5
}
