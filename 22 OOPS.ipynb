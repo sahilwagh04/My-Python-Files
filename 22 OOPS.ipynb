{
 "cells": [
  {
   "cell_type": "markdown",
   "id": "64db6c9c",
   "metadata": {},
   "source": [
    "## A class is a user-defined blueprint or prototype from which objects are created. Classes provide a means of bundling data and functionality together. Creating a new class creates a new type of object, allowing new instances of that type to be made."
   ]
  },
  {
   "cell_type": "markdown",
   "id": "4fe24017",
   "metadata": {},
   "source": [
    "## Without init"
   ]
  },
  {
   "cell_type": "code",
   "execution_count": 1,
   "id": "c49b4075",
   "metadata": {},
   "outputs": [],
   "source": [
    "class car:   #class\n",
    "    def specifications(self,name,speed):    #object\n",
    "        self.name=name\n",
    "        self.speed=speed\n",
    "        print(f\"The car name is {self.name} and the speed is {self.speed}\")"
   ]
  },
  {
   "cell_type": "code",
   "execution_count": 2,
   "id": "bece5c32",
   "metadata": {},
   "outputs": [
    {
     "name": "stdout",
     "output_type": "stream",
     "text": [
      "The car name is Ferrari and the speed is 600KMPH\n"
     ]
    }
   ],
   "source": [
    "obj1=car()\n",
    "obj1.specifications(\"Ferrari\",\"600KMPH\")"
   ]
  },
  {
   "cell_type": "markdown",
   "id": "c5b1b92f",
   "metadata": {},
   "source": [
    "## with init"
   ]
  },
  {
   "cell_type": "code",
   "execution_count": 3,
   "id": "64eb1e44",
   "metadata": {},
   "outputs": [
    {
     "name": "stdout",
     "output_type": "stream",
     "text": [
      "The car name is Ferrari and the speed is 600KMPH\n"
     ]
    }
   ],
   "source": [
    "class car:   #class\n",
    "    def __init__(self,name,speed):    #object\n",
    "        self.name=name\n",
    "        self.speed=speed\n",
    "        print(f\"The car name is {self.name} and the speed is {self.speed}\")\n",
    "obj1=car(\"Ferrari\",\"600KMPH\")"
   ]
  },
  {
   "cell_type": "code",
   "execution_count": 24,
   "id": "b7c4217a",
   "metadata": {},
   "outputs": [
    {
     "name": "stdout",
     "output_type": "stream",
     "text": [
      "The car name is Ferrari colour is red\n",
      "and speed is 600kmph\n"
     ]
    }
   ],
   "source": [
    "class car:\n",
    "    def __init__ (self,name,colour,speed):\n",
    "        self.name=name\n",
    "        self.colour=colour\n",
    "        self.speed=speed\n",
    "    def specification(self):\n",
    "        print(f\"The car name is {self.name} colour is {self.colour}\")\n",
    "    def speed1(self):\n",
    "        print(f\"and speed is {self.speed}\")\n",
    "obj=car(\"Ferrari\",\"red\",\"600kmph\")\n",
    "obj.specification()\n",
    "obj.speed1()"
   ]
  },
  {
   "cell_type": "code",
   "execution_count": 29,
   "id": "3433ab92",
   "metadata": {},
   "outputs": [
    {
     "name": "stdout",
     "output_type": "stream",
     "text": [
      "Hello my name is John ,and my age is 36\n"
     ]
    }
   ],
   "source": [
    "class person:\n",
    "    def __init__(self, name, age):\n",
    "        self.name=name\n",
    "        self.age=age\n",
    "    def myfunct(self):\n",
    "        print(\"Hello my name is \"+ self.name, \",and my age is \" +self.age)\n",
    "p1=person(\"John\",\"36\")\n",
    "p1.myfunct()"
   ]
  },
  {
   "cell_type": "markdown",
   "id": "78921605",
   "metadata": {},
   "source": [
    "## encapsulation"
   ]
  },
  {
   "cell_type": "code",
   "execution_count": 14,
   "id": "1d33a205",
   "metadata": {},
   "outputs": [
    {
     "name": "stdout",
     "output_type": "stream",
     "text": [
      "live free ride hard royal enfield\n",
      "royal enfield\n"
     ]
    }
   ],
   "source": [
    "class bike:\n",
    "    _name1=\"royal enfield\"       #public\n",
    "    def ride(self):\n",
    "        #self._name1=name1\n",
    "        print(\"live free ride hard\",self._name1)\n",
    "        \n",
    "class A(bike):\n",
    "    def function(self):\n",
    "        print(self._name1)\n",
    "obj=bike()\n",
    "obj.ride()\n",
    "\n",
    "o=A()\n",
    "o.function()"
   ]
  },
  {
   "cell_type": "code",
   "execution_count": 24,
   "id": "5830ebea",
   "metadata": {},
   "outputs": [
    {
     "name": "stdout",
     "output_type": "stream",
     "text": [
      "live free ride hard royal enfield\n"
     ]
    },
    {
     "ename": "AttributeError",
     "evalue": "'A' object has no attribute '_name1'",
     "output_type": "error",
     "traceback": [
      "\u001b[1;31m---------------------------------------------------------------------------\u001b[0m",
      "\u001b[1;31mAttributeError\u001b[0m                            Traceback (most recent call last)",
      "Cell \u001b[1;32mIn[24], line 14\u001b[0m\n\u001b[0;32m     11\u001b[0m obj\u001b[38;5;241m.\u001b[39mride()\n\u001b[0;32m     13\u001b[0m o\u001b[38;5;241m=\u001b[39mA()\n\u001b[1;32m---> 14\u001b[0m o\u001b[38;5;241m.\u001b[39mfunction()\n",
      "Cell \u001b[1;32mIn[24], line 9\u001b[0m, in \u001b[0;36mA.function\u001b[1;34m(self)\u001b[0m\n\u001b[0;32m      8\u001b[0m \u001b[38;5;28;01mdef\u001b[39;00m \u001b[38;5;21mfunction\u001b[39m(\u001b[38;5;28mself\u001b[39m):\n\u001b[1;32m----> 9\u001b[0m     \u001b[38;5;28mprint\u001b[39m(\u001b[38;5;28mself\u001b[39m\u001b[38;5;241m.\u001b[39m_name1)\n",
      "\u001b[1;31mAttributeError\u001b[0m: 'A' object has no attribute '_name1'"
     ]
    }
   ],
   "source": [
    "class bike:\n",
    "    __name1=\"royal enfield\"       #protected\n",
    "    def ride(self):\n",
    "        #self._name1=name1\n",
    "        print(\"live free ride hard\",self.__name1)\n",
    "        \n",
    "class A(bike):\n",
    "    def function(self):\n",
    "        print(self._name1)\n",
    "obj=bike()\n",
    "obj.ride()\n",
    "\n",
    "o=A()\n",
    "o.function()"
   ]
  },
  {
   "cell_type": "code",
   "execution_count": 22,
   "id": "9330f38e",
   "metadata": {},
   "outputs": [
    {
     "name": "stdout",
     "output_type": "stream",
     "text": [
      "Drive safe BMW\n",
      "Ride safe BMW\n"
     ]
    }
   ],
   "source": [
    "class car:\n",
    "    _name=\"BMW\"\n",
    "    def drive(self):\n",
    "        print(\"Drive safe\",self._name)\n",
    "\n",
    "class bike(car):\n",
    "    def ride(self):\n",
    "        print(\"Ride safe\",self._name)\n",
    "\n",
    "obj=car()\n",
    "obj.drive()\n",
    "\n",
    "o=bike()\n",
    "o.ride()"
   ]
  },
  {
   "cell_type": "markdown",
   "id": "f83eab7f",
   "metadata": {},
   "source": [
    "## 7. What is Polymorphism?\n",
    "• Polymorphism is composed of two words - \"poly\" which means \"many\", and \"morph\" which means \"forms\". Therefore Polymorphism refers to something that has many forms.\n",
    "• In OOPs, Polymorphism refers to the process by which some code, data, method, or object behaves differently under different circumstances or contexts.\n",
    "• polyporphism can be implement using three ways\n",
    "• 1) operator overloding\n",
    "• 2) method overloading\n",
    "• 3) method overriding"
   ]
  },
  {
   "cell_type": "code",
   "execution_count": 6,
   "id": "2566cd6b",
   "metadata": {},
   "outputs": [
    {
     "ename": "TypeError",
     "evalue": "overloadingexmp.sub() missing 1 required positional argument: 'c'",
     "output_type": "error",
     "traceback": [
      "\u001b[1;31m---------------------------------------------------------------------------\u001b[0m",
      "\u001b[1;31mTypeError\u001b[0m                                 Traceback (most recent call last)",
      "Cell \u001b[1;32mIn[6], line 8\u001b[0m\n\u001b[0;32m      6\u001b[0m         \u001b[38;5;28mprint\u001b[39m(a\u001b[38;5;241m-\u001b[39mb\u001b[38;5;241m-\u001b[39mc)\n\u001b[0;32m      7\u001b[0m a\u001b[38;5;241m=\u001b[39moverloadingexmp()\n\u001b[1;32m----> 8\u001b[0m a\u001b[38;5;241m.\u001b[39msub(\u001b[38;5;241m9\u001b[39m,\u001b[38;5;241m5\u001b[39m)\n\u001b[0;32m      9\u001b[0m a\u001b[38;5;241m.\u001b[39msub(\u001b[38;5;241m9\u001b[39m,\u001b[38;5;241m5\u001b[39m,\u001b[38;5;241m3\u001b[39m)\n",
      "\u001b[1;31mTypeError\u001b[0m: overloadingexmp.sub() missing 1 required positional argument: 'c'"
     ]
    }
   ],
   "source": [
    "#method overloading\n",
    "class overloadingexmp:\n",
    "    def sub(self,a,b):\n",
    "        print(a-b)\n",
    "    def sub(self,a,b,c):\n",
    "        print(a-b-c)\n",
    "a=overloadingexmp()\n",
    "a.sub(9,5,3)\n",
    "a.sub(9,5)"
   ]
  },
  {
   "cell_type": "markdown",
   "id": "e428e77a",
   "metadata": {},
   "source": [
    "##Note: Python does not support method overloading, this is because python always picks up the latest defined method. We can still overload methods in python but it would be of no use.\n",
    "However, you can implement method overloading in the above way in Java, C++, etc.\n",
    "• An alternative to performing method overloading in Python would be in this way:"
   ]
  },
  {
   "cell_type": "code",
   "execution_count": 9,
   "id": "90121e84",
   "metadata": {},
   "outputs": [
    {
     "name": "stdout",
     "output_type": "stream",
     "text": [
      "17\n",
      "19\n"
     ]
    }
   ],
   "source": [
    "class overloadingexmp:\n",
    "    def add(self,a,b):\n",
    "        print(a+b)\n",
    "    def add(self,a,b,c=5):\n",
    "        print(a+b+c)\n",
    "a=overloadingexmp()\n",
    "a.add(9,5,3)\n",
    "a.add(9,5)\n",
    "#Here we dont mention the function defination multyiple times.\n",
    "#Instead, we manipulate the arguments using the same method repeatedly."
   ]
  },
  {
   "cell_type": "code",
   "execution_count": 10,
   "id": "d476a21e",
   "metadata": {},
   "outputs": [
    {
     "name": "stdout",
     "output_type": "stream",
     "text": [
      "There are different types of bird\n",
      "Most of the birds can fly but some cannot\n",
      "Parrot can fly\n",
      "penguin do not fly\n"
     ]
    }
   ],
   "source": [
    "#Method overriding- Method overriding in Python is when you have two methods with the same name that each perform different \n",
    "#tasks. This is an important feature of inheritance in Python. In method overriding, the child class can change its functions \n",
    "#that are defined by its ancestral classes.\n",
    "class bird:\n",
    "    def intro(self):\n",
    "        print(\"There are different types of bird\")\n",
    "    def flight(self):\n",
    "        print(\"Most of the birds can fly but some cannot\")\n",
    "class parrot(bird):\n",
    "    def flight(self):\n",
    "        print(\"Parrot can fly\")\n",
    "class penguin(bird):\n",
    "    def flight(self):\n",
    "        print(\"penguin do not fly\")\n",
    "obj=bird()\n",
    "obj.intro()\n",
    "obj.flight()\n",
    "obj1=parrot()\n",
    "obj1.flight()\n",
    "obj2=penguin()\n",
    "obj2.flight()"
   ]
  },
  {
   "cell_type": "markdown",
   "id": "70518fba",
   "metadata": {},
   "source": [
    "9. what is operator overloading?\n",
    "• Operator Overloading means giving extended meaning beyond their predefined operational meaning. For example operator + is used \n",
    "to add two integers as well as join two strings and merge two lists. It is achievable because '+' operator is overloaded by \n",
    "int class and str class.\n",
    "You might have noticed that the same built-in operator or function shows different behavior for objects of different classes, \n",
    "this is called Operator Overloading."
   ]
  },
  {
   "cell_type": "code",
   "execution_count": null,
   "id": "b7f3c1a3",
   "metadata": {},
   "outputs": [],
   "source": [
    "# Python program to show use of\n",
    "# + operator for different purpose.\n",
    "\n",
    "print(1 + 2)\n",
    "\n",
    "#Concentrate two string\n",
    "print(\"data\"+ \"science\")\n",
    "\n",
    "#product two numbers\n",
    "print(3 * 4)\n",
    "\n",
    "#repeat the string\n",
    "print(\"Python\"*3)"
   ]
  },
  {
   "cell_type": "markdown",
   "id": "93a54e37",
   "metadata": {},
   "source": [
    "10. what is data abstraction?\n",
    "• If you are a user, and you have a problem statement, you don't want to know how the components of the software work, or how \n",
    "it's made. You only want to know how the software solves your problem\n",
    "• Abstraction is the method of hiding unnecessary details from the necessary ones. It is one of the main features of 00Ps.\n",
    "• For example, consider a car. You only need to know how to run a car, and not how the wires are connected inside it. \n",
    "This is obtained using Abstraction."
   ]
  },
  {
   "cell_type": "markdown",
   "id": "ab24005a",
   "metadata": {},
   "source": [
    "Abstraction in python:\n",
    "• 1)Abstract class: A class which contains one or more abstract methods is called an abstract class.\n",
    "• 2)Abstract method An abstract method is a method that has a declaration but does not have an implementation"
   ]
  },
  {
   "cell_type": "code",
   "execution_count": 30,
   "id": "d1fdb6ad",
   "metadata": {},
   "outputs": [
    {
     "name": "stdout",
     "output_type": "stream",
     "text": [
      "studying python\n"
     ]
    }
   ],
   "source": [
    "from abc import ABC, abstractclassmethod\n",
    "class my_class:   #concetre class\n",
    "    def study(self):\n",
    "        print(\"studying python\")\n",
    "obj1=my_class()\n",
    "obj1.study()"
   ]
  },
  {
   "cell_type": "code",
   "execution_count": 18,
   "id": "cba3dd4e",
   "metadata": {},
   "outputs": [
    {
     "ename": "TypeError",
     "evalue": "Can't instantiate abstract class my_class1 with abstract method mock",
     "output_type": "error",
     "traceback": [
      "\u001b[1;31m---------------------------------------------------------------------------\u001b[0m",
      "\u001b[1;31mTypeError\u001b[0m                                 Traceback (most recent call last)",
      "Cell \u001b[1;32mIn[18], line 10\u001b[0m\n\u001b[0;32m      6\u001b[0m     \u001b[38;5;129m@abstractclassmethod\u001b[39m\n\u001b[0;32m      7\u001b[0m     \u001b[38;5;28;01mdef\u001b[39;00m \u001b[38;5;21mmock\u001b[39m(\u001b[38;5;28mself\u001b[39m):\n\u001b[0;32m      8\u001b[0m         \u001b[38;5;28;01mpass\u001b[39;00m\n\u001b[1;32m---> 10\u001b[0m obj\u001b[38;5;241m=\u001b[39mmy_class1()\n\u001b[0;32m     11\u001b[0m obj\u001b[38;5;241m.\u001b[39mstudy()\n\u001b[0;32m     12\u001b[0m obj\u001b[38;5;241m.\u001b[39mmock()\n",
      "\u001b[1;31mTypeError\u001b[0m: Can't instantiate abstract class my_class1 with abstract method mock"
     ]
    }
   ],
   "source": [
    "class my_class1(ABC):\n",
    "    def study(self):\n",
    "        print(\"studying python\")\n",
    "        \n",
    "    @abstractclassmethod\n",
    "    def mock(self):\n",
    "        pass\n",
    "    \n",
    "obj=my_class1()\n",
    "obj.study()\n",
    "obj.mock()"
   ]
  },
  {
   "cell_type": "markdown",
   "id": "cfbdd171",
   "metadata": {},
   "source": [
    "Note:\n",
    "\n",
    "• we cant create or instantiate object of abstract class.\n",
    "\n",
    "•object can only be created for concrete class.\n",
    "\n",
    "• so to achive abstraction we need :\n",
    "\n",
    "• 1)Inherhit the ABC class for your base class to be abstract class\n",
    "\n",
    "•2)Create a method with no implementation and only declaration\n",
    "\n",
    "• 3)use a @abstractclassmethod decorator to make your method as abstract method"
   ]
  },
  {
   "cell_type": "code",
   "execution_count": 12,
   "id": "3247b5d6",
   "metadata": {},
   "outputs": [
    {
     "name": "stdout",
     "output_type": "stream",
     "text": [
      "doing mock to become DS\n",
      "enjoying the weekend to fullest\n"
     ]
    }
   ],
   "source": [
    "from abc import ABC, abstractclassmethod\n",
    "class myclass(ABC):  #abstract class\n",
    "    @abstractclassmethod\n",
    "    def study(self):\n",
    "        pass\n",
    "class student(myclass):\n",
    "    def missmock(self):\n",
    "        print(\"enjoying the weekend to fullest\")\n",
    "    \n",
    "    def mock(self):\n",
    "        print(\"doing mock to become DS\")\n",
    "    \n",
    "    def study(self):\n",
    "        pass\n",
    "    \n",
    "#o=myclass() \n",
    "#o.study()\n",
    "s1=student()\n",
    "s1.mock()\n",
    "s1.missmock()\n",
    "s1.study()"
   ]
  },
  {
   "cell_type": "code",
   "execution_count": 20,
   "id": "f8dded7e",
   "metadata": {},
   "outputs": [
    {
     "name": "stdout",
     "output_type": "stream",
     "text": [
      "hisssssing sound\n"
     ]
    }
   ],
   "source": [
    "class animal(ABC):  #abstract class\n",
    "    \n",
    "    def sleep(self):  #concrete method\n",
    "        print(\"I am going to sleep\")\n",
    "    \n",
    "    @abstractclassmethod\n",
    "    def sound(self):  #abstract method\n",
    "        pass\n",
    "    \n",
    "class snake(animal):\n",
    "    def sound(self):\n",
    "        print(\"hisssssing sound\")\n",
    "        super()\n",
    "        \n",
    "s=snake()\n",
    "s.sound()"
   ]
  },
  {
   "cell_type": "markdown",
   "id": "330c4ae2",
   "metadata": {},
   "source": [
    "13. Why abstraction is important?\n",
    "\n",
    "• Data Abstraction firstly saves a lot of our time as we do not have to repeat the code that may\n",
    "be the same for all the classes.\n",
    "\n",
    "• Moreover, if there are any additional features, they can be easily added, thus improving flexibility.\n",
    "\n",
    "• Not to mention, working in large teams becomes easier as one won't have to remember every function and the basic structure can be inherited without any confusions.\n",
    "\n",
    "• While we are designing large functional units we use an abstract class.\n",
    "\n",
    "• When we want to provide a common interface for different implementations of a component, we use an abstract class"
   ]
  },
  {
   "cell_type": "markdown",
   "id": "84fc4c8c",
   "metadata": {},
   "source": [
    "14. What are the types of class variables? there are three types of variables:\n",
    "\n",
    "    • 1)instence variable(object level variable)\n",
    "\n",
    "    • 2)static variable(class level variable)\n",
    "\n",
    "    • 3)local variable(method level variable)\n",
    "\n",
    "(1) instance variable: -when value of variable is changing from object to object then such variables are called instance \n",
    "    variable -declared within the methods or object\n",
    "\n",
    "(2) Statuc variable: -when value of variable is not changing from object to object then such variables are called static \n",
    "    variable -declared inside a class but ouside any method -we can call them using class name\n",
    "\n",
    "(3) Local variables: -a variable that is defined in a block is available only in that block.it is not accessible outside the \n",
    "    block"
   ]
  },
  {
   "cell_type": "code",
   "execution_count": 24,
   "id": "65451a84",
   "metadata": {},
   "outputs": [
    {
     "name": "stdout",
     "output_type": "stream",
     "text": [
      "MS dhoni\n",
      "the winner of ipl is:  RCB\n",
      "instance variable is:  MS dhoni\n"
     ]
    },
    {
     "data": {
      "text/plain": [
       "'India'"
      ]
     },
     "execution_count": 24,
     "metadata": {},
     "output_type": "execute_result"
    }
   ],
   "source": [
    "class cricket:\n",
    "    team=\"India\"  #static variable\n",
    "    \n",
    "    def __init__(self,name,jersey_no):\n",
    "        self.name=name\n",
    "        self.jersey=jersey_no   #instance variable\n",
    "        \n",
    "    def IPL(self):\n",
    "        x=\"RCB\"   #local variable\n",
    "        print(\"the winner of ipl is: \",x)\n",
    "        print(\"instance variable is: \",self.name)  #self.name instance variable\n",
    "\n",
    "obj=cricket(\"MS dhoni\",7)\n",
    "print(obj.name)\n",
    "obj.IPL()\n",
    "cricket.team"
   ]
  },
  {
   "attachments": {},
   "cell_type": "markdown",
   "id": "49c3dd96",
   "metadata": {},
   "source": [
    "# 15 what is Inheritance?\n",
    "\n",
    "• Python Inheritance Inheritance allows us to define a class that inherits all the methods and\n",
    "properties from another class.\n",
    "\n",
    "• Parent class is the class being inherited from, also called base class. also called Base class Child class is the class \n",
    "that inherits from another class, also called derived class. also called derived Class\n",
    "\n",
    "\n",
    "16. Types of inheritance\n",
    "\n",
    "• Single inheritance\n",
    "\n",
    "• Multiple inheritance\n",
    "\n",
    "• Multilevel inheritance\n",
    "\n",
    "• Hierarchical inheritance\n",
    "\n",
    "• Hybrid inheritance\n",
    "\n",
    "1)single inheritance- Single inheritance enables a derived class to inherit properties from a single parent class, thus \n",
    "enabling code reusability and the addition of new features to existing code."
   ]
  },
  {
   "cell_type": "code",
   "execution_count": 30,
   "id": "795216d5",
   "metadata": {},
   "outputs": [
    {
     "name": "stdout",
     "output_type": "stream",
     "text": [
      "feature 1 is working\n",
      "feature 2 is working\n"
     ]
    }
   ],
   "source": [
    "class A:\n",
    "    def feature1(self):\n",
    "        print(\"feature 1 is working\")\n",
    "    def feature2(self):\n",
    "        print(\"feature 2 is working\")\n",
    "        \n",
    "class B(A):\n",
    "    def feature3(self):\n",
    "        print(\"Feature 3 is working\")\n",
    "    def feature4(self):\n",
    "        print(\"feature 4 is working\")\n",
    "b=B()\n",
    "b.feature1()\n",
    "b.feature2()"
   ]
  },
  {
   "cell_type": "markdown",
   "id": "6fa1539f",
   "metadata": {},
   "source": [
    "2) Multiple inheritance When a class can be derived from more than one base class this type of inheritance is called multiple \n",
    "inheritances. In multiple inheritances, all the features of the base classes are inherited into the derived class."
   ]
  },
  {
   "cell_type": "code",
   "execution_count": null,
   "id": "079513d1",
   "metadata": {},
   "outputs": [],
   "source": []
  }
 ],
 "metadata": {
  "kernelspec": {
   "display_name": "Python 3 (ipykernel)",
   "language": "python",
   "name": "python3"
  },
  "language_info": {
   "codemirror_mode": {
    "name": "ipython",
    "version": 3
   },
   "file_extension": ".py",
   "mimetype": "text/x-python",
   "name": "python",
   "nbconvert_exporter": "python",
   "pygments_lexer": "ipython3",
   "version": "3.11.4"
  }
 },
 "nbformat": 4,
 "nbformat_minor": 5
}
