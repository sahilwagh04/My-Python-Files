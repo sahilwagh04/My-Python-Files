{
 "cells": [
  {
   "cell_type": "markdown",
   "id": "b56c7c08",
   "metadata": {},
   "source": [
    "## Import complex math module"
   ]
  },
  {
   "cell_type": "code",
   "execution_count": 2,
   "id": "08295294",
   "metadata": {},
   "outputs": [],
   "source": [
    "import cmath"
   ]
  },
  {
   "cell_type": "code",
   "execution_count": 3,
   "id": "cd36fe9d",
   "metadata": {},
   "outputs": [
    {
     "name": "stdout",
     "output_type": "stream",
     "text": [
      "(-3+0j)\n",
      "(-2+0j)\n"
     ]
    }
   ],
   "source": [
    "a = 1\n",
    "b = 5\n",
    "c = 6\n",
    "d = (b**2)-(4*a*c)\n",
    "sol1 = (-b-cmath.sqrt(d))/(2*a)\n",
    "sol2 = (-b+cmath.sqrt(d))/(2*a)\n",
    "print(sol1)\n",
    "print(sol2)"
   ]
  },
  {
   "cell_type": "code",
   "execution_count": 4,
   "id": "1d507aea",
   "metadata": {},
   "outputs": [
    {
     "data": {
      "text/plain": [
       "0j"
      ]
     },
     "execution_count": 4,
     "metadata": {},
     "output_type": "execute_result"
    }
   ],
   "source": [
    "#Quadratic Equation \n",
    "1*sol1*sol1+5*sol1+6"
   ]
  },
  {
   "cell_type": "code",
   "execution_count": 5,
   "id": "97a20cf8",
   "metadata": {},
   "outputs": [
    {
     "name": "stdout",
     "output_type": "stream",
     "text": [
      "(-4+0j)\n",
      "(1+0j)\n"
     ]
    }
   ],
   "source": [
    "a = 1\n",
    "b = 3\n",
    "c = -4\n",
    "d = (b**2)-(4*a*c)\n",
    "sol1 = (-b-cmath.sqrt(d))/(2*a)\n",
    "sol2 = (-b+cmath.sqrt(d))/(2*a)\n",
    "print(sol1)\n",
    "print(sol2)"
   ]
  },
  {
   "cell_type": "code",
   "execution_count": null,
   "id": "80796b26",
   "metadata": {},
   "outputs": [],
   "source": []
  }
 ],
 "metadata": {
  "kernelspec": {
   "display_name": "Python 3 (ipykernel)",
   "language": "python",
   "name": "python3"
  },
  "language_info": {
   "codemirror_mode": {
    "name": "ipython",
    "version": 3
   },
   "file_extension": ".py",
   "mimetype": "text/x-python",
   "name": "python",
   "nbconvert_exporter": "python",
   "pygments_lexer": "ipython3",
   "version": "3.11.4"
  }
 },
 "nbformat": 4,
 "nbformat_minor": 5
}
