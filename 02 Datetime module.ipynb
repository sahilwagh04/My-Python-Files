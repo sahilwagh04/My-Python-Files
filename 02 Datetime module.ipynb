{
 "cells": [
  {
   "cell_type": "markdown",
   "id": "f35de798",
   "metadata": {},
   "source": [
    "## Print current Date and Time"
   ]
  },
  {
   "cell_type": "code",
   "execution_count": 1,
   "id": "2f38717b",
   "metadata": {},
   "outputs": [],
   "source": [
    "import datetime as dt"
   ]
  },
  {
   "cell_type": "code",
   "execution_count": 2,
   "id": "fd28ff2f",
   "metadata": {},
   "outputs": [
    {
     "name": "stdout",
     "output_type": "stream",
     "text": [
      "current date and time is  2023-09-05 11:47:33.998628\n"
     ]
    }
   ],
   "source": [
    "current_datetime= dt.datetime.now()\n",
    "print(\"current date and time is \",current_datetime)"
   ]
  },
  {
   "cell_type": "markdown",
   "id": "0d98c13f",
   "metadata": {},
   "source": [
    "## Change format"
   ]
  },
  {
   "cell_type": "code",
   "execution_count": 3,
   "id": "9e346e57",
   "metadata": {},
   "outputs": [
    {
     "name": "stdout",
     "output_type": "stream",
     "text": [
      "05-09-2023 11:47:33\n"
     ]
    }
   ],
   "source": [
    "print(current_datetime.strftime(\"%d-%m-%Y %H:%M:%S\"))"
   ]
  },
  {
   "cell_type": "markdown",
   "id": "5a796630",
   "metadata": {},
   "source": [
    "## To get version of Python"
   ]
  },
  {
   "cell_type": "code",
   "execution_count": 1,
   "id": "89ec64c4",
   "metadata": {},
   "outputs": [
    {
     "name": "stdout",
     "output_type": "stream",
     "text": [
      "Version of python is  3.11.4 | packaged by Anaconda, Inc. | (main, Jul  5 2023, 13:38:37) [MSC v.1916 64 bit (AMD64)]\n"
     ]
    }
   ],
   "source": [
    "import sys\n",
    "print(\"Version of python is \",sys.version)"
   ]
  },
  {
   "cell_type": "code",
   "execution_count": 6,
   "id": "abd53e46",
   "metadata": {},
   "outputs": [
    {
     "name": "stdout",
     "output_type": "stream",
     "text": [
      "Python 3.11.3\n"
     ]
    }
   ],
   "source": [
    "!python --version"
   ]
  }
 ],
 "metadata": {
  "kernelspec": {
   "display_name": "Python 3 (ipykernel)",
   "language": "python",
   "name": "python3"
  },
  "language_info": {
   "codemirror_mode": {
    "name": "ipython",
    "version": 3
   },
   "file_extension": ".py",
   "mimetype": "text/x-python",
   "name": "python",
   "nbconvert_exporter": "python",
   "pygments_lexer": "ipython3",
   "version": "3.11.4"
  }
 },
 "nbformat": 4,
 "nbformat_minor": 5
}
