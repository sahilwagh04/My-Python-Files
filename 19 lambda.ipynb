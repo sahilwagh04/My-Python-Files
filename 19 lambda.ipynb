{
 "cells": [
  {
   "cell_type": "code",
   "execution_count": 1,
   "id": "490de546",
   "metadata": {},
   "outputs": [],
   "source": [
    "# lambda arguments:expression\n",
    "y = lambda x,y : x**y #one liner"
   ]
  },
  {
   "cell_type": "code",
   "execution_count": 3,
   "id": "4e89674b",
   "metadata": {},
   "outputs": [
    {
     "data": {
      "text/plain": [
       "25"
      ]
     },
     "execution_count": 3,
     "metadata": {},
     "output_type": "execute_result"
    }
   ],
   "source": [
    "y(5,2)"
   ]
  },
  {
   "cell_type": "code",
   "execution_count": 1,
   "id": "d3866f56",
   "metadata": {},
   "outputs": [],
   "source": [
    "c = lambda a,b : a+b"
   ]
  },
  {
   "cell_type": "code",
   "execution_count": 2,
   "id": "a80e4bf1",
   "metadata": {},
   "outputs": [
    {
     "data": {
      "text/plain": [
       "6"
      ]
     },
     "execution_count": 2,
     "metadata": {},
     "output_type": "execute_result"
    }
   ],
   "source": [
    "c(2,4)"
   ]
  },
  {
   "cell_type": "code",
   "execution_count": 6,
   "id": "587272a5",
   "metadata": {},
   "outputs": [],
   "source": [
    "a = lambda a : a+10"
   ]
  },
  {
   "cell_type": "code",
   "execution_count": 7,
   "id": "379a6b8a",
   "metadata": {},
   "outputs": [
    {
     "data": {
      "text/plain": [
       "11"
      ]
     },
     "execution_count": 7,
     "metadata": {},
     "output_type": "execute_result"
    }
   ],
   "source": [
    "a(1)"
   ]
  },
  {
   "cell_type": "code",
   "execution_count": 20,
   "id": "3687a5e0",
   "metadata": {},
   "outputs": [
    {
     "name": "stdout",
     "output_type": "stream",
     "text": [
      "10\n",
      "18\n",
      "12\n"
     ]
    }
   ],
   "source": [
    "def f1(n):\n",
    "    return lambda a :a*n\n",
    "double=f1(2)\n",
    "print(double(5))  #lambda\n",
    "triplet=f1(3)\n",
    "print(triplet(6))\n",
    "fourtimes=f1(4)\n",
    "print(fourtimes(3))"
   ]
  },
  {
   "cell_type": "code",
   "execution_count": null,
   "id": "9b29fde5",
   "metadata": {},
   "outputs": [],
   "source": []
  }
 ],
 "metadata": {
  "kernelspec": {
   "display_name": "Python 3 (ipykernel)",
   "language": "python",
   "name": "python3"
  },
  "language_info": {
   "codemirror_mode": {
    "name": "ipython",
    "version": 3
   },
   "file_extension": ".py",
   "mimetype": "text/x-python",
   "name": "python",
   "nbconvert_exporter": "python",
   "pygments_lexer": "ipython3",
   "version": "3.11.4"
  }
 },
 "nbformat": 4,
 "nbformat_minor": 5
}
