{
 "cells": [
  {
   "cell_type": "code",
   "execution_count": 1,
   "id": "6d154aaa",
   "metadata": {},
   "outputs": [
    {
     "name": "stdout",
     "output_type": "stream",
     "text": [
      "20\n"
     ]
    }
   ],
   "source": [
    "#Syntax error\n",
    "a=20\n",
    "\n",
    "if a>10:\n",
    "    print(a)"
   ]
  },
  {
   "cell_type": "code",
   "execution_count": 2,
   "id": "9973b01f",
   "metadata": {},
   "outputs": [
    {
     "ename": "ZeroDivisionError",
     "evalue": "division by zero",
     "output_type": "error",
     "traceback": [
      "\u001b[1;31m---------------------------------------------------------------------------\u001b[0m",
      "\u001b[1;31mZeroDivisionError\u001b[0m                         Traceback (most recent call last)",
      "Cell \u001b[1;32mIn[2], line 5\u001b[0m\n\u001b[0;32m      2\u001b[0m b\u001b[38;5;241m=\u001b[39m\u001b[38;5;241m0\u001b[39m\n\u001b[0;32m      4\u001b[0m \u001b[38;5;28;01mif\u001b[39;00m a\u001b[38;5;241m>\u001b[39m\u001b[38;5;241m10\u001b[39m:\n\u001b[1;32m----> 5\u001b[0m     a\u001b[38;5;241m/\u001b[39mb\n",
      "\u001b[1;31mZeroDivisionError\u001b[0m: division by zero"
     ]
    }
   ],
   "source": [
    "a=20\n",
    "b=0\n",
    "\n",
    "if a>10:\n",
    "    a/b"
   ]
  },
  {
   "cell_type": "code",
   "execution_count": 7,
   "id": "528cf4fc",
   "metadata": {},
   "outputs": [
    {
     "ename": "ModuleNotFoundError",
     "evalue": "No module named 'panda'",
     "output_type": "error",
     "traceback": [
      "\u001b[1;31m---------------------------------------------------------------------------\u001b[0m",
      "\u001b[1;31mModuleNotFoundError\u001b[0m                       Traceback (most recent call last)",
      "Cell \u001b[1;32mIn[7], line 1\u001b[0m\n\u001b[1;32m----> 1\u001b[0m \u001b[38;5;28;01mimport\u001b[39;00m \u001b[38;5;21;01mpanda\u001b[39;00m\n",
      "\u001b[1;31mModuleNotFoundError\u001b[0m: No module named 'panda'"
     ]
    }
   ],
   "source": [
    "import panda"
   ]
  },
  {
   "cell_type": "code",
   "execution_count": 8,
   "id": "dd8e2e20",
   "metadata": {},
   "outputs": [
    {
     "ename": "ModuleNotFoundError",
     "evalue": "No module named 'pytorch'",
     "output_type": "error",
     "traceback": [
      "\u001b[1;31m---------------------------------------------------------------------------\u001b[0m",
      "\u001b[1;31mModuleNotFoundError\u001b[0m                       Traceback (most recent call last)",
      "Cell \u001b[1;32mIn[8], line 1\u001b[0m\n\u001b[1;32m----> 1\u001b[0m \u001b[38;5;28;01mimport\u001b[39;00m \u001b[38;5;21;01mpytorch\u001b[39;00m\n",
      "\u001b[1;31mModuleNotFoundError\u001b[0m: No module named 'pytorch'"
     ]
    }
   ],
   "source": [
    "import pytorch\n",
    "\n",
    "# logical error becoz i havent installed teh lib or module"
   ]
  },
  {
   "cell_type": "code",
   "execution_count": 9,
   "id": "8a21ce70",
   "metadata": {},
   "outputs": [
    {
     "name": "stdout",
     "output_type": "stream",
     "text": [
      "**#\n",
      "**12\n",
      "*6*\n"
     ]
    },
    {
     "ename": "ZeroDivisionError",
     "evalue": "division by zero",
     "output_type": "error",
     "traceback": [
      "\u001b[1;31m---------------------------------------------------------------------------\u001b[0m",
      "\u001b[1;31mZeroDivisionError\u001b[0m                         Traceback (most recent call last)",
      "Cell \u001b[1;32mIn[9], line 6\u001b[0m\n\u001b[0;32m      4\u001b[0m \u001b[38;5;28mprint\u001b[39m(\u001b[38;5;124m\"\u001b[39m\u001b[38;5;124m**12\u001b[39m\u001b[38;5;124m\"\u001b[39m)\n\u001b[0;32m      5\u001b[0m \u001b[38;5;28mprint\u001b[39m(\u001b[38;5;124m\"\u001b[39m\u001b[38;5;124m*6*\u001b[39m\u001b[38;5;124m\"\u001b[39m)\n\u001b[1;32m----> 6\u001b[0m \u001b[38;5;241m1\u001b[39m\u001b[38;5;241m/\u001b[39m\u001b[38;5;241m0\u001b[39m\n\u001b[0;32m      7\u001b[0m \u001b[38;5;28mprint\u001b[39m(\u001b[38;5;124m\"\u001b[39m\u001b[38;5;124m**+\u001b[39m\u001b[38;5;124m\"\u001b[39m)\n",
      "\u001b[1;31mZeroDivisionError\u001b[0m: division by zero"
     ]
    }
   ],
   "source": [
    "#Exceptions in Python\n",
    "\n",
    "print(\"**#\")\n",
    "print(\"**12\")\n",
    "print(\"*6*\")\n",
    "1/0\n",
    "print(\"**+\")"
   ]
  },
  {
   "cell_type": "code",
   "execution_count": null,
   "id": "ac725061",
   "metadata": {},
   "outputs": [],
   "source": []
  },
  {
   "cell_type": "code",
   "execution_count": 15,
   "id": "6a91bfdd",
   "metadata": {},
   "outputs": [
    {
     "name": "stdout",
     "output_type": "stream",
     "text": [
      "['ArithmeticError', 'AssertionError', 'AttributeError', 'BaseException', 'BaseExceptionGroup', 'BlockingIOError', 'BrokenPipeError', 'BufferError', 'BytesWarning', 'ChildProcessError', 'ConnectionAbortedError', 'ConnectionError', 'ConnectionRefusedError', 'ConnectionResetError', 'DeprecationWarning', 'EOFError', 'Ellipsis', 'EncodingWarning', 'EnvironmentError', 'Exception', 'ExceptionGroup', 'False', 'FileExistsError', 'FileNotFoundError', 'FloatingPointError', 'FutureWarning', 'GeneratorExit', 'IOError', 'ImportError', 'ImportWarning', 'IndentationError', 'IndexError', 'InterruptedError', 'IsADirectoryError', 'KeyError', 'KeyboardInterrupt', 'LookupError', 'MemoryError', 'ModuleNotFoundError', 'NameError', 'None', 'NotADirectoryError', 'NotImplemented', 'NotImplementedError', 'OSError', 'OverflowError', 'PendingDeprecationWarning', 'PermissionError', 'ProcessLookupError', 'RecursionError', 'ReferenceError', 'ResourceWarning', 'RuntimeError', 'RuntimeWarning', 'StopAsyncIteration', 'StopIteration', 'SyntaxError', 'SyntaxWarning', 'SystemError', 'SystemExit', 'TabError', 'TimeoutError', 'True', 'TypeError', 'UnboundLocalError', 'UnicodeDecodeError', 'UnicodeEncodeError', 'UnicodeError', 'UnicodeTranslateError', 'UnicodeWarning', 'UserWarning', 'ValueError', 'Warning', 'WindowsError', 'ZeroDivisionError', '__IPYTHON__', '__build_class__', '__debug__', '__doc__', '__import__', '__loader__', '__name__', '__package__', '__spec__', 'abs', 'aiter', 'all', 'anext', 'any', 'ascii', 'bin', 'bool', 'breakpoint', 'bytearray', 'bytes', 'callable', 'chr', 'classmethod', 'compile', 'complex', 'copyright', 'credits', 'delattr', 'dict', 'dir', 'display', 'divmod', 'enumerate', 'eval', 'exec', 'execfile', 'filter', 'float', 'format', 'frozenset', 'get_ipython', 'getattr', 'globals', 'hasattr', 'hash', 'help', 'hex', 'id', 'input', 'int', 'isinstance', 'issubclass', 'iter', 'len', 'license', 'list', 'locals', 'map', 'max', 'memoryview', 'min', 'next', 'object', 'oct', 'open', 'ord', 'pow', 'print', 'property', 'range', 'repr', 'reversed', 'round', 'runfile', 'set', 'setattr', 'slice', 'sorted', 'staticmethod', 'str', 'sum', 'super', 'tuple', 'type', 'vars', 'zip']\n"
     ]
    }
   ],
   "source": [
    "#to check inbulit error in python\n",
    "print(list(dir(locals()['__builtins__'])))"
   ]
  },
  {
   "cell_type": "code",
   "execution_count": null,
   "id": "a2db267c",
   "metadata": {},
   "outputs": [],
   "source": [
    "#syntax\n",
    "try:\n",
    "    code\n",
    "    \n",
    "except:"
   ]
  },
  {
   "cell_type": "code",
   "execution_count": null,
   "id": "29e3cd4c",
   "metadata": {},
   "outputs": [],
   "source": []
  },
  {
   "cell_type": "code",
   "execution_count": 17,
   "id": "898afa8d",
   "metadata": {},
   "outputs": [
    {
     "name": "stdout",
     "output_type": "stream",
     "text": [
      "**1\n",
      "***2\n",
      "**3\n",
      "**\n",
      "Something wrong happened please try after sometime\n"
     ]
    }
   ],
   "source": [
    "print(\"**1\")\n",
    "print(\"***2\")\n",
    "print(\"**3\")\n",
    "try:\n",
    "    print(\"**\")\n",
    "    a=1\n",
    "    b=0\n",
    "    a/b\n",
    "    print(\"**\")\n",
    "    print(\"**\")\n",
    "    print(\"**\")\n",
    "except:\n",
    "    print(\"Something wrong happened please try after sometime\")"
   ]
  },
  {
   "cell_type": "code",
   "execution_count": 21,
   "id": "5e93ec31",
   "metadata": {},
   "outputs": [
    {
     "name": "stdout",
     "output_type": "stream",
     "text": [
      "**1\n",
      "***2\n",
      "**3\n",
      "**\n",
      "*4*\n",
      "**5*\n",
      "*6*\n"
     ]
    }
   ],
   "source": [
    "print(\"**1\")\n",
    "print(\"***2\")\n",
    "print(\"**3\")\n",
    "\n",
    "print(\"**\")\n",
    "a=4\n",
    "b=2\n",
    "a/b\n",
    "\n",
    "print(\"*4*\")\n",
    "print(\"**5*\")\n",
    "print(\"*6*\")"
   ]
  },
  {
   "cell_type": "code",
   "execution_count": 30,
   "id": "8b0e9a86",
   "metadata": {},
   "outputs": [
    {
     "name": "stdout",
     "output_type": "stream",
     "text": [
      "Enter emailidiuiuiui\n",
      "Enter passwordsd d \n",
      "sahlwagh98@gmail.com\n",
      "sahil\n"
     ]
    }
   ],
   "source": [
    "userid =\"sahlwagh98@gmail.com\"\n",
    "password=\"sahil\"\n",
    "\n",
    "a=str(input(\"Enter emailid\"))\n",
    "b=str(input(\"Enter password\"))\n",
    "\n",
    "try:\n",
    "    userid == a\n",
    "    print(userid)\n",
    "    password == b\n",
    "    print(password)\n",
    "except:\n",
    "    print(\"Enter valid user id and password\")"
   ]
  },
  {
   "cell_type": "code",
   "execution_count": 32,
   "id": "1c761e79",
   "metadata": {},
   "outputs": [
    {
     "name": "stdout",
     "output_type": "stream",
     "text": [
      "**1\n",
      "**3\n",
      "***4\n",
      "something wrong happened, try after sometime\n",
      "**6\n",
      "**7\n",
      "***5\n"
     ]
    }
   ],
   "source": [
    "print(\"**1\")\n",
    "print(\"**3\")\n",
    "print(\"***4\")\n",
    "try:\n",
    "    a=1\n",
    "    b=0\n",
    "    a/b\n",
    "    print(\"**3\")\n",
    "    print(\"**23\")\n",
    "    print(\"***56\")\n",
    "except:\n",
    "    print(\"something wrong happened, try after sometime\")\n",
    "    print(\"**6\")\n",
    "    print(\"**7\")\n",
    "    print(\"***5\")"
   ]
  },
  {
   "cell_type": "code",
   "execution_count": null,
   "id": "c95c703f",
   "metadata": {},
   "outputs": [],
   "source": [
    "print(\"**1\")\n",
    "print(\"***2\")\n",
    "print(\"**3\")\n",
    "try:\n",
    "    print(\"**\")\n",
    "    a=1\n",
    "    b=0\n",
    "    a/b\n",
    "    print(\"**\")\n",
    "    print(\"**\")\n",
    "    print(\"**\")\n",
    "    \n",
    "    \n",
    "except:\n",
    "    pass\n",
    "    \n",
    "print(\"*4*\")\n",
    "print(\"**5\")\n",
    "print(\"*6*\")"
   ]
  },
  {
   "cell_type": "markdown",
   "id": "16c9878c",
   "metadata": {},
   "source": [
    "python built-in exceptions"
   ]
  },
  {
   "cell_type": "code",
   "execution_count": 34,
   "id": "6c69dcc4",
   "metadata": {},
   "outputs": [],
   "source": [
    "if a>b:\n",
    "    pass"
   ]
  },
  {
   "cell_type": "code",
   "execution_count": 35,
   "id": "5b8ea28c",
   "metadata": {},
   "outputs": [
    {
     "ename": "ZeroDivisionError",
     "evalue": "division by zero",
     "output_type": "error",
     "traceback": [
      "\u001b[1;31m---------------------------------------------------------------------------\u001b[0m",
      "\u001b[1;31mZeroDivisionError\u001b[0m                         Traceback (most recent call last)",
      "Cell \u001b[1;32mIn[35], line 3\u001b[0m\n\u001b[0;32m      1\u001b[0m a\u001b[38;5;241m=\u001b[39m\u001b[38;5;241m1\u001b[39m\n\u001b[0;32m      2\u001b[0m b\u001b[38;5;241m=\u001b[39m\u001b[38;5;241m0\u001b[39m\n\u001b[1;32m----> 3\u001b[0m c\u001b[38;5;241m=\u001b[39ma\u001b[38;5;241m/\u001b[39mb\n\u001b[0;32m      4\u001b[0m \u001b[38;5;28mprint\u001b[39m(c)\n",
      "\u001b[1;31mZeroDivisionError\u001b[0m: division by zero"
     ]
    }
   ],
   "source": [
    "a=1\n",
    "b=0\n",
    "c=a/b\n",
    "print(c)"
   ]
  },
  {
   "cell_type": "code",
   "execution_count": 40,
   "id": "cd7f42a9",
   "metadata": {},
   "outputs": [
    {
     "ename": "TypeError",
     "evalue": "can only concatenate str (not \"int\") to str",
     "output_type": "error",
     "traceback": [
      "\u001b[1;31m---------------------------------------------------------------------------\u001b[0m",
      "\u001b[1;31mTypeError\u001b[0m                                 Traceback (most recent call last)",
      "Cell \u001b[1;32mIn[40], line 4\u001b[0m\n\u001b[0;32m      1\u001b[0m a\u001b[38;5;241m=\u001b[39m\u001b[38;5;124m\"\u001b[39m\u001b[38;5;124mas\u001b[39m\u001b[38;5;124m\"\u001b[39m\n\u001b[0;32m      2\u001b[0m b\u001b[38;5;241m=\u001b[39m\u001b[38;5;241m2\u001b[39m\n\u001b[1;32m----> 4\u001b[0m a\u001b[38;5;241m+\u001b[39mb\n",
      "\u001b[1;31mTypeError\u001b[0m: can only concatenate str (not \"int\") to str"
     ]
    }
   ],
   "source": [
    "a=\"as\"\n",
    "b=2\n",
    "\n",
    "a+b"
   ]
  },
  {
   "cell_type": "code",
   "execution_count": 54,
   "id": "6e31b9f0",
   "metadata": {},
   "outputs": [
    {
     "name": "stdout",
     "output_type": "stream",
     "text": [
      "can only concatenate str (not \"int\") to str <class 'TypeError'>\n"
     ]
    }
   ],
   "source": [
    "try:\n",
    "    a=\"as\"\n",
    "    b=1\n",
    "    a+b\n",
    "except Exception as Ex: \n",
    "    print(Ex,type(Ex))"
   ]
  },
  {
   "cell_type": "code",
   "execution_count": 55,
   "id": "9ffe00e1",
   "metadata": {},
   "outputs": [
    {
     "name": "stdout",
     "output_type": "stream",
     "text": [
      "Please add str to str and int to int\n"
     ]
    }
   ],
   "source": [
    "try:\n",
    "    a=\"as\"\n",
    "    b=1\n",
    "    a+b\n",
    "except:\n",
    "    print(\"Please add str to str and int to int\")"
   ]
  },
  {
   "cell_type": "code",
   "execution_count": 63,
   "id": "afc76760",
   "metadata": {},
   "outputs": [
    {
     "name": "stdout",
     "output_type": "stream",
     "text": [
      "Enter 1st number4\n",
      "Enter 2nd number0\n",
      "the error is division by zero and error name is <class 'ZeroDivisionError'>\n"
     ]
    }
   ],
   "source": [
    "try:\n",
    "    a=eval(input(\"Enter 1st number\"))\n",
    "    b=eval(input(\"Enter 2nd number\"))\n",
    "    c=a/b\n",
    "except Exception as Ex:\n",
    "    print(\"the error is\",Ex,\"and error name is\",type(Ex))"
   ]
  },
  {
   "cell_type": "code",
   "execution_count": 67,
   "id": "331ccfb3",
   "metadata": {},
   "outputs": [
    {
     "ename": "ValueError",
     "evalue": "invalid literal for int() with base 10: 'a'",
     "output_type": "error",
     "traceback": [
      "\u001b[1;31m---------------------------------------------------------------------------\u001b[0m",
      "\u001b[1;31mValueError\u001b[0m                                Traceback (most recent call last)",
      "Cell \u001b[1;32mIn[67], line 1\u001b[0m\n\u001b[1;32m----> 1\u001b[0m \u001b[38;5;28mint\u001b[39m(\u001b[38;5;124m\"\u001b[39m\u001b[38;5;124ma\u001b[39m\u001b[38;5;124m\"\u001b[39m)\n",
      "\u001b[1;31mValueError\u001b[0m: invalid literal for int() with base 10: 'a'"
     ]
    }
   ],
   "source": [
    "int(\"a\")"
   ]
  },
  {
   "cell_type": "code",
   "execution_count": 68,
   "id": "42a0bdf2",
   "metadata": {},
   "outputs": [
    {
     "data": {
      "text/plain": [
       "1"
      ]
     },
     "execution_count": 68,
     "metadata": {},
     "output_type": "execute_result"
    }
   ],
   "source": [
    "int(\"1\")"
   ]
  },
  {
   "cell_type": "code",
   "execution_count": 69,
   "id": "6f7a01f7",
   "metadata": {},
   "outputs": [
    {
     "name": "stdout",
     "output_type": "stream",
     "text": [
      "Enter the num4\n",
      "Enter the denominator0\n",
      "The program crashed because of this error:  division by zero\n",
      "Enter a non-zero denom value to proceed\n",
      "Enter the num2\n",
      "Enter the denominator2\n",
      "1.0\n"
     ]
    }
   ],
   "source": [
    "def division_check():\n",
    "    try:\n",
    "        a=int(input(\"Enter the num\"))\n",
    "        b=int(input(\"Enter the denominator\"))\n",
    "        c=a/b\n",
    "        print(c)\n",
    "        \n",
    "    except Exception as ex1:\n",
    "        print(\"The program crashed because of this error: \",ex1)\n",
    "        print(\"Enter a non-zero denom value to proceed\")\n",
    "        division_check()    #recurssion function\n",
    "\n",
    "division_check()"
   ]
  },
  {
   "cell_type": "code",
   "execution_count": 4,
   "id": "5a4ad986",
   "metadata": {},
   "outputs": [
    {
     "ename": "IndentationError",
     "evalue": "expected an indented block after 'if' statement on line 1 (4187842639.py, line 2)",
     "output_type": "error",
     "traceback": [
      "\u001b[1;36m  Cell \u001b[1;32mIn[4], line 2\u001b[1;36m\u001b[0m\n\u001b[1;33m    pass\u001b[0m\n\u001b[1;37m    ^\u001b[0m\n\u001b[1;31mIndentationError\u001b[0m\u001b[1;31m:\u001b[0m expected an indented block after 'if' statement on line 1\n"
     ]
    }
   ],
   "source": [
    "if a:\n",
    "pass"
   ]
  },
  {
   "cell_type": "code",
   "execution_count": 11,
   "id": "b68530b1",
   "metadata": {},
   "outputs": [
    {
     "name": "stdout",
     "output_type": "stream",
     "text": [
      "Enter the no: 5\n",
      "Enter the 2nd no: 0\n",
      "Error because of 0.  division by zero Please enter non-zero number in b\n"
     ]
    }
   ],
   "source": [
    "try:\n",
    "    a=eval(input(\"Enter the no: \"))\n",
    "    b=eval(input(\"Enter the 2nd no: \"))\n",
    "    c=a/b\n",
    "    \n",
    "except ZeroDivisionError as a:\n",
    "    print(\"Error because of 0. \",a,\"Please enter non-zero number in b\")\n",
    "\n",
    "except TypeError as t:\n",
    "    print(\"Error because you have entered string. \",t,\"Please enter int value in a and b\")\n",
    "    \n",
    "except SyntaxError as s:\n",
    "    print(\"\\nCheck syntax\",s,\"Please complete the string with : \\\"\")\n",
    "    \n",
    "except Exception as ex:\n",
    "    print(\"The Error is\",ex,\"and the error name is\",type(ex))"
   ]
  },
  {
   "cell_type": "code",
   "execution_count": 13,
   "id": "c521b540",
   "metadata": {},
   "outputs": [
    {
     "ename": "SyntaxError",
     "evalue": "unterminated string literal (detected at line 1) (1157085763.py, line 1)",
     "output_type": "error",
     "traceback": [
      "\u001b[1;36m  Cell \u001b[1;32mIn[13], line 1\u001b[1;36m\u001b[0m\n\u001b[1;33m    a=\"1\u001b[0m\n\u001b[1;37m      ^\u001b[0m\n\u001b[1;31mSyntaxError\u001b[0m\u001b[1;31m:\u001b[0m unterminated string literal (detected at line 1)\n"
     ]
    }
   ],
   "source": [
    "a=\"1\n",
    "b=0\n",
    "\n"
   ]
  },
  {
   "cell_type": "code",
   "execution_count": 15,
   "id": "2bcc69f6",
   "metadata": {},
   "outputs": [
    {
     "name": "stdout",
     "output_type": "stream",
     "text": [
      "division by zero\n"
     ]
    }
   ],
   "source": [
    "try:\n",
    "    \n",
    "    1/0\n",
    "    \n",
    "except ZeroDivisionError as msdhoni:\n",
    "    print(msdhoni)"
   ]
  },
  {
   "cell_type": "code",
   "execution_count": 17,
   "id": "5b44cf50",
   "metadata": {},
   "outputs": [
    {
     "name": "stdout",
     "output_type": "stream",
     "text": [
      "division by zero\n",
      "This is last line\n"
     ]
    }
   ],
   "source": [
    "#Python try with else clause\n",
    "try:\n",
    "    a=1\n",
    "    b=0\n",
    "    c=a/b\n",
    "    d=a*b\n",
    "    e=a+b\n",
    "    \n",
    "except Exception as ex:\n",
    "    print(ex)\n",
    "\n",
    "else:\n",
    "    print(a)\n",
    "    print(b)\n",
    "    print(c)\n",
    "    \n",
    "print(\"This is last line\")"
   ]
  },
  {
   "cell_type": "code",
   "execution_count": 18,
   "id": "23eae553",
   "metadata": {},
   "outputs": [
    {
     "ename": "SyntaxError",
     "evalue": "invalid syntax (2221355745.py, line 16)",
     "output_type": "error",
     "traceback": [
      "\u001b[1;36m  Cell \u001b[1;32mIn[18], line 16\u001b[1;36m\u001b[0m\n\u001b[1;33m    -\u001b[0m\n\u001b[1;37m     ^\u001b[0m\n\u001b[1;31mSyntaxError\u001b[0m\u001b[1;31m:\u001b[0m invalid syntax\n"
     ]
    }
   ],
   "source": [
    "try:\n",
    "    a=1\n",
    "    b=0\n",
    "    c=a/b\n",
    "    d=a*b\n",
    "    e=a+b\n",
    "    \n",
    "except Exception as ex:\n",
    "    print(ex)\n",
    "\n",
    "else:\n",
    "    print(a)\n",
    "    print(b)\n",
    "    print(c)\n",
    "    \n",
    "-"
   ]
  },
  {
   "cell_type": "code",
   "execution_count": null,
   "id": "93c4c438",
   "metadata": {},
   "outputs": [],
   "source": [
    "#Python try...finally\n",
    "\n",
    "try:\n",
    "    f=open(\"my.txt\",mode=\"r\")\n",
    "    f.read()\n",
    "    \n",
    "#  operation\n",
    "\n",
    "finally:\n",
    "    f.close()"
   ]
  },
  {
   "cell_type": "code",
   "execution_count": 21,
   "id": "0c30a541",
   "metadata": {},
   "outputs": [
    {
     "ename": "FileNotFoundError",
     "evalue": "[Errno 2] No such file or directory: 'my.txt'",
     "output_type": "error",
     "traceback": [
      "\u001b[1;31m---------------------------------------------------------------------------\u001b[0m",
      "\u001b[1;31mFileNotFoundError\u001b[0m                         Traceback (most recent call last)",
      "Cell \u001b[1;32mIn[21], line 1\u001b[0m\n\u001b[1;32m----> 1\u001b[0m f\u001b[38;5;241m=\u001b[39m\u001b[38;5;28mopen\u001b[39m(\u001b[38;5;124m\"\u001b[39m\u001b[38;5;124mmy.txt\u001b[39m\u001b[38;5;124m\"\u001b[39m,mode\u001b[38;5;241m=\u001b[39m\u001b[38;5;124m\"\u001b[39m\u001b[38;5;124mr\u001b[39m\u001b[38;5;124m\"\u001b[39m)\n\u001b[0;32m      2\u001b[0m f\u001b[38;5;241m.\u001b[39mread()\n\u001b[0;32m      3\u001b[0m f\u001b[38;5;241m.\u001b[39mclose()\n",
      "File \u001b[1;32m~\\anaconda3\\Lib\\site-packages\\IPython\\core\\interactiveshell.py:284\u001b[0m, in \u001b[0;36m_modified_open\u001b[1;34m(file, *args, **kwargs)\u001b[0m\n\u001b[0;32m    277\u001b[0m \u001b[38;5;28;01mif\u001b[39;00m file \u001b[38;5;129;01min\u001b[39;00m {\u001b[38;5;241m0\u001b[39m, \u001b[38;5;241m1\u001b[39m, \u001b[38;5;241m2\u001b[39m}:\n\u001b[0;32m    278\u001b[0m     \u001b[38;5;28;01mraise\u001b[39;00m \u001b[38;5;167;01mValueError\u001b[39;00m(\n\u001b[0;32m    279\u001b[0m         \u001b[38;5;124mf\u001b[39m\u001b[38;5;124m\"\u001b[39m\u001b[38;5;124mIPython won\u001b[39m\u001b[38;5;124m'\u001b[39m\u001b[38;5;124mt let you open fd=\u001b[39m\u001b[38;5;132;01m{\u001b[39;00mfile\u001b[38;5;132;01m}\u001b[39;00m\u001b[38;5;124m by default \u001b[39m\u001b[38;5;124m\"\u001b[39m\n\u001b[0;32m    280\u001b[0m         \u001b[38;5;124m\"\u001b[39m\u001b[38;5;124mas it is likely to crash IPython. If you know what you are doing, \u001b[39m\u001b[38;5;124m\"\u001b[39m\n\u001b[0;32m    281\u001b[0m         \u001b[38;5;124m\"\u001b[39m\u001b[38;5;124myou can use builtins\u001b[39m\u001b[38;5;124m'\u001b[39m\u001b[38;5;124m open.\u001b[39m\u001b[38;5;124m\"\u001b[39m\n\u001b[0;32m    282\u001b[0m     )\n\u001b[1;32m--> 284\u001b[0m \u001b[38;5;28;01mreturn\u001b[39;00m io_open(file, \u001b[38;5;241m*\u001b[39margs, \u001b[38;5;241m*\u001b[39m\u001b[38;5;241m*\u001b[39mkwargs)\n",
      "\u001b[1;31mFileNotFoundError\u001b[0m: [Errno 2] No such file or directory: 'my.txt'"
     ]
    }
   ],
   "source": [
    "f=open(\"my.txt\",mode=\"r\")\n",
    "f.read()\n",
    "f.close()"
   ]
  },
  {
   "cell_type": "code",
   "execution_count": 25,
   "id": "d9af40c0",
   "metadata": {},
   "outputs": [
    {
     "name": "stdout",
     "output_type": "stream",
     "text": [
      "division by zero\n",
      "the code is complete\n"
     ]
    }
   ],
   "source": [
    "try:\n",
    "    a=1\n",
    "    b=0\n",
    "    c=a/b\n",
    "    d=a*b\n",
    "    e=a+b\n",
    "    \n",
    "\n",
    "    \n",
    "except Exception as ex:\n",
    "    print(ex)\n",
    "\n",
    "else:\n",
    "    print(a)\n",
    "    print(b)\n",
    "    print(c)\n",
    "    \n",
    "    \n",
    "finally:\n",
    "    print(\"the code is complete\")"
   ]
  },
  {
   "cell_type": "code",
   "execution_count": 1,
   "id": "73622035",
   "metadata": {},
   "outputs": [
    {
     "ename": "NameError",
     "evalue": "name 'number' is not defined",
     "output_type": "error",
     "traceback": [
      "\u001b[1;31m---------------------------------------------------------------------------\u001b[0m",
      "\u001b[1;31mNameError\u001b[0m                                 Traceback (most recent call last)",
      "Cell \u001b[1;32mIn[1], line 1\u001b[0m\n\u001b[1;32m----> 1\u001b[0m \u001b[38;5;28;01mclass\u001b[39;00m \u001b[38;5;21;01mnon_negative\u001b[39;00m(number):\n\u001b[0;32m      2\u001b[0m     \u001b[38;5;28;01mpass\u001b[39;00m\n",
      "\u001b[1;31mNameError\u001b[0m: name 'number' is not defined"
     ]
    }
   ],
   "source": [
    "class non_negative(number):\n",
    "    pass"
   ]
  },
  {
   "cell_type": "code",
   "execution_count": 3,
   "id": "42883ae1",
   "metadata": {},
   "outputs": [
    {
     "name": "stdout",
     "output_type": "stream",
     "text": [
      "Enter a positive number: -9\n"
     ]
    },
    {
     "ename": "NameError",
     "evalue": "name 'nonnegative' is not defined",
     "output_type": "error",
     "traceback": [
      "\u001b[1;31m---------------------------------------------------------------------------\u001b[0m",
      "\u001b[1;31mNameError\u001b[0m                                 Traceback (most recent call last)",
      "Cell \u001b[1;32mIn[3], line 3\u001b[0m\n\u001b[0;32m      1\u001b[0m a\u001b[38;5;241m=\u001b[39m\u001b[38;5;28mint\u001b[39m(\u001b[38;5;28minput\u001b[39m(\u001b[38;5;124m\"\u001b[39m\u001b[38;5;124mEnter a positive number: \u001b[39m\u001b[38;5;124m\"\u001b[39m))\n\u001b[0;32m      2\u001b[0m \u001b[38;5;28;01mif\u001b[39;00m a\u001b[38;5;241m<\u001b[39m\u001b[38;5;241m=\u001b[39m\u001b[38;5;241m0\u001b[39m:\n\u001b[1;32m----> 3\u001b[0m     \u001b[38;5;28;01mraise\u001b[39;00m nonnegative(\u001b[38;5;124m\"\u001b[39m\u001b[38;5;124mEnter a positive number\u001b[39m\u001b[38;5;124m\"\u001b[39m)\n",
      "\u001b[1;31mNameError\u001b[0m: name 'nonnegative' is not defined"
     ]
    }
   ],
   "source": [
    "a=int(input(\"Enter a positive number: \"))\n",
    "if a<=0:\n",
    "    raise nonegative(\"Enter a positive number\")"
   ]
  },
  {
   "cell_type": "code",
   "execution_count": 4,
   "id": "0fbd2874",
   "metadata": {},
   "outputs": [
    {
     "name": "stdout",
     "output_type": "stream",
     "text": [
      "Enter a positive number: -8\n",
      "name 'nonegative' is not defined\n"
     ]
    }
   ],
   "source": [
    "try:\n",
    "    a=int(input(\"Enter a positive number: \"))\n",
    "    if a<0:\n",
    "        raise nonegative(\"Not a positive num, enter a positive num\")\n",
    "\n",
    "except Exception as na:\n",
    "    print(na)"
   ]
  },
  {
   "cell_type": "code",
   "execution_count": 5,
   "id": "45c18e1c",
   "metadata": {},
   "outputs": [
    {
     "name": "stdout",
     "output_type": "stream",
     "text": [
      "Enter a positive number: -9\n"
     ]
    }
   ],
   "source": [
    "try:\n",
    "    a=int(input(\"Enter a positive number: \"))\n",
    "    if a<0:\n",
    "        pass\n",
    "except Exception as Ex:\n",
    "    print(Ex)"
   ]
  },
  {
   "cell_type": "code",
   "execution_count": 10,
   "id": "c380f7fd",
   "metadata": {},
   "outputs": [
    {
     "name": "stdout",
     "output_type": "stream",
     "text": [
      "Enter amount to withdraw: 5000\n",
      "your withdrawl is successful and your remainingbalance is 5000\n",
      "Thank You!!....visit again\n"
     ]
    }
   ],
   "source": [
    "class minbal(Exception):\n",
    "    pass\n",
    "\n",
    "try:\n",
    "    b=10000\n",
    "    a=int(input(\"Enter amount to withdraw: \"))\n",
    "    c=b-a\n",
    "    if c<2000:\n",
    "        raise minbal(\"your available amount is\",b,\"you can only withdraw=\",b-2000)\n",
    "                     \n",
    "except Exceptional as minbal:\n",
    "    print(minbal)\n",
    "                     \n",
    "else:\n",
    "    print(\"your withdrawl is successful and your remainingbalance is\",b-a)\n",
    "                     \n",
    "finally:\n",
    "    print(\"Thank You!!....visit again\")\n",
    "                     "
   ]
  },
  {
   "cell_type": "code",
   "execution_count": 20,
   "id": "4cb4b820",
   "metadata": {},
   "outputs": [
    {
     "name": "stdout",
     "output_type": "stream",
     "text": [
      "Enter the amount to withdraw: 7000\n",
      "You can withdraw successfully 2000\n",
      "Have a good day\n"
     ]
    }
   ],
   "source": [
    "class balanceexception(Exception):\n",
    "    pass\n",
    "def checkbalance():\n",
    "    money=10000\n",
    "    money_to_withdraw=int(input(\"Enter the amount to withdraw: \"))\n",
    "    balance=money-money_to_withdraw\n",
    "    if balance < 2000:\n",
    "        raise balanceexception(\"Insufficient Balance,you cannot withdraw\")\n",
    "        \n",
    "    return balance\n",
    "\n",
    "try:\n",
    "    checkbalance()\n",
    "    \n",
    "except balanceexception as be:\n",
    "    print(be)\n",
    "    \n",
    "else:\n",
    "    print(\"You can withdraw successfully\",balance)\n",
    "    \n",
    "finally:\n",
    "    print(\"Have a good day\")"
   ]
  },
  {
   "cell_type": "code",
   "execution_count": 24,
   "id": "7b391e38",
   "metadata": {},
   "outputs": [
    {
     "name": "stdout",
     "output_type": "stream",
     "text": [
      "Enter the amount to withdraw: 9000\n",
      "Insufficient Balance,you cannot withdraw\n",
      "Have a good day\n"
     ]
    }
   ],
   "source": [
    "class balanceexception(Exception):\n",
    "    pass\n",
    "\n",
    "\n",
    "try:\n",
    "    def checkbalance():\n",
    "        money=10000\n",
    "        money_to_withdraw=int(input(\"Enter the amount to withdraw: \"))\n",
    "        balance=money-money_to_withdraw\n",
    "        if balance < 2000:\n",
    "            raise balanceexception(\"Insufficient Balance,you cannot withdraw\")\n",
    "        \n",
    "            return balance\n",
    "    checkbalance()\n",
    "    \n",
    "except balanceexception as be:\n",
    "    print(be)\n",
    "    \n",
    "else:\n",
    "    print(\"You can withdraw successfully\",balance)\n",
    "    \n",
    "finally:\n",
    "    print(\"Have a good day\")"
   ]
  },
  {
   "cell_type": "code",
   "execution_count": null,
   "id": "9715a9ae",
   "metadata": {},
   "outputs": [],
   "source": []
  }
 ],
 "metadata": {
  "kernelspec": {
   "display_name": "Python 3 (ipykernel)",
   "language": "python",
   "name": "python3"
  },
  "language_info": {
   "codemirror_mode": {
    "name": "ipython",
    "version": 3
   },
   "file_extension": ".py",
   "mimetype": "text/x-python",
   "name": "python",
   "nbconvert_exporter": "python",
   "pygments_lexer": "ipython3",
   "version": "3.11.4"
  }
 },
 "nbformat": 4,
 "nbformat_minor": 5
}
