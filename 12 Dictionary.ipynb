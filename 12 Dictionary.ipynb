{
 "cells": [
  {
   "cell_type": "code",
   "execution_count": 24,
   "id": "9b8cc9b1",
   "metadata": {},
   "outputs": [
    {
     "name": "stdout",
     "output_type": "stream",
     "text": [
      "{'name': 'Jax', 'Age': 17}\n"
     ]
    }
   ],
   "source": [
    "Dog={'name':'Jax','Age':17}\n",
    "print(Dog)"
   ]
  },
  {
   "cell_type": "code",
   "execution_count": 25,
   "id": "565b2713",
   "metadata": {},
   "outputs": [
    {
     "name": "stdout",
     "output_type": "stream",
     "text": [
      "{'name': 'sahil', 'age': 24}\n"
     ]
    }
   ],
   "source": [
    "info={'name':'sahil','age':24}\n",
    "print(info)"
   ]
  },
  {
   "cell_type": "markdown",
   "id": "d383fc08",
   "metadata": {},
   "source": [
    "## Keys"
   ]
  },
  {
   "cell_type": "code",
   "execution_count": 26,
   "id": "ed9e27d5",
   "metadata": {},
   "outputs": [
    {
     "name": "stdout",
     "output_type": "stream",
     "text": [
      "{'name': 'Jax', 'Age': 15, 'colour': 'Brown'}\n"
     ]
    }
   ],
   "source": [
    "dog={'name':'Jax','Age':15,'colour':'Brown'}\n",
    "print(dog)"
   ]
  },
  {
   "cell_type": "code",
   "execution_count": 27,
   "id": "52f9ffa2",
   "metadata": {},
   "outputs": [
    {
     "name": "stdout",
     "output_type": "stream",
     "text": [
      "{'name': 'Jax', 'Age': 15, 'colour': 'Brown', 'weight': 90}\n"
     ]
    }
   ],
   "source": [
    "#Add an item\n",
    "dog['weight']=90\n",
    "print(dog)"
   ]
  },
  {
   "cell_type": "code",
   "execution_count": 28,
   "id": "1746a67e",
   "metadata": {},
   "outputs": [
    {
     "name": "stdout",
     "output_type": "stream",
     "text": [
      "{'name': 'Jax', 'Age': 20, 'colour': 'Brown', 'weight': 90}\n"
     ]
    }
   ],
   "source": [
    "#modify the value\n",
    "dog['Age']=20\n",
    "print(dog)"
   ]
  },
  {
   "cell_type": "code",
   "execution_count": 29,
   "id": "15925b31",
   "metadata": {},
   "outputs": [
    {
     "name": "stdout",
     "output_type": "stream",
     "text": [
      "4\n"
     ]
    }
   ],
   "source": [
    "#length of dictionary\n",
    "print(len(dog))"
   ]
  },
  {
   "cell_type": "code",
   "execution_count": 30,
   "id": "3a3d5982",
   "metadata": {},
   "outputs": [
    {
     "name": "stdout",
     "output_type": "stream",
     "text": [
      "dict_keys(['name', 'Age', 'colour', 'weight'])\n"
     ]
    }
   ],
   "source": [
    "#only Keys\n",
    "print(dog.keys())"
   ]
  },
  {
   "cell_type": "code",
   "execution_count": 31,
   "id": "ef32344b",
   "metadata": {},
   "outputs": [
    {
     "name": "stdout",
     "output_type": "stream",
     "text": [
      "dict_values(['Jax', 20, 'Brown', 90])\n"
     ]
    }
   ],
   "source": [
    "#only values\n",
    "print(dog.values())"
   ]
  },
  {
   "cell_type": "code",
   "execution_count": 32,
   "id": "248a8aa6",
   "metadata": {},
   "outputs": [
    {
     "name": "stdout",
     "output_type": "stream",
     "text": [
      "dict_items([('name', 'Jax'), ('Age', 20), ('colour', 'Brown'), ('weight', 90)])\n"
     ]
    }
   ],
   "source": [
    "#get items\n",
    "print(dog.items())"
   ]
  },
  {
   "cell_type": "markdown",
   "id": "ccecac4a",
   "metadata": {},
   "source": [
    "## Removing"
   ]
  },
  {
   "cell_type": "code",
   "execution_count": 33,
   "id": "e8d29c20",
   "metadata": {},
   "outputs": [
    {
     "name": "stdout",
     "output_type": "stream",
     "text": [
      "Brown\n"
     ]
    }
   ],
   "source": [
    "print(dog.pop('colour'))"
   ]
  },
  {
   "cell_type": "code",
   "execution_count": 34,
   "id": "b0ff5386",
   "metadata": {},
   "outputs": [
    {
     "name": "stdout",
     "output_type": "stream",
     "text": [
      "('weight', 90)\n"
     ]
    }
   ],
   "source": [
    "print(dog.popitem())"
   ]
  },
  {
   "cell_type": "code",
   "execution_count": 42,
   "id": "a7929e28",
   "metadata": {},
   "outputs": [],
   "source": [
    "dog={'name':'Jax','Age':15,'colour':'Brown'}\n",
    "del dog['name']"
   ]
  },
  {
   "cell_type": "code",
   "execution_count": 43,
   "id": "8d4545cd",
   "metadata": {},
   "outputs": [
    {
     "name": "stdout",
     "output_type": "stream",
     "text": [
      "{'Age': 15, 'colour': 'Brown'}\n"
     ]
    }
   ],
   "source": [
    "print(dog)"
   ]
  },
  {
   "cell_type": "code",
   "execution_count": 44,
   "id": "ed5f283d",
   "metadata": {},
   "outputs": [
    {
     "name": "stdout",
     "output_type": "stream",
     "text": [
      "{}\n"
     ]
    }
   ],
   "source": [
    "dog.clear()\n",
    "print(dog)"
   ]
  },
  {
   "cell_type": "code",
   "execution_count": null,
   "id": "c72b2618",
   "metadata": {},
   "outputs": [],
   "source": []
  }
 ],
 "metadata": {
  "kernelspec": {
   "display_name": "Python 3 (ipykernel)",
   "language": "python",
   "name": "python3"
  },
  "language_info": {
   "codemirror_mode": {
    "name": "ipython",
    "version": 3
   },
   "file_extension": ".py",
   "mimetype": "text/x-python",
   "name": "python",
   "nbconvert_exporter": "python",
   "pygments_lexer": "ipython3",
   "version": "3.11.4"
  }
 },
 "nbformat": 4,
 "nbformat_minor": 5
}
