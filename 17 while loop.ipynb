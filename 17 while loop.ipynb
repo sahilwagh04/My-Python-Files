{
 "cells": [
  {
   "cell_type": "markdown",
   "id": "50c91e3a",
   "metadata": {},
   "source": [
    "## Print numbers from 1 to 10 using while loop"
   ]
  },
  {
   "cell_type": "code",
   "execution_count": 2,
   "id": "c2937972",
   "metadata": {},
   "outputs": [
    {
     "name": "stdout",
     "output_type": "stream",
     "text": [
      "1\n",
      "2\n",
      "3\n",
      "4\n",
      "5\n",
      "6\n",
      "7\n",
      "8\n",
      "9\n",
      "10\n"
     ]
    }
   ],
   "source": [
    "i=1\n",
    "while i<11:\n",
    "    print(i)\n",
    "    i=i+1"
   ]
  },
  {
   "cell_type": "code",
   "execution_count": 6,
   "id": "55ef3a7b",
   "metadata": {},
   "outputs": [
    {
     "name": "stdout",
     "output_type": "stream",
     "text": [
      "1\n",
      "2\n",
      "3\n",
      "4\n",
      "5\n",
      "6\n",
      "7\n",
      "8\n",
      "9\n",
      "10\n"
     ]
    }
   ],
   "source": []
  },
  {
   "cell_type": "code",
   "execution_count": 11,
   "id": "bd3c528d",
   "metadata": {},
   "outputs": [
    {
     "name": "stdout",
     "output_type": "stream",
     "text": [
      "Enter amount of bill: \n",
      "100\n",
      "ENter the bill: \n",
      "200\n",
      "ENter the bill: \n",
      "0\n",
      "Sum is 300\n"
     ]
    }
   ],
   "source": [
    "print(\"Enter amount of bill: \")\n",
    "bill=int(input())\n",
    "sum=bill\n",
    "while bill!=0:\n",
    "    print(\"ENter the bill: \")\n",
    "    bill = int(input())\n",
    "    sum=sum+bill\n",
    "print(\"Sum is\",sum)"
   ]
  },
  {
   "cell_type": "code",
   "execution_count": 1,
   "id": "98256195",
   "metadata": {},
   "outputs": [
    {
     "name": "stdout",
     "output_type": "stream",
     "text": [
      "Enter vote\n",
      "q\n",
      "Alex: 0\n",
      "Manu:  0\n"
     ]
    }
   ],
   "source": [
    "vote = \"M\"\n",
    "\n",
    "mcount = 0\n",
    "acount = 0\n",
    "\n",
    "while vote!=\"q\":\n",
    "    print(\"Enter vote\")\n",
    "    vote = input()\n",
    "    if vote == \"M\":\n",
    "        mcount = mcount + 1\n",
    "    elif vote == \"A\":\n",
    "        acount = acount + 1\n",
    "\n",
    "print(\"Alex:\",acount)\n",
    "print(\"Manu: \",mcount)"
   ]
  },
  {
   "cell_type": "code",
   "execution_count": 5,
   "id": "df5e7f72",
   "metadata": {},
   "outputs": [
    {
     "name": "stdout",
     "output_type": "stream",
     "text": [
      "Enter your vote: m\n",
      "Enter your vote: m\n",
      "Enter your vote: m\n",
      "Enter your vote: m\n",
      "Enter your vote: m\n",
      "Enter your vote: a\n",
      "Enter your vote: a\n",
      "Enter your vote: q\n",
      "Alex vote is:  2\n",
      "Manu vote is:  5\n"
     ]
    }
   ],
   "source": [
    "a_count=0\n",
    "m_count=0\n",
    "vote=\"a\"\n",
    "while vote!=\"q\":\n",
    "    vote=input(\"Enter your vote: \")\n",
    "    if vote==\"a\":\n",
    "        a_count +=1\n",
    "    elif vote==\"m\":\n",
    "        m_count +=1\n",
    "print(\"Alex vote is: \",a_count)\n",
    "print(\"Manu vote is: \",m_count)"
   ]
  },
  {
   "cell_type": "markdown",
   "id": "ea95029d",
   "metadata": {},
   "source": [
    "## while loop in continue & break"
   ]
  },
  {
   "cell_type": "code",
   "execution_count": 8,
   "id": "93555ee1",
   "metadata": {},
   "outputs": [
    {
     "name": "stdout",
     "output_type": "stream",
     "text": [
      "Enter distance: \n",
      "1000\n",
      "Enter time: \n",
      "10\n",
      "Speed is:  100.0\n",
      "Do you want to continuey\n",
      "Enter distance: \n",
      "-100\n",
      "Invalid Distance\n",
      "Enter distance: \n",
      "1000\n",
      "Enter time: \n",
      "30\n",
      "Speed is:  33.333333333333336\n",
      "Do you want to continuen\n"
     ]
    }
   ],
   "source": [
    "ch = \"y\"\n",
    "\n",
    "while ch!=\"n\":\n",
    "    print(\"Enter distance: \")\n",
    "    dist=int(input())\n",
    "    if dist < 0:\n",
    "        print(\"Invalid Distance\")\n",
    "        continue\n",
    "    print(\"Enter time: \")\n",
    "    time = int(input())\n",
    "    speed = dist/time\n",
    "    print(\"Speed is: \",speed)\n",
    "    ch=input(\"Do you want to continue\")"
   ]
  },
  {
   "cell_type": "code",
   "execution_count": 9,
   "id": "4b35923a",
   "metadata": {},
   "outputs": [
    {
     "name": "stdout",
     "output_type": "stream",
     "text": [
      "Enter distance: \n",
      "1000\n",
      "Enter time: \n",
      "100\n",
      "Speed is:  10.0\n",
      "Do you want to continuey\n",
      "Enter distance: \n",
      "-1000\n",
      "Invalid Distance\n"
     ]
    }
   ],
   "source": [
    "ch = \"y\"\n",
    "\n",
    "while ch!=\"n\":\n",
    "    print(\"Enter distance: \")\n",
    "    dist=int(input())\n",
    "    if dist < 0:\n",
    "        print(\"Invalid Distance\")\n",
    "        break\n",
    "    print(\"Enter time: \")\n",
    "    time = int(input())\n",
    "    speed = dist/time\n",
    "    print(\"Speed is: \",speed)\n",
    "    ch=input(\"Do you want to continue\")"
   ]
  },
  {
   "cell_type": "code",
   "execution_count": null,
   "id": "d75b3a01",
   "metadata": {},
   "outputs": [],
   "source": []
  }
 ],
 "metadata": {
  "kernelspec": {
   "display_name": "Python 3 (ipykernel)",
   "language": "python",
   "name": "python3"
  },
  "language_info": {
   "codemirror_mode": {
    "name": "ipython",
    "version": 3
   },
   "file_extension": ".py",
   "mimetype": "text/x-python",
   "name": "python",
   "nbconvert_exporter": "python",
   "pygments_lexer": "ipython3",
   "version": "3.11.4"
  }
 },
 "nbformat": 4,
 "nbformat_minor": 5
}
