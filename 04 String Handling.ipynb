{
 "cells": [
  {
   "cell_type": "markdown",
   "id": "dbd27f0e",
   "metadata": {},
   "source": [
    "## String Operators"
   ]
  },
  {
   "cell_type": "markdown",
   "id": "5ba402c3",
   "metadata": {},
   "source": [
    "## The + Operator"
   ]
  },
  {
   "cell_type": "code",
   "execution_count": 3,
   "id": "02449502",
   "metadata": {},
   "outputs": [
    {
     "name": "stdout",
     "output_type": "stream",
     "text": [
      "Sahil Wagh\n"
     ]
    }
   ],
   "source": [
    "a = \"Sahil\"\n",
    "b=\"Wagh\"\n",
    "c=a+\" \"+b\n",
    "print(c)"
   ]
  },
  {
   "cell_type": "markdown",
   "id": "e212de8c",
   "metadata": {},
   "source": [
    "## The * Operator"
   ]
  },
  {
   "cell_type": "code",
   "execution_count": 5,
   "id": "c175e6e2",
   "metadata": {},
   "outputs": [
    {
     "name": "stdout",
     "output_type": "stream",
     "text": [
      "foo.foo.foo.foo.\n",
      "jiuiuii.jiuiuii.jiuiuii.jiuiuii.\n"
     ]
    }
   ],
   "source": [
    "s=\"foo.\"\n",
    "a=s*4\n",
    "print(a)\n",
    "\n",
    "b=\"jiuiuii.\"\n",
    "d=4*b\n",
    "print(d)"
   ]
  },
  {
   "cell_type": "code",
   "execution_count": 6,
   "id": "5a4bc915",
   "metadata": {},
   "outputs": [
    {
     "data": {
      "text/plain": [
       "True"
      ]
     },
     "execution_count": 6,
     "metadata": {},
     "output_type": "execute_result"
    }
   ],
   "source": [
    "s=\"foo\"\n",
    "s in \"That\\'s food for thought.\""
   ]
  },
  {
   "cell_type": "code",
   "execution_count": 7,
   "id": "03840256",
   "metadata": {},
   "outputs": [
    {
     "data": {
      "text/plain": [
       "True"
      ]
     },
     "execution_count": 7,
     "metadata": {},
     "output_type": "execute_result"
    }
   ],
   "source": [
    "s =\"foo\"\n",
    "v= \"That\\'s food for thought.\"\n",
    "s in v"
   ]
  },
  {
   "cell_type": "markdown",
   "id": "9b9f5801",
   "metadata": {},
   "source": [
    "## String Function"
   ]
  },
  {
   "cell_type": "code",
   "execution_count": 8,
   "id": "3cf954f3",
   "metadata": {},
   "outputs": [
    {
     "data": {
      "text/plain": [
       "'a'"
      ]
     },
     "execution_count": 8,
     "metadata": {},
     "output_type": "execute_result"
    }
   ],
   "source": [
    "chr(97)"
   ]
  },
  {
   "cell_type": "code",
   "execution_count": 9,
   "id": "bde05002",
   "metadata": {},
   "outputs": [
    {
     "data": {
      "text/plain": [
       "'L'"
      ]
     },
     "execution_count": 9,
     "metadata": {},
     "output_type": "execute_result"
    }
   ],
   "source": [
    "chr(76)"
   ]
  },
  {
   "cell_type": "code",
   "execution_count": 11,
   "id": "fcb4328f",
   "metadata": {},
   "outputs": [
    {
     "data": {
      "text/plain": [
       "97"
      ]
     },
     "execution_count": 11,
     "metadata": {},
     "output_type": "execute_result"
    }
   ],
   "source": [
    "ord(\"a\")"
   ]
  },
  {
   "cell_type": "code",
   "execution_count": 12,
   "id": "155845a2",
   "metadata": {},
   "outputs": [
    {
     "data": {
      "text/plain": [
       "3"
      ]
     },
     "execution_count": 12,
     "metadata": {},
     "output_type": "execute_result"
    }
   ],
   "source": [
    "len(\"foo\")"
   ]
  },
  {
   "cell_type": "code",
   "execution_count": 15,
   "id": "1424c402",
   "metadata": {},
   "outputs": [
    {
     "name": "stdout",
     "output_type": "stream",
     "text": [
      "56\n",
      "<class 'str'>\n"
     ]
    }
   ],
   "source": [
    "a=56\n",
    "b=str(a)\n",
    "print(b)\n",
    "print(type(b))"
   ]
  },
  {
   "cell_type": "code",
   "execution_count": 19,
   "id": "da06c0c2",
   "metadata": {},
   "outputs": [
    {
     "name": "stdout",
     "output_type": "stream",
     "text": [
      "You Have Done Good Job\n"
     ]
    }
   ],
   "source": [
    "s1=\"You\"\n",
    "s2=\"Have\"\n",
    "s3=\"Done\"\n",
    "s4=\"Good Job\"\n",
    "s5= s1+\" \"+s2+\" \"+s3+\" \"+s4\n",
    "print(s5)"
   ]
  },
  {
   "cell_type": "code",
   "execution_count": 21,
   "id": "63b587db",
   "metadata": {},
   "outputs": [
    {
     "name": "stdout",
     "output_type": "stream",
     "text": [
      "Print the string:\n",
      "We are here to learn Python from IPCS\n"
     ]
    }
   ],
   "source": [
    "s=\"We are here to learn Python from IPCS\"\n",
    "print(\"Print the string:\")\n",
    "print(s)"
   ]
  },
  {
   "cell_type": "markdown",
   "id": "921a86bf",
   "metadata": {},
   "source": [
    "## Upper"
   ]
  },
  {
   "cell_type": "code",
   "execution_count": 24,
   "id": "b39e7015",
   "metadata": {},
   "outputs": [
    {
     "name": "stdout",
     "output_type": "stream",
     "text": [
      "Print in upper case:\n",
      "WE ARE HERE TO LEARN PYTHON FROM IPCS\n"
     ]
    }
   ],
   "source": [
    "print(\"Print in upper case:\")\n",
    "print(s.upper())"
   ]
  },
  {
   "cell_type": "markdown",
   "id": "e328bb14",
   "metadata": {},
   "source": [
    "## Lower"
   ]
  },
  {
   "cell_type": "code",
   "execution_count": 25,
   "id": "d5d01c2e",
   "metadata": {},
   "outputs": [
    {
     "name": "stdout",
     "output_type": "stream",
     "text": [
      "Print all in lower case\n",
      "we are here to learn python from ipcs\n"
     ]
    }
   ],
   "source": [
    "print(\"Print all in lower case\")\n",
    "print(s.lower())"
   ]
  },
  {
   "cell_type": "markdown",
   "id": "5f041d7d",
   "metadata": {},
   "source": [
    "## Capitalize"
   ]
  },
  {
   "cell_type": "code",
   "execution_count": 26,
   "id": "f63a148d",
   "metadata": {},
   "outputs": [
    {
     "name": "stdout",
     "output_type": "stream",
     "text": [
      "Print all in Capital\n",
      "We are here to learn python from ipcs\n"
     ]
    }
   ],
   "source": [
    "print(\"Print all in Capital\")\n",
    "print(s.capitalize())"
   ]
  },
  {
   "cell_type": "markdown",
   "id": "92a54ddc",
   "metadata": {},
   "source": [
    "## Title"
   ]
  },
  {
   "cell_type": "code",
   "execution_count": 27,
   "id": "5d455cd6",
   "metadata": {},
   "outputs": [
    {
     "name": "stdout",
     "output_type": "stream",
     "text": [
      "Convert first letter of each word into capital\n",
      "We Are Here To Learn Python From Ipcs\n"
     ]
    }
   ],
   "source": [
    "print(\"Convert first letter of each word into capital\")\n",
    "print(s.title())"
   ]
  },
  {
   "cell_type": "markdown",
   "id": "1773a74b",
   "metadata": {},
   "source": [
    "## Replace"
   ]
  },
  {
   "cell_type": "code",
   "execution_count": 30,
   "id": "801fc2a6",
   "metadata": {},
   "outputs": [
    {
     "name": "stdout",
     "output_type": "stream",
     "text": [
      "Replace python into string\n",
      "We are here to learn string from IPCS\n"
     ]
    }
   ],
   "source": [
    "print(\"Replace python into string\")\n",
    "print(s.replace ('Python','string'))"
   ]
  },
  {
   "cell_type": "markdown",
   "id": "67148320",
   "metadata": {},
   "source": [
    "## Count"
   ]
  },
  {
   "cell_type": "code",
   "execution_count": 31,
   "id": "88253a42",
   "metadata": {},
   "outputs": [
    {
     "name": "stdout",
     "output_type": "stream",
     "text": [
      "Counting the Characters\n",
      "2\n"
     ]
    }
   ],
   "source": [
    "print(\"Counting the Characters\")\n",
    "print(s.count('a'))"
   ]
  },
  {
   "cell_type": "markdown",
   "id": "ce7b8c1c",
   "metadata": {},
   "source": [
    "## Endswith"
   ]
  },
  {
   "cell_type": "code",
   "execution_count": 33,
   "id": "b0e1d09e",
   "metadata": {},
   "outputs": [
    {
     "name": "stdout",
     "output_type": "stream",
     "text": [
      "Ending with\n",
      "True\n"
     ]
    }
   ],
   "source": [
    "print(\"Ending with\")\n",
    "print(s.endswith('S'))"
   ]
  },
  {
   "cell_type": "markdown",
   "id": "57beca3d",
   "metadata": {},
   "source": [
    "## Startswith"
   ]
  },
  {
   "cell_type": "code",
   "execution_count": 34,
   "id": "b3383f15",
   "metadata": {},
   "outputs": [
    {
     "name": "stdout",
     "output_type": "stream",
     "text": [
      "Start with\n",
      "True\n"
     ]
    }
   ],
   "source": [
    "print(\"Start with\")\n",
    "print(s.startswith('W'))"
   ]
  },
  {
   "cell_type": "markdown",
   "id": "185e039b",
   "metadata": {},
   "source": [
    "## Alphabets"
   ]
  },
  {
   "cell_type": "code",
   "execution_count": 36,
   "id": "cc68b792",
   "metadata": {},
   "outputs": [
    {
     "name": "stdout",
     "output_type": "stream",
     "text": [
      "Checking is alphabets\n",
      "False\n"
     ]
    }
   ],
   "source": [
    "print(\"Checking is alphabets\")\n",
    "print(s.isalpha())"
   ]
  },
  {
   "cell_type": "markdown",
   "id": "29c8a07f",
   "metadata": {},
   "source": [
    "## Alphabets and numbers"
   ]
  },
  {
   "cell_type": "code",
   "execution_count": 37,
   "id": "865f3669",
   "metadata": {},
   "outputs": [
    {
     "name": "stdout",
     "output_type": "stream",
     "text": [
      "Checking the alphabets and numbers\n",
      "Hello123\n",
      "True\n"
     ]
    }
   ],
   "source": [
    "print(\"Checking the alphabets and numbers\")\n",
    "s1=\"Hello123\"\n",
    "print(s1)\n",
    "print(s1.isalnum())"
   ]
  },
  {
   "cell_type": "markdown",
   "id": "e3e89b4c",
   "metadata": {},
   "source": [
    "## Space"
   ]
  },
  {
   "cell_type": "code",
   "execution_count": 38,
   "id": "7acfd790",
   "metadata": {},
   "outputs": [
    {
     "name": "stdout",
     "output_type": "stream",
     "text": [
      "     \n",
      "Checking the space\n",
      "True\n"
     ]
    }
   ],
   "source": [
    "s2=\"     \"\n",
    "print(s2)\n",
    "print(\"Checking the space\")\n",
    "print(s2.isspace())"
   ]
  },
  {
   "cell_type": "markdown",
   "id": "c90594fa",
   "metadata": {},
   "source": [
    "## Digit"
   ]
  },
  {
   "cell_type": "code",
   "execution_count": 39,
   "id": "3c959041",
   "metadata": {},
   "outputs": [
    {
     "name": "stdout",
     "output_type": "stream",
     "text": [
      "Checking the Digit\n",
      "123\n",
      "True\n"
     ]
    }
   ],
   "source": [
    "s3=\"123\"\n",
    "print(\"Checking the Digit\")\n",
    "print(s3)\n",
    "print(s3.isdigit())"
   ]
  },
  {
   "cell_type": "markdown",
   "id": "790c98ce",
   "metadata": {},
   "source": [
    "## Upper"
   ]
  },
  {
   "cell_type": "code",
   "execution_count": 40,
   "id": "87ba3941",
   "metadata": {},
   "outputs": [
    {
     "name": "stdout",
     "output_type": "stream",
     "text": [
      "Is Upper case\n",
      "IPCS\n",
      "True\n"
     ]
    }
   ],
   "source": [
    "s4=\"IPCS\"\n",
    "print(\"Is Upper case\")\n",
    "print(s4)\n",
    "print(s4.isupper())"
   ]
  },
  {
   "cell_type": "markdown",
   "id": "e8ad1618",
   "metadata": {},
   "source": [
    "## Lower"
   ]
  },
  {
   "cell_type": "code",
   "execution_count": 41,
   "id": "643d275f",
   "metadata": {},
   "outputs": [
    {
     "name": "stdout",
     "output_type": "stream",
     "text": [
      "Is Lower case\n",
      "ipcs\n",
      "True\n"
     ]
    }
   ],
   "source": [
    "s5=\"ipcs\"\n",
    "print(\"Is Lower case\")\n",
    "print(s5)\n",
    "print(s5.islower())"
   ]
  },
  {
   "cell_type": "code",
   "execution_count": null,
   "id": "22a4bd8a",
   "metadata": {},
   "outputs": [],
   "source": []
  }
 ],
 "metadata": {
  "kernelspec": {
   "display_name": "Python 3 (ipykernel)",
   "language": "python",
   "name": "python3"
  },
  "language_info": {
   "codemirror_mode": {
    "name": "ipython",
    "version": 3
   },
   "file_extension": ".py",
   "mimetype": "text/x-python",
   "name": "python",
   "nbconvert_exporter": "python",
   "pygments_lexer": "ipython3",
   "version": "3.11.4"
  }
 },
 "nbformat": 4,
 "nbformat_minor": 5
}
