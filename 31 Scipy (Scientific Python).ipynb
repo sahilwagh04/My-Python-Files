{
 "cells": [
  {
   "cell_type": "code",
   "execution_count": 4,
   "id": "61d034f2",
   "metadata": {},
   "outputs": [
    {
     "name": "stdout",
     "output_type": "stream",
     "text": [
      "1.10.1\n"
     ]
    }
   ],
   "source": [
    "import scipy\n",
    "print(scipy.__version__)"
   ]
  },
  {
   "cell_type": "code",
   "execution_count": 5,
   "id": "1b08a35f",
   "metadata": {},
   "outputs": [
    {
     "name": "stdout",
     "output_type": "stream",
     "text": [
      "3.141592653589793\n"
     ]
    }
   ],
   "source": [
    "from scipy import constants\n",
    "print(constants.pi)"
   ]
  },
  {
   "cell_type": "code",
   "execution_count": 6,
   "id": "26c16bd1",
   "metadata": {},
   "outputs": [
    {
     "name": "stdout",
     "output_type": "stream",
     "text": [
      "['Avogadro', 'Boltzmann', 'Btu', 'Btu_IT', 'Btu_th', 'ConstantWarning', 'G', 'Julian_year', 'N_A', 'Planck', 'R', 'Rydberg', 'Stefan_Boltzmann', 'Wien', '__all__', '__builtins__', '__cached__', '__doc__', '__file__', '__loader__', '__name__', '__package__', '__path__', '__spec__', '_codata', '_constants', '_obsolete_constants', 'acre', 'alpha', 'angstrom', 'arcmin', 'arcminute', 'arcsec', 'arcsecond', 'astronomical_unit', 'atm', 'atmosphere', 'atomic_mass', 'atto', 'au', 'bar', 'barrel', 'bbl', 'blob', 'c', 'calorie', 'calorie_IT', 'calorie_th', 'carat', 'centi', 'codata', 'constants', 'convert_temperature', 'day', 'deci', 'degree', 'degree_Fahrenheit', 'deka', 'dyn', 'dyne', 'e', 'eV', 'electron_mass', 'electron_volt', 'elementary_charge', 'epsilon_0', 'erg', 'exa', 'exbi', 'femto', 'fermi', 'find', 'fine_structure', 'fluid_ounce', 'fluid_ounce_US', 'fluid_ounce_imp', 'foot', 'g', 'gallon', 'gallon_US', 'gallon_imp', 'gas_constant', 'gibi', 'giga', 'golden', 'golden_ratio', 'grain', 'gram', 'gravitational_constant', 'h', 'hbar', 'hectare', 'hecto', 'horsepower', 'hour', 'hp', 'inch', 'k', 'kgf', 'kibi', 'kilo', 'kilogram_force', 'kmh', 'knot', 'lambda2nu', 'lb', 'lbf', 'light_year', 'liter', 'litre', 'long_ton', 'm_e', 'm_n', 'm_p', 'm_u', 'mach', 'mebi', 'mega', 'metric_ton', 'micro', 'micron', 'mil', 'mile', 'milli', 'minute', 'mmHg', 'mph', 'mu_0', 'nano', 'nautical_mile', 'neutron_mass', 'nu2lambda', 'ounce', 'oz', 'parsec', 'pebi', 'peta', 'physical_constants', 'pi', 'pico', 'point', 'pound', 'pound_force', 'precision', 'proton_mass', 'psi', 'pt', 'short_ton', 'sigma', 'slinch', 'slug', 'speed_of_light', 'speed_of_sound', 'stone', 'survey_foot', 'survey_mile', 'tebi', 'tera', 'test', 'ton_TNT', 'torr', 'troy_ounce', 'troy_pound', 'u', 'unit', 'value', 'week', 'yard', 'year', 'yobi', 'yocto', 'yotta', 'zebi', 'zepto', 'zero_Celsius', 'zetta']\n"
     ]
    }
   ],
   "source": [
    "print(dir(constants))"
   ]
  },
  {
   "cell_type": "markdown",
   "id": "63c52e4d",
   "metadata": {},
   "source": [
    "## Metric (SI) Prefixes"
   ]
  },
  {
   "cell_type": "code",
   "execution_count": 7,
   "id": "0a2c9905",
   "metadata": {},
   "outputs": [
    {
     "name": "stdout",
     "output_type": "stream",
     "text": [
      "1000000000000.0\n"
     ]
    }
   ],
   "source": [
    "#Return the specified unit in meter (e.g. centi returns 0.01)\n",
    "\n",
    "print(constants.tera)"
   ]
  },
  {
   "cell_type": "code",
   "execution_count": 8,
   "id": "c3c45475",
   "metadata": {},
   "outputs": [
    {
     "name": "stdout",
     "output_type": "stream",
     "text": [
      "1000000000.0\n"
     ]
    }
   ],
   "source": [
    "print(constants.giga)"
   ]
  },
  {
   "cell_type": "code",
   "execution_count": 9,
   "id": "924dc4b0",
   "metadata": {},
   "outputs": [
    {
     "name": "stdout",
     "output_type": "stream",
     "text": [
      "1000000.0\n"
     ]
    }
   ],
   "source": [
    "print(constants.mega)"
   ]
  },
  {
   "cell_type": "code",
   "execution_count": 10,
   "id": "cf8db874",
   "metadata": {},
   "outputs": [
    {
     "name": "stdout",
     "output_type": "stream",
     "text": [
      "1000000.0\n"
     ]
    }
   ],
   "source": [
    "print(constants.mega)"
   ]
  },
  {
   "cell_type": "code",
   "execution_count": 11,
   "id": "fafed6d4",
   "metadata": {},
   "outputs": [
    {
     "name": "stdout",
     "output_type": "stream",
     "text": [
      "1000.0\n"
     ]
    }
   ],
   "source": [
    "print(constants.kilo)"
   ]
  },
  {
   "cell_type": "markdown",
   "id": "ed852c0e",
   "metadata": {},
   "source": [
    "## Binary Prefixes"
   ]
  },
  {
   "cell_type": "code",
   "execution_count": 12,
   "id": "376ba3c5",
   "metadata": {},
   "outputs": [],
   "source": [
    "#Return the specified unit in bytes (e.g. kibi returns 1024)\n",
    "\n",
    "from scipy import constants"
   ]
  },
  {
   "cell_type": "code",
   "execution_count": 13,
   "id": "260d4482",
   "metadata": {},
   "outputs": [
    {
     "name": "stdout",
     "output_type": "stream",
     "text": [
      "1024\n"
     ]
    }
   ],
   "source": [
    "print(constants.kibi)"
   ]
  },
  {
   "cell_type": "code",
   "execution_count": 14,
   "id": "ac7462be",
   "metadata": {},
   "outputs": [
    {
     "name": "stdout",
     "output_type": "stream",
     "text": [
      "1048576\n"
     ]
    }
   ],
   "source": [
    "print(constants.mebi)"
   ]
  },
  {
   "cell_type": "markdown",
   "id": "6f7e0218",
   "metadata": {},
   "source": [
    "## Mass"
   ]
  },
  {
   "cell_type": "code",
   "execution_count": 15,
   "id": "07461941",
   "metadata": {},
   "outputs": [],
   "source": [
    "#Return the specified unit in kg (e.g. gram returns 0.001)\n",
    "from scipy import constants"
   ]
  },
  {
   "cell_type": "code",
   "execution_count": 16,
   "id": "61aebccc",
   "metadata": {},
   "outputs": [
    {
     "name": "stdout",
     "output_type": "stream",
     "text": [
      "0.001\n"
     ]
    }
   ],
   "source": [
    "print(constants.gram)"
   ]
  },
  {
   "cell_type": "code",
   "execution_count": 17,
   "id": "5b77aeb2",
   "metadata": {},
   "outputs": [
    {
     "name": "stdout",
     "output_type": "stream",
     "text": [
      "0.45359236999999997\n"
     ]
    }
   ],
   "source": [
    "print(constants.lb)"
   ]
  },
  {
   "cell_type": "code",
   "execution_count": 18,
   "id": "917b108e",
   "metadata": {},
   "outputs": [
    {
     "name": "stdout",
     "output_type": "stream",
     "text": [
      "0.45359236999999997\n"
     ]
    }
   ],
   "source": [
    "print(constants.pound)"
   ]
  },
  {
   "cell_type": "code",
   "execution_count": 19,
   "id": "d26fdb48",
   "metadata": {},
   "outputs": [
    {
     "name": "stdout",
     "output_type": "stream",
     "text": [
      "0.0002\n"
     ]
    }
   ],
   "source": [
    "print(constants.carat)"
   ]
  },
  {
   "cell_type": "markdown",
   "id": "a1623c97",
   "metadata": {},
   "source": [
    "## Angle"
   ]
  },
  {
   "cell_type": "code",
   "execution_count": 20,
   "id": "19324c77",
   "metadata": {},
   "outputs": [],
   "source": [
    "#Return the specified unit in radians(e.g. degree returns 0.017453292519943295)\n",
    "from scipy import constants"
   ]
  },
  {
   "cell_type": "code",
   "execution_count": 21,
   "id": "2f5771f6",
   "metadata": {},
   "outputs": [
    {
     "name": "stdout",
     "output_type": "stream",
     "text": [
      "0.017453292519943295\n"
     ]
    }
   ],
   "source": [
    "print(constants.degree)"
   ]
  },
  {
   "cell_type": "code",
   "execution_count": 23,
   "id": "5dbec3a3",
   "metadata": {},
   "outputs": [
    {
     "name": "stdout",
     "output_type": "stream",
     "text": [
      "0.0002908882086657216\n"
     ]
    }
   ],
   "source": [
    "print(constants.arcmin)"
   ]
  },
  {
   "cell_type": "markdown",
   "id": "ffd1680a",
   "metadata": {},
   "source": [
    "## Time"
   ]
  },
  {
   "cell_type": "code",
   "execution_count": 24,
   "id": "861e21e5",
   "metadata": {},
   "outputs": [],
   "source": [
    "#Return the specified unit in seconds(e.g. hour returns 3600.0)\n",
    "from scipy import constants"
   ]
  },
  {
   "cell_type": "code",
   "execution_count": 25,
   "id": "09e909bf",
   "metadata": {},
   "outputs": [
    {
     "name": "stdout",
     "output_type": "stream",
     "text": [
      "60.0\n"
     ]
    }
   ],
   "source": [
    "print(constants.minute)"
   ]
  },
  {
   "cell_type": "code",
   "execution_count": 26,
   "id": "9551faac",
   "metadata": {},
   "outputs": [
    {
     "name": "stdout",
     "output_type": "stream",
     "text": [
      "3600.0\n"
     ]
    }
   ],
   "source": [
    "print(constants.hour)"
   ]
  },
  {
   "cell_type": "code",
   "execution_count": 27,
   "id": "2322b749",
   "metadata": {},
   "outputs": [
    {
     "name": "stdout",
     "output_type": "stream",
     "text": [
      "86400.0\n"
     ]
    }
   ],
   "source": [
    "print(constants.day)"
   ]
  },
  {
   "cell_type": "code",
   "execution_count": 28,
   "id": "023e6e4e",
   "metadata": {},
   "outputs": [
    {
     "name": "stdout",
     "output_type": "stream",
     "text": [
      "604800.0\n"
     ]
    }
   ],
   "source": [
    "print(constants.week)"
   ]
  },
  {
   "cell_type": "code",
   "execution_count": 29,
   "id": "f44b9fd6",
   "metadata": {},
   "outputs": [
    {
     "name": "stdout",
     "output_type": "stream",
     "text": [
      "31536000.0\n"
     ]
    }
   ],
   "source": [
    "print(constants.year)"
   ]
  },
  {
   "cell_type": "code",
   "execution_count": 30,
   "id": "00492639",
   "metadata": {},
   "outputs": [
    {
     "name": "stdout",
     "output_type": "stream",
     "text": [
      "31557600.0\n"
     ]
    }
   ],
   "source": [
    "print(constants.Julian_year)"
   ]
  },
  {
   "cell_type": "markdown",
   "id": "8e7d4aad",
   "metadata": {},
   "source": [
    "## Length"
   ]
  },
  {
   "cell_type": "code",
   "execution_count": 31,
   "id": "0584c6e5",
   "metadata": {},
   "outputs": [],
   "source": [
    "#Return the specified unit in meters(e.g. nautical_mile returns 1852.0)\n",
    "from scipy import constants"
   ]
  },
  {
   "cell_type": "code",
   "execution_count": 32,
   "id": "a8ac8d27",
   "metadata": {},
   "outputs": [
    {
     "name": "stdout",
     "output_type": "stream",
     "text": [
      "0.0254\n"
     ]
    }
   ],
   "source": [
    "print(constants.inch)"
   ]
  },
  {
   "cell_type": "code",
   "execution_count": 33,
   "id": "7d12ac16",
   "metadata": {},
   "outputs": [
    {
     "name": "stdout",
     "output_type": "stream",
     "text": [
      "0.30479999999999996\n"
     ]
    }
   ],
   "source": [
    "print(constants.foot)"
   ]
  },
  {
   "cell_type": "code",
   "execution_count": 34,
   "id": "5f31bcb8",
   "metadata": {},
   "outputs": [
    {
     "name": "stdout",
     "output_type": "stream",
     "text": [
      "0.9143999999999999\n"
     ]
    }
   ],
   "source": [
    "print(constants.yard)"
   ]
  },
  {
   "cell_type": "code",
   "execution_count": 35,
   "id": "b3b15ef2",
   "metadata": {},
   "outputs": [
    {
     "name": "stdout",
     "output_type": "stream",
     "text": [
      "1609.3439999999998\n"
     ]
    }
   ],
   "source": [
    "print(constants.mile)"
   ]
  },
  {
   "cell_type": "code",
   "execution_count": 36,
   "id": "70d208ed",
   "metadata": {},
   "outputs": [
    {
     "name": "stdout",
     "output_type": "stream",
     "text": [
      "2.5399999999999997e-05\n"
     ]
    }
   ],
   "source": [
    "print(constants.mil)"
   ]
  },
  {
   "cell_type": "code",
   "execution_count": 37,
   "id": "a0456025",
   "metadata": {},
   "outputs": [
    {
     "name": "stdout",
     "output_type": "stream",
     "text": [
      "0.00035277777777777776\n"
     ]
    }
   ],
   "source": [
    "print(constants.pt)"
   ]
  },
  {
   "cell_type": "code",
   "execution_count": 38,
   "id": "8603d083",
   "metadata": {},
   "outputs": [
    {
     "name": "stdout",
     "output_type": "stream",
     "text": [
      "0.00035277777777777776\n"
     ]
    }
   ],
   "source": [
    "print(constants.point)"
   ]
  },
  {
   "cell_type": "code",
   "execution_count": 39,
   "id": "f9c978aa",
   "metadata": {},
   "outputs": [
    {
     "name": "stdout",
     "output_type": "stream",
     "text": [
      "149597870700.0\n"
     ]
    }
   ],
   "source": [
    "print(constants.astronomical_unit)"
   ]
  },
  {
   "cell_type": "code",
   "execution_count": 40,
   "id": "cd77ea7d",
   "metadata": {},
   "outputs": [
    {
     "name": "stdout",
     "output_type": "stream",
     "text": [
      "9460730472580800.0\n"
     ]
    }
   ],
   "source": [
    "print(constants.light_year)"
   ]
  },
  {
   "cell_type": "code",
   "execution_count": 41,
   "id": "7717cdb0",
   "metadata": {},
   "outputs": [
    {
     "name": "stdout",
     "output_type": "stream",
     "text": [
      "3.085677581491367e+16\n"
     ]
    }
   ],
   "source": [
    "print(constants.parsec)"
   ]
  },
  {
   "cell_type": "markdown",
   "id": "73b49ea9",
   "metadata": {},
   "source": [
    "## Pressure"
   ]
  },
  {
   "cell_type": "code",
   "execution_count": 42,
   "id": "cc52096a",
   "metadata": {},
   "outputs": [],
   "source": [
    "#Return the specified unit in pascal(e.g. psi returns 6894.757293168361)\n",
    "from scipy import constants"
   ]
  },
  {
   "cell_type": "code",
   "execution_count": 43,
   "id": "2a77abb4",
   "metadata": {},
   "outputs": [
    {
     "name": "stdout",
     "output_type": "stream",
     "text": [
      "101325.0\n"
     ]
    }
   ],
   "source": [
    "print(constants.atm)"
   ]
  },
  {
   "cell_type": "code",
   "execution_count": 45,
   "id": "16975c7e",
   "metadata": {},
   "outputs": [
    {
     "name": "stdout",
     "output_type": "stream",
     "text": [
      "101325.0\n"
     ]
    }
   ],
   "source": [
    "print(constants.atmosphere)"
   ]
  },
  {
   "cell_type": "code",
   "execution_count": 46,
   "id": "adbd800e",
   "metadata": {},
   "outputs": [
    {
     "name": "stdout",
     "output_type": "stream",
     "text": [
      "100000.0\n"
     ]
    }
   ],
   "source": [
    "print(constants.bar)"
   ]
  },
  {
   "cell_type": "code",
   "execution_count": 47,
   "id": "49b6f70b",
   "metadata": {},
   "outputs": [
    {
     "name": "stdout",
     "output_type": "stream",
     "text": [
      "6894.757293168361\n"
     ]
    }
   ],
   "source": [
    "print(constants.psi)"
   ]
  },
  {
   "cell_type": "code",
   "execution_count": 49,
   "id": "5b4397ef",
   "metadata": {},
   "outputs": [
    {
     "name": "stdout",
     "output_type": "stream",
     "text": [
      "133.32236842105263\n"
     ]
    }
   ],
   "source": [
    "print(constants.mmHg)"
   ]
  },
  {
   "cell_type": "markdown",
   "id": "df70bc51",
   "metadata": {},
   "source": [
    "## Area"
   ]
  },
  {
   "cell_type": "code",
   "execution_count": 50,
   "id": "e87d8e6e",
   "metadata": {},
   "outputs": [],
   "source": [
    "#Return the specified unit in square meters(e.g. hectare  10000.0)\n",
    "from scipy import constants"
   ]
  },
  {
   "cell_type": "code",
   "execution_count": 51,
   "id": "4b2b305f",
   "metadata": {},
   "outputs": [
    {
     "name": "stdout",
     "output_type": "stream",
     "text": [
      "10000.0\n"
     ]
    }
   ],
   "source": [
    "print(constants.hectare)"
   ]
  },
  {
   "cell_type": "code",
   "execution_count": 52,
   "id": "8190e974",
   "metadata": {},
   "outputs": [
    {
     "name": "stdout",
     "output_type": "stream",
     "text": [
      "4046.8564223999992\n"
     ]
    }
   ],
   "source": [
    "print(constants.acre)"
   ]
  },
  {
   "cell_type": "markdown",
   "id": "a934f5ba",
   "metadata": {},
   "source": [
    "## Volume"
   ]
  },
  {
   "cell_type": "code",
   "execution_count": 53,
   "id": "c53a6a06",
   "metadata": {},
   "outputs": [],
   "source": [
    "#Return the specified unit in cubic meters (e.g. liter returns  0.001)\n",
    "from scipy import constants"
   ]
  },
  {
   "cell_type": "code",
   "execution_count": 54,
   "id": "12908068",
   "metadata": {},
   "outputs": [
    {
     "name": "stdout",
     "output_type": "stream",
     "text": [
      "0.001\n"
     ]
    }
   ],
   "source": [
    "print(constants.liter)"
   ]
  },
  {
   "cell_type": "code",
   "execution_count": 55,
   "id": "2da40abf",
   "metadata": {},
   "outputs": [
    {
     "name": "stdout",
     "output_type": "stream",
     "text": [
      "0.0037854117839999997\n"
     ]
    }
   ],
   "source": [
    "print(constants.gallon)"
   ]
  },
  {
   "cell_type": "code",
   "execution_count": 56,
   "id": "73e70c75",
   "metadata": {},
   "outputs": [
    {
     "name": "stdout",
     "output_type": "stream",
     "text": [
      "0.15898729492799998\n"
     ]
    }
   ],
   "source": [
    "print(constants.barrel)"
   ]
  },
  {
   "cell_type": "markdown",
   "id": "d12cbfb0",
   "metadata": {},
   "source": [
    "## Speed"
   ]
  },
  {
   "cell_type": "code",
   "execution_count": 57,
   "id": "d7e9d6d9",
   "metadata": {},
   "outputs": [],
   "source": [
    "#Return the specified unit in meter per second (e.g. speed_of_sound returns  340.5)\n",
    "from scipy import constants"
   ]
  },
  {
   "cell_type": "code",
   "execution_count": 58,
   "id": "0e67ce0f",
   "metadata": {},
   "outputs": [
    {
     "name": "stdout",
     "output_type": "stream",
     "text": [
      "0.2777777777777778\n"
     ]
    }
   ],
   "source": [
    "print(constants.kmh)"
   ]
  },
  {
   "cell_type": "code",
   "execution_count": 59,
   "id": "7be58334",
   "metadata": {},
   "outputs": [
    {
     "name": "stdout",
     "output_type": "stream",
     "text": [
      "0.44703999999999994\n"
     ]
    }
   ],
   "source": [
    "print(constants.mph)"
   ]
  },
  {
   "cell_type": "code",
   "execution_count": 60,
   "id": "88592cff",
   "metadata": {},
   "outputs": [
    {
     "name": "stdout",
     "output_type": "stream",
     "text": [
      "340.5\n"
     ]
    }
   ],
   "source": [
    "print(constants.speed_of_sound)"
   ]
  },
  {
   "cell_type": "code",
   "execution_count": 61,
   "id": "f42555c1",
   "metadata": {},
   "outputs": [
    {
     "name": "stdout",
     "output_type": "stream",
     "text": [
      "0.5144444444444445\n"
     ]
    }
   ],
   "source": [
    "print(constants.knot)"
   ]
  },
  {
   "cell_type": "markdown",
   "id": "54de858b",
   "metadata": {},
   "source": [
    "## Temperature"
   ]
  },
  {
   "cell_type": "code",
   "execution_count": 62,
   "id": "7ffbe963",
   "metadata": {},
   "outputs": [],
   "source": [
    "#Return the specified unit in Kelvin (e.g. zero_Celsius returns  273.15)\n",
    "from scipy import constants"
   ]
  },
  {
   "cell_type": "code",
   "execution_count": 63,
   "id": "236de9a8",
   "metadata": {},
   "outputs": [
    {
     "name": "stdout",
     "output_type": "stream",
     "text": [
      "273.15\n"
     ]
    }
   ],
   "source": [
    "print(constants.zero_Celsius)"
   ]
  },
  {
   "cell_type": "code",
   "execution_count": 64,
   "id": "6b39f728",
   "metadata": {},
   "outputs": [
    {
     "name": "stdout",
     "output_type": "stream",
     "text": [
      "0.5555555555555556\n"
     ]
    }
   ],
   "source": [
    "print(constants.degree_Fahrenheit)"
   ]
  },
  {
   "cell_type": "markdown",
   "id": "299f1460",
   "metadata": {},
   "source": [
    "## Energy"
   ]
  },
  {
   "cell_type": "code",
   "execution_count": 65,
   "id": "5feedfa5",
   "metadata": {},
   "outputs": [],
   "source": [
    "#Return the specified unit in joules (e.g. calorie returns  4.184)\n",
    "from scipy import constants"
   ]
  },
  {
   "cell_type": "code",
   "execution_count": 66,
   "id": "fea23b57",
   "metadata": {},
   "outputs": [
    {
     "name": "stdout",
     "output_type": "stream",
     "text": [
      "1.602176634e-19\n"
     ]
    }
   ],
   "source": [
    "print(constants.eV)"
   ]
  },
  {
   "cell_type": "code",
   "execution_count": 67,
   "id": "d79345f5",
   "metadata": {},
   "outputs": [
    {
     "name": "stdout",
     "output_type": "stream",
     "text": [
      "4.184\n"
     ]
    }
   ],
   "source": [
    "print(constants.calorie)"
   ]
  },
  {
   "cell_type": "code",
   "execution_count": 68,
   "id": "4f82e4ba",
   "metadata": {},
   "outputs": [
    {
     "name": "stdout",
     "output_type": "stream",
     "text": [
      "1e-07\n"
     ]
    }
   ],
   "source": [
    "print(constants.erg)"
   ]
  },
  {
   "cell_type": "markdown",
   "id": "54633e4d",
   "metadata": {},
   "source": [
    "### Power"
   ]
  },
  {
   "cell_type": "code",
   "execution_count": 71,
   "id": "12e5a2b6",
   "metadata": {},
   "outputs": [],
   "source": [
    "#Return the specified unit in watts (e.g. horsepower returns  745.6998715822701)\n",
    "from scipy import constants"
   ]
  },
  {
   "cell_type": "code",
   "execution_count": 72,
   "id": "4db45d18",
   "metadata": {},
   "outputs": [
    {
     "name": "stdout",
     "output_type": "stream",
     "text": [
      "745.6998715822701\n"
     ]
    }
   ],
   "source": [
    "print(constants.hp)"
   ]
  },
  {
   "cell_type": "code",
   "execution_count": 73,
   "id": "e8a50668",
   "metadata": {},
   "outputs": [
    {
     "name": "stdout",
     "output_type": "stream",
     "text": [
      "745.6998715822701\n"
     ]
    }
   ],
   "source": [
    "print(constants.horsepower)"
   ]
  },
  {
   "cell_type": "markdown",
   "id": "13f0e9eb",
   "metadata": {},
   "source": [
    "## Force"
   ]
  },
  {
   "cell_type": "code",
   "execution_count": 74,
   "id": "ee950ce5",
   "metadata": {},
   "outputs": [],
   "source": [
    "#Return the specified unit in newton (e.g. kilogram_force returns  9.80665)\n",
    "from scipy import constants"
   ]
  },
  {
   "cell_type": "code",
   "execution_count": 75,
   "id": "da100f3d",
   "metadata": {},
   "outputs": [
    {
     "name": "stdout",
     "output_type": "stream",
     "text": [
      "1e-05\n"
     ]
    }
   ],
   "source": [
    "print(constants.dyn)"
   ]
  },
  {
   "cell_type": "code",
   "execution_count": 76,
   "id": "af868ee8",
   "metadata": {},
   "outputs": [
    {
     "name": "stdout",
     "output_type": "stream",
     "text": [
      "1e-05\n"
     ]
    }
   ],
   "source": [
    "print(constants.dyn)"
   ]
  },
  {
   "cell_type": "code",
   "execution_count": 77,
   "id": "cd402c07",
   "metadata": {},
   "outputs": [
    {
     "name": "stdout",
     "output_type": "stream",
     "text": [
      "9.80665\n"
     ]
    }
   ],
   "source": [
    "print(constants.kgf)"
   ]
  },
  {
   "cell_type": "code",
   "execution_count": 78,
   "id": "f024addd",
   "metadata": {},
   "outputs": [
    {
     "name": "stdout",
     "output_type": "stream",
     "text": [
      "9.80665\n"
     ]
    }
   ],
   "source": [
    "print(constants.kilogram_force)"
   ]
  },
  {
   "cell_type": "code",
   "execution_count": 79,
   "id": "20842d1b",
   "metadata": {},
   "outputs": [
    {
     "name": "stdout",
     "output_type": "stream",
     "text": [
      "4.4482216152605\n"
     ]
    }
   ],
   "source": [
    "print(constants.pound_force)"
   ]
  },
  {
   "cell_type": "markdown",
   "id": "f1f5c65d",
   "metadata": {},
   "source": [
    "## Scipy Optimizers"
   ]
  },
  {
   "cell_type": "markdown",
   "id": "557ae45b",
   "metadata": {},
   "source": [
    "## Optimizing Functions"
   ]
  },
  {
   "cell_type": "markdown",
   "id": "4cd552d2",
   "metadata": {},
   "source": [
    "## Roots of an Equation"
   ]
  },
  {
   "cell_type": "code",
   "execution_count": 81,
   "id": "63a847cd",
   "metadata": {},
   "outputs": [
    {
     "name": "stdout",
     "output_type": "stream",
     "text": [
      "[-0.73908513]\n"
     ]
    }
   ],
   "source": [
    "from scipy.optimize import root\n",
    "from math import cos\n",
    "def eqn(x):\n",
    "    return x + cos(x)\n",
    "myroot = root(eqn, 0)\n",
    "print(myroot.x)"
   ]
  }
 ],
 "metadata": {
  "kernelspec": {
   "display_name": "Python 3 (ipykernel)",
   "language": "python",
   "name": "python3"
  },
  "language_info": {
   "codemirror_mode": {
    "name": "ipython",
    "version": 3
   },
   "file_extension": ".py",
   "mimetype": "text/x-python",
   "name": "python",
   "nbconvert_exporter": "python",
   "pygments_lexer": "ipython3",
   "version": "3.11.4"
  }
 },
 "nbformat": 4,
 "nbformat_minor": 5
}
