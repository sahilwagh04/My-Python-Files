{
 "cells": [
  {
   "cell_type": "markdown",
   "id": "8c60f93b",
   "metadata": {},
   "source": [
    "## Creating the Sets"
   ]
  },
  {
   "cell_type": "code",
   "execution_count": 1,
   "id": "f9c48200",
   "metadata": {},
   "outputs": [
    {
     "name": "stdout",
     "output_type": "stream",
     "text": [
      "{'monday', 'friday', 'tuesday', 'saturday', 'wednesday', 'thursday', 'sunday'}\n"
     ]
    }
   ],
   "source": [
    "days={\"monday\",\"tuesday\",\"wednesday\",\"thursday\",\"friday\",\"saturday\",\"sunday\"}\n",
    "print(days)"
   ]
  },
  {
   "cell_type": "markdown",
   "id": "6b7eda2e",
   "metadata": {},
   "source": [
    "## Adding the element"
   ]
  },
  {
   "cell_type": "code",
   "execution_count": 20,
   "id": "cdd0ef5d",
   "metadata": {},
   "outputs": [
    {
     "name": "stdout",
     "output_type": "stream",
     "text": [
      "{'mango', 'grapes', 'apple'}\n",
      "{'mango', 'grapes', 'apple', 123}\n"
     ]
    }
   ],
   "source": [
    "fruits={\"apple\",\"mango\",\"grapes\"}\n",
    "print(fruits)\n",
    "fruits.add(123)\n",
    "print(fruits)"
   ]
  },
  {
   "cell_type": "code",
   "execution_count": 4,
   "id": "f91418b8",
   "metadata": {},
   "outputs": [
    {
     "name": "stdout",
     "output_type": "stream",
     "text": [
      "{'mango', 'grapes', 'i', 'w', 'k', 'apple'}\n"
     ]
    }
   ],
   "source": [
    "fruits={\"apple\",\"mango\",\"grapes\"}\n",
    "fruits.update(\"kiwi\")\n",
    "print(fruits)"
   ]
  },
  {
   "cell_type": "code",
   "execution_count": 17,
   "id": "fffbcd31",
   "metadata": {},
   "outputs": [
    {
     "name": "stdout",
     "output_type": "stream",
     "text": [
      "{'mango', 'grapes', '1', '3', 'apple', '2'}\n"
     ]
    }
   ],
   "source": [
    "fruits={\"apple\",\"mango\",\"grapes\"}\n",
    "fruits.update(\"123\")\n",
    "print(fruits)"
   ]
  },
  {
   "cell_type": "markdown",
   "id": "a686da56",
   "metadata": {},
   "source": [
    "## Remove, Discard and pop"
   ]
  },
  {
   "cell_type": "code",
   "execution_count": 9,
   "id": "7db7b09e",
   "metadata": {},
   "outputs": [
    {
     "name": "stdout",
     "output_type": "stream",
     "text": [
      "{'mango', 'grapes', 'kiwi', 'apple', 'banana'}\n",
      "{'mango', 'grapes', 'kiwi', 'banana'}\n"
     ]
    }
   ],
   "source": [
    "fruits={\"apple\",\"mango\",\"grapes\",\"banana\",\"kiwi\"}\n",
    "print(fruits)\n",
    "fruits.discard(\"apple\")\n",
    "print(fruits)"
   ]
  },
  {
   "cell_type": "code",
   "execution_count": 13,
   "id": "15628af0",
   "metadata": {},
   "outputs": [
    {
     "name": "stdout",
     "output_type": "stream",
     "text": [
      "{'kiwi', 'apple', 'banana'}\n"
     ]
    }
   ],
   "source": [
    "fruits.remove(\"grapes\")\n",
    "print(fruits)"
   ]
  },
  {
   "cell_type": "code",
   "execution_count": 14,
   "id": "1c584e5e",
   "metadata": {},
   "outputs": [
    {
     "name": "stdout",
     "output_type": "stream",
     "text": [
      "{'apple', 'banana'}\n"
     ]
    }
   ],
   "source": [
    "fruits.pop()\n",
    "print(fruits)"
   ]
  },
  {
   "cell_type": "markdown",
   "id": "6599f76e",
   "metadata": {},
   "source": [
    "## Sets Operations"
   ]
  },
  {
   "cell_type": "code",
   "execution_count": 26,
   "id": "359b995f",
   "metadata": {},
   "outputs": [
    {
     "name": "stdout",
     "output_type": "stream",
     "text": [
      "{1, 2, 3, 4, 5, 6}\n"
     ]
    },
    {
     "data": {
      "text/plain": [
       "{1, 2, 3, 4, 5, 6}"
      ]
     },
     "execution_count": 26,
     "metadata": {},
     "output_type": "execute_result"
    }
   ],
   "source": [
    "my_set={1,2,3,4}\n",
    "my_set_2={3,4,5,6}\n",
    "print(my_set.union(my_set_2))\n",
    "#or\n",
    "my_set|my_set_2"
   ]
  },
  {
   "cell_type": "code",
   "execution_count": 28,
   "id": "6b9fec49",
   "metadata": {},
   "outputs": [
    {
     "name": "stdout",
     "output_type": "stream",
     "text": [
      "{3, 4}\n"
     ]
    },
    {
     "data": {
      "text/plain": [
       "{3, 4}"
      ]
     },
     "execution_count": 28,
     "metadata": {},
     "output_type": "execute_result"
    }
   ],
   "source": [
    "print(my_set.intersection(my_set_2))\n",
    "#or\n",
    "my_set & my_set_2"
   ]
  },
  {
   "cell_type": "code",
   "execution_count": 29,
   "id": "ed532674",
   "metadata": {},
   "outputs": [
    {
     "name": "stdout",
     "output_type": "stream",
     "text": [
      "{1, 2}\n"
     ]
    },
    {
     "data": {
      "text/plain": [
       "{1, 2}"
      ]
     },
     "execution_count": 29,
     "metadata": {},
     "output_type": "execute_result"
    }
   ],
   "source": [
    "print(my_set.difference(my_set_2))\n",
    "#or\n",
    "my_set - my_set_2"
   ]
  },
  {
   "cell_type": "code",
   "execution_count": 30,
   "id": "8650710c",
   "metadata": {},
   "outputs": [
    {
     "name": "stdout",
     "output_type": "stream",
     "text": [
      "{1, 2, 5, 6}\n"
     ]
    },
    {
     "data": {
      "text/plain": [
       "{1, 2, 5, 6}"
      ]
     },
     "execution_count": 30,
     "metadata": {},
     "output_type": "execute_result"
    }
   ],
   "source": [
    "print(my_set.symmetric_difference(my_set_2))\n",
    "#or\n",
    "my_set ^ my_set_2"
   ]
  },
  {
   "cell_type": "markdown",
   "id": "8af63c31",
   "metadata": {},
   "source": [
    "## Check the Subset"
   ]
  },
  {
   "cell_type": "code",
   "execution_count": 33,
   "id": "4be65956",
   "metadata": {},
   "outputs": [
    {
     "data": {
      "text/plain": [
       "True"
      ]
     },
     "execution_count": 33,
     "metadata": {},
     "output_type": "execute_result"
    }
   ],
   "source": [
    "a={4,5}\n",
    "b={1,2,3,4,5}\n",
    "\n",
    "a.issubset(b)"
   ]
  },
  {
   "cell_type": "code",
   "execution_count": 32,
   "id": "cd4cdbd8",
   "metadata": {},
   "outputs": [
    {
     "data": {
      "text/plain": [
       "False"
      ]
     },
     "execution_count": 32,
     "metadata": {},
     "output_type": "execute_result"
    }
   ],
   "source": [
    "b.issubset(a)"
   ]
  },
  {
   "cell_type": "markdown",
   "id": "36212921",
   "metadata": {},
   "source": [
    "## Check if a set is a subset, using comparison operation"
   ]
  },
  {
   "cell_type": "code",
   "execution_count": 34,
   "id": "9570fc33",
   "metadata": {},
   "outputs": [
    {
     "data": {
      "text/plain": [
       "True"
      ]
     },
     "execution_count": 34,
     "metadata": {},
     "output_type": "execute_result"
    }
   ],
   "source": [
    "a={'a','b'}\n",
    "b={'a','b','c'}\n",
    "\n",
    "a<=b"
   ]
  },
  {
   "cell_type": "code",
   "execution_count": 35,
   "id": "2829305b",
   "metadata": {},
   "outputs": [
    {
     "data": {
      "text/plain": [
       "False"
      ]
     },
     "execution_count": 35,
     "metadata": {},
     "output_type": "execute_result"
    }
   ],
   "source": [
    "b<=a"
   ]
  },
  {
   "cell_type": "markdown",
   "id": "2b3cf8fd",
   "metadata": {},
   "source": [
    "## In and not in"
   ]
  },
  {
   "cell_type": "code",
   "execution_count": 36,
   "id": "c6ec3ad8",
   "metadata": {},
   "outputs": [
    {
     "data": {
      "text/plain": [
       "True"
      ]
     },
     "execution_count": 36,
     "metadata": {},
     "output_type": "execute_result"
    }
   ],
   "source": [
    "s={5,7,9}\n",
    "\n",
    "5 in s"
   ]
  },
  {
   "cell_type": "code",
   "execution_count": 37,
   "id": "61b9eb4a",
   "metadata": {},
   "outputs": [
    {
     "data": {
      "text/plain": [
       "False"
      ]
     },
     "execution_count": 37,
     "metadata": {},
     "output_type": "execute_result"
    }
   ],
   "source": [
    "6 in s"
   ]
  },
  {
   "cell_type": "code",
   "execution_count": 39,
   "id": "4e551447",
   "metadata": {},
   "outputs": [
    {
     "data": {
      "text/plain": [
       "True"
      ]
     },
     "execution_count": 39,
     "metadata": {},
     "output_type": "execute_result"
    }
   ],
   "source": [
    "s={'x','y','z'}\n",
    "\n",
    "'w' not in s"
   ]
  },
  {
   "cell_type": "code",
   "execution_count": 40,
   "id": "0bb75249",
   "metadata": {},
   "outputs": [
    {
     "data": {
      "text/plain": [
       "False"
      ]
     },
     "execution_count": 40,
     "metadata": {},
     "output_type": "execute_result"
    }
   ],
   "source": [
    "'x' not in s"
   ]
  },
  {
   "cell_type": "markdown",
   "id": "0329930b",
   "metadata": {},
   "source": [
    "# frozen Set"
   ]
  },
  {
   "cell_type": "code",
   "execution_count": 1,
   "id": "1105864c",
   "metadata": {},
   "outputs": [
    {
     "name": "stdout",
     "output_type": "stream",
     "text": [
      "frozenset Object is : frozenset({1, 2, 3, 4, 5, 6, 7, 8, 9})\n"
     ]
    }
   ],
   "source": [
    "nu=(1,2,3,4,5,6,7,8,9)  #tuple of number\n",
    "fnum=frozenset(nu)      #Converting tuple to frozenset\n",
    "print(\"frozenset Object is :\",fnum)"
   ]
  },
  {
   "cell_type": "code",
   "execution_count": 4,
   "id": "573d46b3",
   "metadata": {},
   "outputs": [
    {
     "name": "stdout",
     "output_type": "stream",
     "text": [
      "frozenset object is : frozenset({1, 2, 3, 4, 5, 6, 7, 8, 9})\n"
     ]
    }
   ],
   "source": [
    "nu=[1,2,3,4,5,6,7,8,9]\n",
    "fnum=frozenset(nu)\n",
    "print(\"frozenset object is :\",fnum)"
   ]
  },
  {
   "cell_type": "code",
   "execution_count": 3,
   "id": "a52ca8e5",
   "metadata": {},
   "outputs": [
    {
     "name": "stdout",
     "output_type": "stream",
     "text": [
      "frozenset object is : frozenset({1, 2, 3, 4, 5, 6, 7, 8, 9})\n"
     ]
    }
   ],
   "source": [
    "nu={1,2,3,4,5,6,7,8,9}\n",
    "fnum=frozenset(nu)\n",
    "print(\"frozenset object is :\",fnum)"
   ]
  },
  {
   "cell_type": "markdown",
   "id": "da3123d5",
   "metadata": {},
   "source": [
    "## Keep ONLY the Duplicates"
   ]
  },
  {
   "cell_type": "code",
   "execution_count": 1,
   "id": "fb455d4a",
   "metadata": {},
   "outputs": [
    {
     "name": "stdout",
     "output_type": "stream",
     "text": [
      "{'apple'}\n"
     ]
    }
   ],
   "source": [
    "x = {\"apple\", \"banana\", \"cherry\"}\n",
    "y = {\"google\", \"microsoft\", \"apple\"}\n",
    "\n",
    "x.intersection_update(y)\n",
    "\n",
    "print(x)"
   ]
  },
  {
   "cell_type": "code",
   "execution_count": null,
   "id": "f14d175b",
   "metadata": {},
   "outputs": [],
   "source": []
  }
 ],
 "metadata": {
  "kernelspec": {
   "display_name": "Python 3 (ipykernel)",
   "language": "python",
   "name": "python3"
  },
  "language_info": {
   "codemirror_mode": {
    "name": "ipython",
    "version": 3
   },
   "file_extension": ".py",
   "mimetype": "text/x-python",
   "name": "python",
   "nbconvert_exporter": "python",
   "pygments_lexer": "ipython3",
   "version": "3.11.4"
  }
 },
 "nbformat": 4,
 "nbformat_minor": 5
}
