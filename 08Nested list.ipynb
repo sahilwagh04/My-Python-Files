{
 "cells": [
  {
   "cell_type": "code",
   "execution_count": 3,
   "id": "1995ee37",
   "metadata": {},
   "outputs": [
    {
     "name": "stdout",
     "output_type": "stream",
     "text": [
      "[2, 'Sahil']\n"
     ]
    }
   ],
   "source": [
    "L = [1,2,\"Sahil\",[2,3,4,\"Python\"]]\n",
    "print(L[1:3])"
   ]
  },
  {
   "cell_type": "code",
   "execution_count": 4,
   "id": "7cb482ef",
   "metadata": {},
   "outputs": [
    {
     "name": "stdout",
     "output_type": "stream",
     "text": [
      "[3, 4]\n"
     ]
    }
   ],
   "source": [
    "L = [1,2,\"Sahil\",[2,3,4,\"Python\"]]\n",
    "print(L[3][1:3])"
   ]
  },
  {
   "cell_type": "code",
   "execution_count": 5,
   "id": "7c2c079d",
   "metadata": {},
   "outputs": [
    {
     "name": "stdout",
     "output_type": "stream",
     "text": [
      "Py\n"
     ]
    }
   ],
   "source": [
    "L = [1,2,\"Sahil\",[2,3,4,\"Python\"]]\n",
    "print(L[3][3][0:2])"
   ]
  },
  {
   "cell_type": "code",
   "execution_count": 6,
   "id": "3f07106a",
   "metadata": {},
   "outputs": [
    {
     "name": "stdout",
     "output_type": "stream",
     "text": [
      "yhn\n"
     ]
    }
   ],
   "source": [
    "print(L[3][3][1::2])"
   ]
  },
  {
   "cell_type": "code",
   "execution_count": null,
   "id": "755ff391",
   "metadata": {},
   "outputs": [],
   "source": []
  },
  {
   "cell_type": "markdown",
   "id": "7b02a061",
   "metadata": {},
   "source": [
    "# List Comprehension"
   ]
  },
  {
   "cell_type": "markdown",
   "id": "c0a6774d",
   "metadata": {},
   "source": [
    "#syntax: [expression for item in iterable if condition]"
   ]
  },
  {
   "cell_type": "markdown",
   "id": "10de63a3",
   "metadata": {},
   "source": [
    "## List comprehension offers a shorter syntax when you want to create a new list based on the values of an existing list.\n",
    "\n",
    "Example:\n",
    "\n",
    "Based on a list of fruits, you want a new list, that startswith the letter \"a\" in the name.\n",
    "\n",
    "Without list comprehension you will have to write a for statement with a conditional test inside.\n",
    "- result always in list\n",
    "\n",
    "\n",
    "syntax:\n",
    "\n",
    "[expressoin for item in list ]"
   ]
  },
  {
   "cell_type": "code",
   "execution_count": 7,
   "id": "5d6cdad7",
   "metadata": {},
   "outputs": [
    {
     "name": "stdout",
     "output_type": "stream",
     "text": [
      "['apple']\n"
     ]
    }
   ],
   "source": [
    "fruits=['apple','banana','cherry','kiwi','mango']\n",
    "newlist=[]\n",
    "for x in fruits:\n",
    "    if x.startswith('a'):\n",
    "        newlist.append(x)\n",
    "print(newlist)"
   ]
  },
  {
   "cell_type": "code",
   "execution_count": 8,
   "id": "463685c0",
   "metadata": {},
   "outputs": [
    {
     "data": {
      "text/plain": [
       "['apple']"
      ]
     },
     "execution_count": 8,
     "metadata": {},
     "output_type": "execute_result"
    }
   ],
   "source": [
    "newlist1=[x for x in fruits if x.startswith('a')]\n",
    "newlist1"
   ]
  },
  {
   "cell_type": "markdown",
   "id": "9d44e74c",
   "metadata": {},
   "source": [
    "## List of even no."
   ]
  },
  {
   "cell_type": "code",
   "execution_count": 9,
   "id": "1afb3f02",
   "metadata": {},
   "outputs": [
    {
     "name": "stdout",
     "output_type": "stream",
     "text": [
      "1\n",
      "2\n",
      "3\n",
      "4\n",
      "5\n",
      "6\n",
      "7\n",
      "8\n",
      "9\n",
      "10\n",
      "11\n",
      "12\n",
      "13\n",
      "14\n",
      "15\n",
      "16\n",
      "17\n",
      "18\n",
      "19\n",
      "20\n",
      "21\n",
      "22\n",
      "23\n",
      "24\n",
      "25\n",
      "26\n",
      "27\n",
      "28\n",
      "29\n",
      "30\n",
      "31\n",
      "32\n",
      "33\n",
      "34\n",
      "35\n",
      "36\n",
      "37\n",
      "38\n",
      "39\n",
      "40\n",
      "41\n",
      "42\n",
      "43\n",
      "44\n",
      "45\n",
      "46\n",
      "47\n",
      "48\n",
      "49\n",
      "50\n"
     ]
    }
   ],
   "source": [
    "for i in range(1,51):\n",
    "    print(i)"
   ]
  },
  {
   "cell_type": "code",
   "execution_count": 11,
   "id": "93b48d7b",
   "metadata": {},
   "outputs": [
    {
     "name": "stdout",
     "output_type": "stream",
     "text": [
      "[1, 2, 3, 4, 5, 6, 7, 8, 9, 10, 11, 12, 13, 14, 15, 16, 17, 18, 19, 20, 21, 22, 23, 24, 25, 26, 27, 28, 29, 30, 31, 32, 33, 34, 35, 36, 37, 38, 39, 40, 41, 42, 43, 44, 45, 46, 47, 48, 49, 50]\n"
     ]
    }
   ],
   "source": [
    "numbers =[n for n in range(1,51)]\n",
    "print(numbers)"
   ]
  },
  {
   "cell_type": "code",
   "execution_count": 12,
   "id": "408925a6",
   "metadata": {},
   "outputs": [
    {
     "name": "stdout",
     "output_type": "stream",
     "text": [
      "[2, 4, 6, 8, 10, 12, 14, 16, 18, 20, 22, 24, 26, 28, 30, 32, 34, 36, 38, 40, 42, 44, 46, 48, 50]\n"
     ]
    }
   ],
   "source": [
    "even_no=[x for x in range(1,51) if x%2==0]\n",
    "print(even_no)"
   ]
  },
  {
   "cell_type": "code",
   "execution_count": 13,
   "id": "5820030b",
   "metadata": {},
   "outputs": [],
   "source": [
    "n=[1,2,3,4,5,6,7]\n",
    "n2=[x*x for x in n]"
   ]
  },
  {
   "cell_type": "code",
   "execution_count": 14,
   "id": "8fed7542",
   "metadata": {},
   "outputs": [
    {
     "data": {
      "text/plain": [
       "[1, 4, 9, 16, 25, 36, 49]"
      ]
     },
     "execution_count": 14,
     "metadata": {},
     "output_type": "execute_result"
    }
   ],
   "source": [
    "n2"
   ]
  },
  {
   "cell_type": "markdown",
   "id": "5b946fab",
   "metadata": {},
   "source": [
    "## Convet a string to a uppercase()"
   ]
  },
  {
   "cell_type": "code",
   "execution_count": 16,
   "id": "89025926",
   "metadata": {},
   "outputs": [
    {
     "name": "stdout",
     "output_type": "stream",
     "text": [
      "['D', 'A', 'T', 'A', ' ', 'S', 'C', 'I', 'E', 'N', 'C', 'E']\n"
     ]
    }
   ],
   "source": [
    "string='data science'\n",
    "l=[]\n",
    "for i in string:\n",
    "    upper_chr=i.upper()\n",
    "    l.append(upper_chr)\n",
    "print(l)"
   ]
  },
  {
   "cell_type": "code",
   "execution_count": 17,
   "id": "9a926e50",
   "metadata": {},
   "outputs": [
    {
     "data": {
      "text/plain": [
       "['D', 'A', 'T', 'A', ' ', 'S', 'C', 'I', 'E', 'N', 'C', 'E']"
      ]
     },
     "execution_count": 17,
     "metadata": {},
     "output_type": "execute_result"
    }
   ],
   "source": [
    "string='data science'\n",
    "upper=[x.upper() for x in string]\n",
    "upper"
   ]
  },
  {
   "cell_type": "code",
   "execution_count": 18,
   "id": "55aedcf1",
   "metadata": {},
   "outputs": [],
   "source": [
    "s='data science'\n",
    "a=[i for i in s]"
   ]
  },
  {
   "cell_type": "code",
   "execution_count": 19,
   "id": "92f47007",
   "metadata": {},
   "outputs": [
    {
     "data": {
      "text/plain": [
       "['d', 'a', 't', 'a', ' ', 's', 'c', 'i', 'e', 'n', 'c', 'e']"
      ]
     },
     "execution_count": 19,
     "metadata": {},
     "output_type": "execute_result"
    }
   ],
   "source": [
    "a"
   ]
  },
  {
   "cell_type": "markdown",
   "id": "68541370",
   "metadata": {},
   "source": [
    "## Generating a list of tuples representing pairs of numbers:"
   ]
  },
  {
   "cell_type": "code",
   "execution_count": 20,
   "id": "d5cd1a0d",
   "metadata": {},
   "outputs": [],
   "source": [
    "# Output: [(1, 2), (2, 3), (3, 4), (4, 5)]"
   ]
  },
  {
   "cell_type": "code",
   "execution_count": 21,
   "id": "ee54a688",
   "metadata": {},
   "outputs": [],
   "source": [
    "pairs= [(x, x+1) for x in range(1,5)]"
   ]
  },
  {
   "cell_type": "code",
   "execution_count": 22,
   "id": "c117637c",
   "metadata": {},
   "outputs": [
    {
     "data": {
      "text/plain": [
       "[(1, 2), (2, 3), (3, 4), (4, 5)]"
      ]
     },
     "execution_count": 22,
     "metadata": {},
     "output_type": "execute_result"
    }
   ],
   "source": [
    "pairs"
   ]
  },
  {
   "cell_type": "markdown",
   "id": "f70acdad",
   "metadata": {},
   "source": [
    "## Creating a list of even squares using conditional expression:"
   ]
  },
  {
   "cell_type": "code",
   "execution_count": 24,
   "id": "fb7d34f5",
   "metadata": {},
   "outputs": [],
   "source": [
    "numbers = [1,2,3,4,5,6]\n",
    "even_squares = [x**2 for x in numbers if x%2 ==0]\n",
    "# Ouput: [4, 16, 36]"
   ]
  },
  {
   "cell_type": "code",
   "execution_count": 25,
   "id": "7ed99eb9",
   "metadata": {},
   "outputs": [
    {
     "data": {
      "text/plain": [
       "[4, 16, 36]"
      ]
     },
     "execution_count": 25,
     "metadata": {},
     "output_type": "execute_result"
    }
   ],
   "source": [
    "even_squares"
   ]
  },
  {
   "cell_type": "code",
   "execution_count": null,
   "id": "d5f4afef",
   "metadata": {},
   "outputs": [],
   "source": []
  }
 ],
 "metadata": {
  "kernelspec": {
   "display_name": "Python 3 (ipykernel)",
   "language": "python",
   "name": "python3"
  },
  "language_info": {
   "codemirror_mode": {
    "name": "ipython",
    "version": 3
   },
   "file_extension": ".py",
   "mimetype": "text/x-python",
   "name": "python",
   "nbconvert_exporter": "python",
   "pygments_lexer": "ipython3",
   "version": "3.11.4"
  }
 },
 "nbformat": 4,
 "nbformat_minor": 5
}
