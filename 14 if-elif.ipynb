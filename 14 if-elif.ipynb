{
 "cells": [
  {
   "cell_type": "markdown",
   "id": "298e92fe",
   "metadata": {},
   "source": [
    "# if-elif"
   ]
  },
  {
   "cell_type": "markdown",
   "id": "45cf5df9",
   "metadata": {},
   "source": [
    "## Simple Calculator"
   ]
  },
  {
   "cell_type": "code",
   "execution_count": 4,
   "id": "b806b3da",
   "metadata": {},
   "outputs": [
    {
     "name": "stdout",
     "output_type": "stream",
     "text": [
      "Enter the first number: 45\n",
      "Enter an operation (+, -, *, /, %): +\n",
      "Enter the second number: 54\n",
      "Addition of 45 and 54 is 99\n"
     ]
    }
   ],
   "source": [
    "num1 = int(input(\"Enter the first number: \"))\n",
    "operator = input(\"Enter an operation (+, -, *, /, %): \")\n",
    "num2 = int(input(\"Enter the second number: \"))\n",
    "\n",
    "if operator == \"+\":\n",
    "    result = num1 + num2\n",
    "    #print(\"Addition of \" ,num1, \"and\", num2, \"is: \",result)\n",
    "    print(f\"Addition of {num1} and {num2} is {result}\")\n",
    "\n",
    "elif operator == \"-\":\n",
    "    result = num1 - num2\n",
    "    print(f\"Substraction of {num1} and {num2} is {result}\")\n",
    "\n",
    "elif operator == \"*\":\n",
    "    result = num1 * num2\n",
    "    print(f\"Multiplication of {num1} and {num2} is {result}\")\n",
    "    \n",
    "elif operator == \"/\":\n",
    "    result = num1 / num2\n",
    "    print(f\"Division of {num1} and {num2} is {result}\")\n",
    "\n",
    "elif operator == \"%\":\n",
    "    result = num1 % num2\n",
    "    print(f\"Remainder of {num1} and {num2} is {result}\")\n",
    "    \n",
    "else:\n",
    "    print(\"Invalid Operation\")"
   ]
  },
  {
   "cell_type": "markdown",
   "id": "ed94585d",
   "metadata": {},
   "source": [
    "## Student Grade Checker"
   ]
  },
  {
   "cell_type": "code",
   "execution_count": 7,
   "id": "877bca01",
   "metadata": {},
   "outputs": [
    {
     "name": "stdout",
     "output_type": "stream",
     "text": [
      "Enter the percentage: 70\n",
      "The student's Grade is: C\n"
     ]
    }
   ],
   "source": [
    "percentage = float(input(\"Enter the percentage: \"))\n",
    "\n",
    "if percentage >=90:\n",
    "    Grade = \"A\"\n",
    "elif percentage >=80:\n",
    "    Grade = \"B\"\n",
    "elif percentage >=70:\n",
    "    Grade = \"C\"\n",
    "elif percentage >=60:\n",
    "    Grade = \"D\"\n",
    "else:\n",
    "    Grade = \"F\"\n",
    "print(f\"The student's Grade is: {Grade}\")"
   ]
  },
  {
   "cell_type": "markdown",
   "id": "376ea2e5",
   "metadata": {},
   "source": [
    "## Write programe to find minimum of three numbers"
   ]
  },
  {
   "cell_type": "code",
   "execution_count": 13,
   "id": "a1b8177d",
   "metadata": {},
   "outputs": [
    {
     "name": "stdout",
     "output_type": "stream",
     "text": [
      "Enter first number: 3\n",
      "Enter second number: 5\n",
      "Enter third number: 7\n",
      "3 is the smaller number\n"
     ]
    }
   ],
   "source": [
    "num1=int(input(\"Enter first number: \"))\n",
    "num2=int(input(\"Enter second number: \"))\n",
    "num3=int(input(\"Enter third number: \"))\n",
    "if num1 < num2 < num3:\n",
    "    print(num1,\"is the smaller number\")\n",
    "elif num2 < num1<num3:\n",
    "    print(num2,\"is the smaller number\")\n",
    "else:\n",
    "    print(num3,\"is the smaller number\")"
   ]
  },
  {
   "cell_type": "code",
   "execution_count": null,
   "id": "acf229eb",
   "metadata": {},
   "outputs": [],
   "source": []
  },
  {
   "cell_type": "code",
   "execution_count": null,
   "id": "d3905826",
   "metadata": {},
   "outputs": [],
   "source": []
  }
 ],
 "metadata": {
  "kernelspec": {
   "display_name": "Python 3 (ipykernel)",
   "language": "python",
   "name": "python3"
  },
  "language_info": {
   "codemirror_mode": {
    "name": "ipython",
    "version": 3
   },
   "file_extension": ".py",
   "mimetype": "text/x-python",
   "name": "python",
   "nbconvert_exporter": "python",
   "pygments_lexer": "ipython3",
   "version": "3.11.4"
  }
 },
 "nbformat": 4,
 "nbformat_minor": 5
}
