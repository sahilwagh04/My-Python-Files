{
 "cells": [
  {
   "cell_type": "code",
   "execution_count": 1,
   "id": "84cfacf4",
   "metadata": {},
   "outputs": [
    {
     "data": {
      "text/plain": [
       "15"
      ]
     },
     "execution_count": 1,
     "metadata": {},
     "output_type": "execute_result"
    }
   ],
   "source": [
    "add=lambda x,y:x+y\n",
    "add(7,8)"
   ]
  },
  {
   "cell_type": "code",
   "execution_count": 2,
   "id": "deeb4541",
   "metadata": {},
   "outputs": [],
   "source": [
    "def add1(p,q):\n",
    "    c=p+q\n",
    "    return(c)"
   ]
  },
  {
   "cell_type": "code",
   "execution_count": 3,
   "id": "62d91e4f",
   "metadata": {},
   "outputs": [
    {
     "data": {
      "text/plain": [
       "10"
      ]
     },
     "execution_count": 3,
     "metadata": {},
     "output_type": "execute_result"
    }
   ],
   "source": [
    "add(5,5)"
   ]
  },
  {
   "cell_type": "markdown",
   "id": "f9ef2ba0",
   "metadata": {},
   "source": [
    "## filter()"
   ]
  },
  {
   "cell_type": "code",
   "execution_count": 6,
   "id": "f1d25798",
   "metadata": {},
   "outputs": [
    {
     "name": "stdout",
     "output_type": "stream",
     "text": [
      "(67,)\n"
     ]
    }
   ],
   "source": [
    "l=(56,33,13,23,22,45,56,67,3)\n",
    "x=tuple(filter(lambda a:a>57,l))\n",
    "print(x)"
   ]
  },
  {
   "cell_type": "markdown",
   "id": "173f2e7e",
   "metadata": {},
   "source": [
    "## map()"
   ]
  },
  {
   "cell_type": "code",
   "execution_count": 7,
   "id": "9874a9c7",
   "metadata": {},
   "outputs": [
    {
     "name": "stdout",
     "output_type": "stream",
     "text": [
      "[1, 4, 9, 16, 25, 36, 49, 64, 81]\n"
     ]
    }
   ],
   "source": [
    "nums=[1,2,3,4,5,6,7,8,9]\n",
    "square=list(map(lambda a:a*a,nums))\n",
    "print(square)"
   ]
  },
  {
   "cell_type": "markdown",
   "id": "5095a380",
   "metadata": {},
   "source": [
    "## reduce()"
   ]
  },
  {
   "cell_type": "markdown",
   "id": "6a3c08cf",
   "metadata": {},
   "source": [
    "The reduce (fn,seq) fn is used to apply a particular fn passed in its arguments to all of the list elements mentioned in the sequence passed along.\n",
    "List elements mentioned in the sequence passed along.\n",
    "- defined i9n \"functools\" modules \n",
    "- 2 4 6 8\n",
    "- 2+4 6 8\n",
    "- 6+6 8\n",
    "- 12+8\n",
    "- 20\n",
    "- At first step, 1st 2 element of a sequence are picked and the result is obtained.\n",
    "\n",
    "syntax:\n",
    "- from functools import reduce\n",
    "reduce = reduce(lambda x,y: expression, iterable)"
   ]
  },
  {
   "cell_type": "code",
   "execution_count": 8,
   "id": "1e6cf497",
   "metadata": {},
   "outputs": [],
   "source": [
    "from functools import reduce\n",
    "def myfn(a,b):\n",
    "    return a*b"
   ]
  },
  {
   "cell_type": "code",
   "execution_count": 11,
   "id": "afa57c6b",
   "metadata": {},
   "outputs": [
    {
     "data": {
      "text/plain": [
       "5040"
      ]
     },
     "execution_count": 11,
     "metadata": {},
     "output_type": "execute_result"
    }
   ],
   "source": [
    "val = [1,2,3,4,5,6,7]\n",
    "add=reduce(myfn,val)\n",
    "add"
   ]
  },
  {
   "cell_type": "code",
   "execution_count": 12,
   "id": "13784e8a",
   "metadata": {},
   "outputs": [],
   "source": [
    "add_lambda=reduce(lambda a,b:a+b,val)"
   ]
  },
  {
   "cell_type": "code",
   "execution_count": 13,
   "id": "a8005b8a",
   "metadata": {},
   "outputs": [
    {
     "data": {
      "text/plain": [
       "28"
      ]
     },
     "execution_count": 13,
     "metadata": {},
     "output_type": "execute_result"
    }
   ],
   "source": [
    "add_lambda"
   ]
  },
  {
   "cell_type": "markdown",
   "id": "ee773c58",
   "metadata": {},
   "source": [
    "## Finding max value in the list using Reduce function"
   ]
  },
  {
   "cell_type": "code",
   "execution_count": 14,
   "id": "81cc9512",
   "metadata": {},
   "outputs": [],
   "source": [
    "def maximum(a,b):\n",
    "    if a>b:\n",
    "        return a\n",
    "    else:\n",
    "        return b"
   ]
  },
  {
   "cell_type": "code",
   "execution_count": 15,
   "id": "49e0cc20",
   "metadata": {},
   "outputs": [],
   "source": [
    "val=[2,4,5,7,10,19,20,10]\n",
    "max1=reduce(maximum,val)"
   ]
  },
  {
   "cell_type": "code",
   "execution_count": 16,
   "id": "4787e6d7",
   "metadata": {},
   "outputs": [
    {
     "data": {
      "text/plain": [
       "20"
      ]
     },
     "execution_count": 16,
     "metadata": {},
     "output_type": "execute_result"
    }
   ],
   "source": [
    "max1"
   ]
  },
  {
   "cell_type": "code",
   "execution_count": 17,
   "id": "869245bb",
   "metadata": {},
   "outputs": [],
   "source": [
    "max_lambda=reduce(lambda a,b:a if a>b else b,val)"
   ]
  },
  {
   "cell_type": "code",
   "execution_count": 18,
   "id": "bf73b5d3",
   "metadata": {},
   "outputs": [
    {
     "data": {
      "text/plain": [
       "20"
      ]
     },
     "execution_count": 18,
     "metadata": {},
     "output_type": "execute_result"
    }
   ],
   "source": [
    "max_lambda"
   ]
  },
  {
   "cell_type": "markdown",
   "id": "52556318",
   "metadata": {},
   "source": [
    "## Product of numbers"
   ]
  },
  {
   "cell_type": "code",
   "execution_count": 19,
   "id": "2c27eb0a",
   "metadata": {},
   "outputs": [
    {
     "name": "stdout",
     "output_type": "stream",
     "text": [
      "Product of elements: 120\n"
     ]
    }
   ],
   "source": [
    "numbers=[1, 2, 3, 4, 5]\n",
    "product = reduce(lambda x,y : x*y, numbers)\n",
    "\n",
    "print(\"Product of elements:\", product)"
   ]
  },
  {
   "cell_type": "code",
   "execution_count": null,
   "id": "72a154e6",
   "metadata": {},
   "outputs": [],
   "source": []
  }
 ],
 "metadata": {
  "kernelspec": {
   "display_name": "Python 3 (ipykernel)",
   "language": "python",
   "name": "python3"
  },
  "language_info": {
   "codemirror_mode": {
    "name": "ipython",
    "version": 3
   },
   "file_extension": ".py",
   "mimetype": "text/x-python",
   "name": "python",
   "nbconvert_exporter": "python",
   "pygments_lexer": "ipython3",
   "version": "3.11.4"
  }
 },
 "nbformat": 4,
 "nbformat_minor": 5
}
